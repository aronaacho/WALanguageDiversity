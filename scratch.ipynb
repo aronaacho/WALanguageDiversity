{
 "cells": [
  {
   "cell_type": "code",
   "execution_count": 422,
   "metadata": {},
   "outputs": [],
   "source": [
    "import pandas as pd\n",
    "import plotly.express as px\n",
    "import plotly.graph_objects as go\n",
    "import statsmodels.api as sm\n",
    "from plotly.subplots import make_subplots\n",
    "import plotly.express as px"
   ]
  },
  {
   "cell_type": "code",
   "execution_count": 423,
   "metadata": {},
   "outputs": [],
   "source": [
    "\n",
    "def clean(series):\n",
    "    '''\n",
    "    A function to clean columns in a dataframe to all lowercase strings.\n",
    "    Returns a cleaned list of the given column.\n",
    "    '''\n",
    "    cleaned = []\n",
    "    for row in series:\n",
    "        cleaned.append(str(row).lower())\n",
    "    return cleaned\n",
    "\n",
    "def clean_df(df):\n",
    "    '''\n",
    "    A function to clean columns in a dataframe to all lowercase strings,\n",
    "    cleans whitespace, and replaces within-name whitespace with underscores.\n",
    "    Returns a dataframe.\n",
    "    '''\n",
    "    df.columns = [name.strip().lower().replace(' ','_') for name in df.columns]\n",
    "    return df\n",
    "\n",
    "def reformat_census_df(df, num_levels):\n",
    "    '''\n",
    "    Returns a reformatted US census dataframe, with multi-indexes.\n",
    "    This function only takes in US census csv data, and must meet these requirements.\n",
    "    - The faux-index is named \"Label (Grouping)\"\n",
    "    - Faux-index includes one string of a multi-index, with '!!' as the delimiter\n",
    "    - Has a County and Ratio equivalent within the multi-index levels\n",
    "        - Ratio ex: Exstimate, percent\n",
    "    '''\n",
    "    df.set_index('Label (Grouping)', inplace=True)\n",
    "    df = df.transpose()\n",
    "    df['temp_index'] = df.index\n",
    "    regex_pattern = r\"^[\\w,\\s]+\"\n",
    "    for i in range(num_levels - 1):\n",
    "        regex_pattern += \"\\!\\![\\w,\\s]+\"\n",
    "    regex_pattern += \"$\"\n",
    "    df = df.loc[df['temp_index'].str.contains(regex_pattern)]\n",
    "    df.insert(0, \"County\", \"\")\n",
    "    df.insert(1, \"Ratio\", \"\")\n",
    "\n",
    "    for row in df['temp_index']:\n",
    "        terms = row.split(\"!!\")\n",
    "        terms[0] = terms[0].split(\",\")[0]\n",
    "        df.loc[row, ['County']] = terms[0]\n",
    "        df.loc[row, ['Ratio']] = terms[1]\n",
    "\n",
    "    df.rename_axis(None, axis=1, inplace=True)\n",
    "    df.set_index(['County', 'Ratio'], inplace=True)\n",
    "    df.drop(columns=['temp_index'], inplace=True, axis=1)\n",
    "    return df"
   ]
  },
  {
   "cell_type": "markdown",
   "metadata": {},
   "source": [
    " 1. How does language diversity in each Washington county affect their educational attainment outcomes?\n"
   ]
  },
  {
   "cell_type": "code",
   "execution_count": 424,
   "metadata": {},
   "outputs": [
    {
     "data": {
      "application/vnd.plotly.v1+json": {
       "config": {
        "plotlyServerURL": "https://plot.ly"
       },
       "data": [
        {
         "marker": {
          "color": "green",
          "line": {
           "color": "rgb(8,48,107)",
           "width": 2
          }
         },
         "name": "Undergraduate",
         "opacity": 0.4,
         "showlegend": true,
         "type": "bar",
         "x": [
          "Washington",
          "Adams County",
          "Asotin County",
          "Benton County",
          "Chelan County",
          "Clallam County",
          "Clark County",
          "Columbia County",
          "Cowlitz County",
          "Douglas County",
          "Ferry County",
          "Franklin County",
          "Garfield County",
          "Grant County",
          "Grays Harbor County",
          "Island County",
          "Jefferson County",
          "King County",
          "Kitsap County",
          "Kittitas County",
          "Klickitat County",
          "Lewis County",
          "Lincoln County",
          "Mason County",
          "Okanogan County",
          "Pacific County",
          "Pend Oreille County",
          "Pierce County",
          "San Juan County",
          "Skagit County",
          "Skamania County",
          "Snohomish County",
          "Spokane County",
          "Stevens County",
          "Thurston County",
          "Wahkiakum County",
          "Walla Walla County",
          "Whatcom County",
          "Whitman County",
          "Yakima County"
         ],
         "xaxis": "x",
         "y": [
          0.20600000000000002,
          0.087,
          0.13699999999999998,
          0.151,
          0.17300000000000001,
          0.16699999999999998,
          0.16699999999999998,
          0.231,
          0.18100000000000002,
          0.124,
          0.076,
          0.134,
          0.11900000000000001,
          0.122,
          0.125,
          0.19899999999999998,
          0.16699999999999998,
          0.221,
          0.191,
          0.479,
          0.111,
          0.155,
          0.059000000000000004,
          0.145,
          0.127,
          0.161,
          0.091,
          0.196,
          0.099,
          0.16,
          0.17300000000000001,
          0.182,
          0.244,
          0.091,
          0.212,
          0.11900000000000001,
          0.313,
          0.349,
          0.626,
          0.13
         ],
         "yaxis": "y"
        },
        {
         "marker": {
          "color": "blue",
          "line": {
           "color": "rgb(8,48,107)",
           "width": 2
          }
         },
         "name": "Postgraduate Enrollment",
         "opacity": 0.4,
         "showlegend": true,
         "type": "bar",
         "x": [
          "Washington",
          "Adams County",
          "Asotin County",
          "Benton County",
          "Chelan County",
          "Clallam County",
          "Clark County",
          "Columbia County",
          "Cowlitz County",
          "Douglas County",
          "Ferry County",
          "Franklin County",
          "Garfield County",
          "Grant County",
          "Grays Harbor County",
          "Island County",
          "Jefferson County",
          "King County",
          "Kitsap County",
          "Kittitas County",
          "Klickitat County",
          "Lewis County",
          "Lincoln County",
          "Mason County",
          "Okanogan County",
          "Pacific County",
          "Pend Oreille County",
          "Pierce County",
          "San Juan County",
          "Skagit County",
          "Skamania County",
          "Snohomish County",
          "Spokane County",
          "Stevens County",
          "Thurston County",
          "Wahkiakum County",
          "Walla Walla County",
          "Whatcom County",
          "Whitman County",
          "Yakima County"
         ],
         "xaxis": "x",
         "y": [
          0.053,
          0.008,
          0.01,
          0.036000000000000004,
          0.033,
          0.038,
          0.036000000000000004,
          0.051,
          0.027999999999999997,
          0.02,
          0.01,
          0.031,
          0,
          0.024,
          0.021,
          0.043,
          0.040999999999999995,
          0.081,
          0.042,
          0.057,
          0.036000000000000004,
          0.031,
          0.013999999999999999,
          0.043,
          0.037000000000000005,
          0.016,
          0.025,
          0.048,
          0.057,
          0.037000000000000005,
          0.024,
          0.043,
          0.045,
          0.017,
          0.046,
          0.015,
          0.035,
          0.036000000000000004,
          0.129,
          0.03
         ],
         "yaxis": "y"
        },
        {
         "line": {
          "color": "#AB63FA"
         },
         "name": "spanish",
         "type": "scatter",
         "x": [
          "Washington",
          "Adams County",
          "Asotin County",
          "Benton County",
          "Chelan County",
          "Clallam County",
          "Clark County",
          "Columbia County",
          "Cowlitz County",
          "Douglas County",
          "Ferry County",
          "Franklin County",
          "Garfield County",
          "Grant County",
          "Grays Harbor County",
          "Island County",
          "Jefferson County",
          "King County",
          "Kitsap County",
          "Kittitas County",
          "Klickitat County",
          "Lewis County",
          "Lincoln County",
          "Mason County",
          "Okanogan County",
          "Pacific County",
          "Pend Oreille County",
          "Pierce County",
          "San Juan County",
          "Skagit County",
          "Skamania County",
          "Snohomish County",
          "Spokane County",
          "Stevens County",
          "Thurston County",
          "Wahkiakum County",
          "Walla Walla County",
          "Whatcom County",
          "Whitman County",
          "Yakima County"
         ],
         "xaxis": "x",
         "y": [
          0.087,
          0.489,
          0.025,
          0.163,
          0.24100000000000002,
          0.031,
          0.063,
          0.055999999999999994,
          0.053,
          0.272,
          0.01,
          0.45,
          0.028999999999999998,
          0.332,
          0.066,
          0.037000000000000005,
          0.024,
          0.066,
          0.031,
          0.046,
          0.107,
          0.064,
          0.013000000000000001,
          0.066,
          0.174,
          0.071,
          0.008,
          0.063,
          0.034,
          0.134,
          0.035,
          0.07,
          0.023,
          0.016,
          0.047,
          0.040999999999999995,
          0.16,
          0.062,
          0.034,
          0.40700000000000003
         ],
         "yaxis": "y"
        },
        {
         "marker": {
          "color": "green",
          "line": {
           "color": "rgb(8,48,107)",
           "width": 2
          }
         },
         "name": "Undergraduate",
         "opacity": 0.4,
         "showlegend": false,
         "type": "bar",
         "x": [
          "Washington",
          "Adams County",
          "Asotin County",
          "Benton County",
          "Chelan County",
          "Clallam County",
          "Clark County",
          "Columbia County",
          "Cowlitz County",
          "Douglas County",
          "Ferry County",
          "Franklin County",
          "Garfield County",
          "Grant County",
          "Grays Harbor County",
          "Island County",
          "Jefferson County",
          "King County",
          "Kitsap County",
          "Kittitas County",
          "Klickitat County",
          "Lewis County",
          "Lincoln County",
          "Mason County",
          "Okanogan County",
          "Pacific County",
          "Pend Oreille County",
          "Pierce County",
          "San Juan County",
          "Skagit County",
          "Skamania County",
          "Snohomish County",
          "Spokane County",
          "Stevens County",
          "Thurston County",
          "Wahkiakum County",
          "Walla Walla County",
          "Whatcom County",
          "Whitman County",
          "Yakima County"
         ],
         "xaxis": "x2",
         "y": [
          0.20600000000000002,
          0.087,
          0.13699999999999998,
          0.151,
          0.17300000000000001,
          0.16699999999999998,
          0.16699999999999998,
          0.231,
          0.18100000000000002,
          0.124,
          0.076,
          0.134,
          0.11900000000000001,
          0.122,
          0.125,
          0.19899999999999998,
          0.16699999999999998,
          0.221,
          0.191,
          0.479,
          0.111,
          0.155,
          0.059000000000000004,
          0.145,
          0.127,
          0.161,
          0.091,
          0.196,
          0.099,
          0.16,
          0.17300000000000001,
          0.182,
          0.244,
          0.091,
          0.212,
          0.11900000000000001,
          0.313,
          0.349,
          0.626,
          0.13
         ],
         "yaxis": "y2"
        },
        {
         "marker": {
          "color": "blue",
          "line": {
           "color": "rgb(8,48,107)",
           "width": 2
          }
         },
         "name": "Postgraduate Enrollment",
         "opacity": 0.4,
         "showlegend": false,
         "type": "bar",
         "x": [
          "Washington",
          "Adams County",
          "Asotin County",
          "Benton County",
          "Chelan County",
          "Clallam County",
          "Clark County",
          "Columbia County",
          "Cowlitz County",
          "Douglas County",
          "Ferry County",
          "Franklin County",
          "Garfield County",
          "Grant County",
          "Grays Harbor County",
          "Island County",
          "Jefferson County",
          "King County",
          "Kitsap County",
          "Kittitas County",
          "Klickitat County",
          "Lewis County",
          "Lincoln County",
          "Mason County",
          "Okanogan County",
          "Pacific County",
          "Pend Oreille County",
          "Pierce County",
          "San Juan County",
          "Skagit County",
          "Skamania County",
          "Snohomish County",
          "Spokane County",
          "Stevens County",
          "Thurston County",
          "Wahkiakum County",
          "Walla Walla County",
          "Whatcom County",
          "Whitman County",
          "Yakima County"
         ],
         "xaxis": "x2",
         "y": [
          0.053,
          0.008,
          0.01,
          0.036000000000000004,
          0.033,
          0.038,
          0.036000000000000004,
          0.051,
          0.027999999999999997,
          0.02,
          0.01,
          0.031,
          0,
          0.024,
          0.021,
          0.043,
          0.040999999999999995,
          0.081,
          0.042,
          0.057,
          0.036000000000000004,
          0.031,
          0.013999999999999999,
          0.043,
          0.037000000000000005,
          0.016,
          0.025,
          0.048,
          0.057,
          0.037000000000000005,
          0.024,
          0.043,
          0.045,
          0.017,
          0.046,
          0.015,
          0.035,
          0.036000000000000004,
          0.129,
          0.03
         ],
         "yaxis": "y2"
        },
        {
         "line": {
          "color": "#FFA15A"
         },
         "name": "other_indo-european_languages",
         "type": "scatter",
         "x": [
          "Washington",
          "Adams County",
          "Asotin County",
          "Benton County",
          "Chelan County",
          "Clallam County",
          "Clark County",
          "Columbia County",
          "Cowlitz County",
          "Douglas County",
          "Ferry County",
          "Franklin County",
          "Garfield County",
          "Grant County",
          "Grays Harbor County",
          "Island County",
          "Jefferson County",
          "King County",
          "Kitsap County",
          "Kittitas County",
          "Klickitat County",
          "Lewis County",
          "Lincoln County",
          "Mason County",
          "Okanogan County",
          "Pacific County",
          "Pend Oreille County",
          "Pierce County",
          "San Juan County",
          "Skagit County",
          "Skamania County",
          "Snohomish County",
          "Spokane County",
          "Stevens County",
          "Thurston County",
          "Wahkiakum County",
          "Walla Walla County",
          "Whatcom County",
          "Whitman County",
          "Yakima County"
         ],
         "xaxis": "x2",
         "y": [
          0.042,
          0.008,
          0.005,
          0.023,
          0.013000000000000001,
          0.013999999999999999,
          0.055,
          0.002,
          0.012,
          0.006999999999999999,
          0.01,
          0.026000000000000002,
          0.008,
          0.018000000000000002,
          0.01,
          0.018000000000000002,
          0.02,
          0.073,
          0.013000000000000001,
          0.008,
          0.012,
          0.01,
          0.009000000000000001,
          0.006999999999999999,
          0.006,
          0.016,
          0.003,
          0.028999999999999998,
          0.02,
          0.015,
          0.006999999999999999,
          0.055,
          0.025,
          0.015,
          0.023,
          0.006999999999999999,
          0.02,
          0.03,
          0.034,
          0.005
         ],
         "yaxis": "y2"
        },
        {
         "marker": {
          "color": "green",
          "line": {
           "color": "rgb(8,48,107)",
           "width": 2
          }
         },
         "name": "Undergraduate",
         "opacity": 0.4,
         "showlegend": false,
         "type": "bar",
         "x": [
          "Washington",
          "Adams County",
          "Asotin County",
          "Benton County",
          "Chelan County",
          "Clallam County",
          "Clark County",
          "Columbia County",
          "Cowlitz County",
          "Douglas County",
          "Ferry County",
          "Franklin County",
          "Garfield County",
          "Grant County",
          "Grays Harbor County",
          "Island County",
          "Jefferson County",
          "King County",
          "Kitsap County",
          "Kittitas County",
          "Klickitat County",
          "Lewis County",
          "Lincoln County",
          "Mason County",
          "Okanogan County",
          "Pacific County",
          "Pend Oreille County",
          "Pierce County",
          "San Juan County",
          "Skagit County",
          "Skamania County",
          "Snohomish County",
          "Spokane County",
          "Stevens County",
          "Thurston County",
          "Wahkiakum County",
          "Walla Walla County",
          "Whatcom County",
          "Whitman County",
          "Yakima County"
         ],
         "xaxis": "x3",
         "y": [
          0.20600000000000002,
          0.087,
          0.13699999999999998,
          0.151,
          0.17300000000000001,
          0.16699999999999998,
          0.16699999999999998,
          0.231,
          0.18100000000000002,
          0.124,
          0.076,
          0.134,
          0.11900000000000001,
          0.122,
          0.125,
          0.19899999999999998,
          0.16699999999999998,
          0.221,
          0.191,
          0.479,
          0.111,
          0.155,
          0.059000000000000004,
          0.145,
          0.127,
          0.161,
          0.091,
          0.196,
          0.099,
          0.16,
          0.17300000000000001,
          0.182,
          0.244,
          0.091,
          0.212,
          0.11900000000000001,
          0.313,
          0.349,
          0.626,
          0.13
         ],
         "yaxis": "y3"
        },
        {
         "marker": {
          "color": "blue",
          "line": {
           "color": "rgb(8,48,107)",
           "width": 2
          }
         },
         "name": "Postgraduate Enrollment",
         "opacity": 0.4,
         "showlegend": false,
         "type": "bar",
         "x": [
          "Washington",
          "Adams County",
          "Asotin County",
          "Benton County",
          "Chelan County",
          "Clallam County",
          "Clark County",
          "Columbia County",
          "Cowlitz County",
          "Douglas County",
          "Ferry County",
          "Franklin County",
          "Garfield County",
          "Grant County",
          "Grays Harbor County",
          "Island County",
          "Jefferson County",
          "King County",
          "Kitsap County",
          "Kittitas County",
          "Klickitat County",
          "Lewis County",
          "Lincoln County",
          "Mason County",
          "Okanogan County",
          "Pacific County",
          "Pend Oreille County",
          "Pierce County",
          "San Juan County",
          "Skagit County",
          "Skamania County",
          "Snohomish County",
          "Spokane County",
          "Stevens County",
          "Thurston County",
          "Wahkiakum County",
          "Walla Walla County",
          "Whatcom County",
          "Whitman County",
          "Yakima County"
         ],
         "xaxis": "x3",
         "y": [
          0.053,
          0.008,
          0.01,
          0.036000000000000004,
          0.033,
          0.038,
          0.036000000000000004,
          0.051,
          0.027999999999999997,
          0.02,
          0.01,
          0.031,
          0,
          0.024,
          0.021,
          0.043,
          0.040999999999999995,
          0.081,
          0.042,
          0.057,
          0.036000000000000004,
          0.031,
          0.013999999999999999,
          0.043,
          0.037000000000000005,
          0.016,
          0.025,
          0.048,
          0.057,
          0.037000000000000005,
          0.024,
          0.043,
          0.045,
          0.017,
          0.046,
          0.015,
          0.035,
          0.036000000000000004,
          0.129,
          0.03
         ],
         "yaxis": "y3"
        },
        {
         "line": {
          "color": "#FF97FF"
         },
         "name": "asian_and_pacific_island_languages",
         "type": "scatter",
         "x": [
          "Washington",
          "Adams County",
          "Asotin County",
          "Benton County",
          "Chelan County",
          "Clallam County",
          "Clark County",
          "Columbia County",
          "Cowlitz County",
          "Douglas County",
          "Ferry County",
          "Franklin County",
          "Garfield County",
          "Grant County",
          "Grays Harbor County",
          "Island County",
          "Jefferson County",
          "King County",
          "Kitsap County",
          "Kittitas County",
          "Klickitat County",
          "Lewis County",
          "Lincoln County",
          "Mason County",
          "Okanogan County",
          "Pacific County",
          "Pend Oreille County",
          "Pierce County",
          "San Juan County",
          "Skagit County",
          "Skamania County",
          "Snohomish County",
          "Spokane County",
          "Stevens County",
          "Thurston County",
          "Wahkiakum County",
          "Walla Walla County",
          "Whatcom County",
          "Whitman County",
          "Yakima County"
         ],
         "xaxis": "x3",
         "y": [
          0.063,
          0.005,
          0.013000000000000001,
          0.019,
          0.006999999999999999,
          0.008,
          0.034,
          0.008,
          0.01,
          0.006,
          0.008,
          0.011000000000000001,
          0,
          0.005,
          0.01,
          0.036000000000000004,
          0.011000000000000001,
          0.126,
          0.035,
          0.009000000000000001,
          0.003,
          0.008,
          0.01,
          0.01,
          0.004,
          0.013000000000000001,
          0.003,
          0.055999999999999994,
          0.009000000000000001,
          0.013999999999999999,
          0.005,
          0.08199999999999999,
          0.017,
          0.004,
          0.046,
          0.005,
          0.012,
          0.024,
          0.049,
          0.009000000000000001
         ],
         "yaxis": "y3"
        },
        {
         "marker": {
          "color": "green",
          "line": {
           "color": "rgb(8,48,107)",
           "width": 2
          }
         },
         "name": "Undergraduate",
         "opacity": 0.4,
         "showlegend": false,
         "type": "bar",
         "x": [
          "Washington",
          "Adams County",
          "Asotin County",
          "Benton County",
          "Chelan County",
          "Clallam County",
          "Clark County",
          "Columbia County",
          "Cowlitz County",
          "Douglas County",
          "Ferry County",
          "Franklin County",
          "Garfield County",
          "Grant County",
          "Grays Harbor County",
          "Island County",
          "Jefferson County",
          "King County",
          "Kitsap County",
          "Kittitas County",
          "Klickitat County",
          "Lewis County",
          "Lincoln County",
          "Mason County",
          "Okanogan County",
          "Pacific County",
          "Pend Oreille County",
          "Pierce County",
          "San Juan County",
          "Skagit County",
          "Skamania County",
          "Snohomish County",
          "Spokane County",
          "Stevens County",
          "Thurston County",
          "Wahkiakum County",
          "Walla Walla County",
          "Whatcom County",
          "Whitman County",
          "Yakima County"
         ],
         "xaxis": "x4",
         "y": [
          0.20600000000000002,
          0.087,
          0.13699999999999998,
          0.151,
          0.17300000000000001,
          0.16699999999999998,
          0.16699999999999998,
          0.231,
          0.18100000000000002,
          0.124,
          0.076,
          0.134,
          0.11900000000000001,
          0.122,
          0.125,
          0.19899999999999998,
          0.16699999999999998,
          0.221,
          0.191,
          0.479,
          0.111,
          0.155,
          0.059000000000000004,
          0.145,
          0.127,
          0.161,
          0.091,
          0.196,
          0.099,
          0.16,
          0.17300000000000001,
          0.182,
          0.244,
          0.091,
          0.212,
          0.11900000000000001,
          0.313,
          0.349,
          0.626,
          0.13
         ],
         "yaxis": "y4"
        },
        {
         "marker": {
          "color": "blue",
          "line": {
           "color": "rgb(8,48,107)",
           "width": 2
          }
         },
         "name": "Postgraduate Enrollment",
         "opacity": 0.4,
         "showlegend": false,
         "type": "bar",
         "x": [
          "Washington",
          "Adams County",
          "Asotin County",
          "Benton County",
          "Chelan County",
          "Clallam County",
          "Clark County",
          "Columbia County",
          "Cowlitz County",
          "Douglas County",
          "Ferry County",
          "Franklin County",
          "Garfield County",
          "Grant County",
          "Grays Harbor County",
          "Island County",
          "Jefferson County",
          "King County",
          "Kitsap County",
          "Kittitas County",
          "Klickitat County",
          "Lewis County",
          "Lincoln County",
          "Mason County",
          "Okanogan County",
          "Pacific County",
          "Pend Oreille County",
          "Pierce County",
          "San Juan County",
          "Skagit County",
          "Skamania County",
          "Snohomish County",
          "Spokane County",
          "Stevens County",
          "Thurston County",
          "Wahkiakum County",
          "Walla Walla County",
          "Whatcom County",
          "Whitman County",
          "Yakima County"
         ],
         "xaxis": "x4",
         "y": [
          0.053,
          0.008,
          0.01,
          0.036000000000000004,
          0.033,
          0.038,
          0.036000000000000004,
          0.051,
          0.027999999999999997,
          0.02,
          0.01,
          0.031,
          0,
          0.024,
          0.021,
          0.043,
          0.040999999999999995,
          0.081,
          0.042,
          0.057,
          0.036000000000000004,
          0.031,
          0.013999999999999999,
          0.043,
          0.037000000000000005,
          0.016,
          0.025,
          0.048,
          0.057,
          0.037000000000000005,
          0.024,
          0.043,
          0.045,
          0.017,
          0.046,
          0.015,
          0.035,
          0.036000000000000004,
          0.129,
          0.03
         ],
         "yaxis": "y4"
        },
        {
         "line": {
          "color": "#EF553B"
         },
         "name": "other_languages",
         "type": "scatter",
         "x": [
          "Washington",
          "Adams County",
          "Asotin County",
          "Benton County",
          "Chelan County",
          "Clallam County",
          "Clark County",
          "Columbia County",
          "Cowlitz County",
          "Douglas County",
          "Ferry County",
          "Franklin County",
          "Garfield County",
          "Grant County",
          "Grays Harbor County",
          "Island County",
          "Jefferson County",
          "King County",
          "Kitsap County",
          "Kittitas County",
          "Klickitat County",
          "Lewis County",
          "Lincoln County",
          "Mason County",
          "Okanogan County",
          "Pacific County",
          "Pend Oreille County",
          "Pierce County",
          "San Juan County",
          "Skagit County",
          "Skamania County",
          "Snohomish County",
          "Spokane County",
          "Stevens County",
          "Thurston County",
          "Wahkiakum County",
          "Walla Walla County",
          "Whatcom County",
          "Whitman County",
          "Yakima County"
         ],
         "xaxis": "x4",
         "y": [
          0.013999999999999999,
          0.009000000000000001,
          0.001,
          0.009000000000000001,
          0,
          0.004,
          0.006,
          0,
          0.001,
          0,
          0.009000000000000001,
          0.004,
          0,
          0.001,
          0.004,
          0.003,
          0.003,
          0.028999999999999998,
          0.004,
          0.002,
          0.004,
          0,
          0,
          0.004,
          0.006,
          0,
          0.004,
          0.009000000000000001,
          0.002,
          0.003,
          0,
          0.022000000000000002,
          0.008,
          0.003,
          0.004,
          0.001,
          0.003,
          0.006,
          0.01,
          0.004
         ],
         "yaxis": "y4"
        }
       ],
       "layout": {
        "annotations": [
         {
          "font": {
           "size": 16
          },
          "showarrow": false,
          "text": "Spanish Speakers",
          "x": 0.225,
          "xanchor": "center",
          "xref": "paper",
          "y": 1,
          "yanchor": "bottom",
          "yref": "paper"
         },
         {
          "font": {
           "size": 16
          },
          "showarrow": false,
          "text": "Other Indo-European Language Speakers",
          "x": 0.775,
          "xanchor": "center",
          "xref": "paper",
          "y": 1,
          "yanchor": "bottom",
          "yref": "paper"
         },
         {
          "font": {
           "size": 16
          },
          "showarrow": false,
          "text": "Asian & Pacific Island Language Speakers",
          "x": 0.225,
          "xanchor": "center",
          "xref": "paper",
          "y": 0.375,
          "yanchor": "bottom",
          "yref": "paper"
         },
         {
          "font": {
           "size": 16
          },
          "showarrow": false,
          "text": "Other Language Speakers",
          "x": 0.775,
          "xanchor": "center",
          "xref": "paper",
          "y": 0.375,
          "yanchor": "bottom",
          "yref": "paper"
         }
        ],
        "autosize": false,
        "height": 1250,
        "template": {
         "data": {
          "bar": [
           {
            "error_x": {
             "color": "#2a3f5f"
            },
            "error_y": {
             "color": "#2a3f5f"
            },
            "marker": {
             "line": {
              "color": "#E5ECF6",
              "width": 0.5
             },
             "pattern": {
              "fillmode": "overlay",
              "size": 10,
              "solidity": 0.2
             }
            },
            "type": "bar"
           }
          ],
          "barpolar": [
           {
            "marker": {
             "line": {
              "color": "#E5ECF6",
              "width": 0.5
             },
             "pattern": {
              "fillmode": "overlay",
              "size": 10,
              "solidity": 0.2
             }
            },
            "type": "barpolar"
           }
          ],
          "carpet": [
           {
            "aaxis": {
             "endlinecolor": "#2a3f5f",
             "gridcolor": "white",
             "linecolor": "white",
             "minorgridcolor": "white",
             "startlinecolor": "#2a3f5f"
            },
            "baxis": {
             "endlinecolor": "#2a3f5f",
             "gridcolor": "white",
             "linecolor": "white",
             "minorgridcolor": "white",
             "startlinecolor": "#2a3f5f"
            },
            "type": "carpet"
           }
          ],
          "choropleth": [
           {
            "colorbar": {
             "outlinewidth": 0,
             "ticks": ""
            },
            "type": "choropleth"
           }
          ],
          "contour": [
           {
            "colorbar": {
             "outlinewidth": 0,
             "ticks": ""
            },
            "colorscale": [
             [
              0,
              "#0d0887"
             ],
             [
              0.1111111111111111,
              "#46039f"
             ],
             [
              0.2222222222222222,
              "#7201a8"
             ],
             [
              0.3333333333333333,
              "#9c179e"
             ],
             [
              0.4444444444444444,
              "#bd3786"
             ],
             [
              0.5555555555555556,
              "#d8576b"
             ],
             [
              0.6666666666666666,
              "#ed7953"
             ],
             [
              0.7777777777777778,
              "#fb9f3a"
             ],
             [
              0.8888888888888888,
              "#fdca26"
             ],
             [
              1,
              "#f0f921"
             ]
            ],
            "type": "contour"
           }
          ],
          "contourcarpet": [
           {
            "colorbar": {
             "outlinewidth": 0,
             "ticks": ""
            },
            "type": "contourcarpet"
           }
          ],
          "heatmap": [
           {
            "colorbar": {
             "outlinewidth": 0,
             "ticks": ""
            },
            "colorscale": [
             [
              0,
              "#0d0887"
             ],
             [
              0.1111111111111111,
              "#46039f"
             ],
             [
              0.2222222222222222,
              "#7201a8"
             ],
             [
              0.3333333333333333,
              "#9c179e"
             ],
             [
              0.4444444444444444,
              "#bd3786"
             ],
             [
              0.5555555555555556,
              "#d8576b"
             ],
             [
              0.6666666666666666,
              "#ed7953"
             ],
             [
              0.7777777777777778,
              "#fb9f3a"
             ],
             [
              0.8888888888888888,
              "#fdca26"
             ],
             [
              1,
              "#f0f921"
             ]
            ],
            "type": "heatmap"
           }
          ],
          "heatmapgl": [
           {
            "colorbar": {
             "outlinewidth": 0,
             "ticks": ""
            },
            "colorscale": [
             [
              0,
              "#0d0887"
             ],
             [
              0.1111111111111111,
              "#46039f"
             ],
             [
              0.2222222222222222,
              "#7201a8"
             ],
             [
              0.3333333333333333,
              "#9c179e"
             ],
             [
              0.4444444444444444,
              "#bd3786"
             ],
             [
              0.5555555555555556,
              "#d8576b"
             ],
             [
              0.6666666666666666,
              "#ed7953"
             ],
             [
              0.7777777777777778,
              "#fb9f3a"
             ],
             [
              0.8888888888888888,
              "#fdca26"
             ],
             [
              1,
              "#f0f921"
             ]
            ],
            "type": "heatmapgl"
           }
          ],
          "histogram": [
           {
            "marker": {
             "pattern": {
              "fillmode": "overlay",
              "size": 10,
              "solidity": 0.2
             }
            },
            "type": "histogram"
           }
          ],
          "histogram2d": [
           {
            "colorbar": {
             "outlinewidth": 0,
             "ticks": ""
            },
            "colorscale": [
             [
              0,
              "#0d0887"
             ],
             [
              0.1111111111111111,
              "#46039f"
             ],
             [
              0.2222222222222222,
              "#7201a8"
             ],
             [
              0.3333333333333333,
              "#9c179e"
             ],
             [
              0.4444444444444444,
              "#bd3786"
             ],
             [
              0.5555555555555556,
              "#d8576b"
             ],
             [
              0.6666666666666666,
              "#ed7953"
             ],
             [
              0.7777777777777778,
              "#fb9f3a"
             ],
             [
              0.8888888888888888,
              "#fdca26"
             ],
             [
              1,
              "#f0f921"
             ]
            ],
            "type": "histogram2d"
           }
          ],
          "histogram2dcontour": [
           {
            "colorbar": {
             "outlinewidth": 0,
             "ticks": ""
            },
            "colorscale": [
             [
              0,
              "#0d0887"
             ],
             [
              0.1111111111111111,
              "#46039f"
             ],
             [
              0.2222222222222222,
              "#7201a8"
             ],
             [
              0.3333333333333333,
              "#9c179e"
             ],
             [
              0.4444444444444444,
              "#bd3786"
             ],
             [
              0.5555555555555556,
              "#d8576b"
             ],
             [
              0.6666666666666666,
              "#ed7953"
             ],
             [
              0.7777777777777778,
              "#fb9f3a"
             ],
             [
              0.8888888888888888,
              "#fdca26"
             ],
             [
              1,
              "#f0f921"
             ]
            ],
            "type": "histogram2dcontour"
           }
          ],
          "mesh3d": [
           {
            "colorbar": {
             "outlinewidth": 0,
             "ticks": ""
            },
            "type": "mesh3d"
           }
          ],
          "parcoords": [
           {
            "line": {
             "colorbar": {
              "outlinewidth": 0,
              "ticks": ""
             }
            },
            "type": "parcoords"
           }
          ],
          "pie": [
           {
            "automargin": true,
            "type": "pie"
           }
          ],
          "scatter": [
           {
            "fillpattern": {
             "fillmode": "overlay",
             "size": 10,
             "solidity": 0.2
            },
            "type": "scatter"
           }
          ],
          "scatter3d": [
           {
            "line": {
             "colorbar": {
              "outlinewidth": 0,
              "ticks": ""
             }
            },
            "marker": {
             "colorbar": {
              "outlinewidth": 0,
              "ticks": ""
             }
            },
            "type": "scatter3d"
           }
          ],
          "scattercarpet": [
           {
            "marker": {
             "colorbar": {
              "outlinewidth": 0,
              "ticks": ""
             }
            },
            "type": "scattercarpet"
           }
          ],
          "scattergeo": [
           {
            "marker": {
             "colorbar": {
              "outlinewidth": 0,
              "ticks": ""
             }
            },
            "type": "scattergeo"
           }
          ],
          "scattergl": [
           {
            "marker": {
             "colorbar": {
              "outlinewidth": 0,
              "ticks": ""
             }
            },
            "type": "scattergl"
           }
          ],
          "scattermapbox": [
           {
            "marker": {
             "colorbar": {
              "outlinewidth": 0,
              "ticks": ""
             }
            },
            "type": "scattermapbox"
           }
          ],
          "scatterpolar": [
           {
            "marker": {
             "colorbar": {
              "outlinewidth": 0,
              "ticks": ""
             }
            },
            "type": "scatterpolar"
           }
          ],
          "scatterpolargl": [
           {
            "marker": {
             "colorbar": {
              "outlinewidth": 0,
              "ticks": ""
             }
            },
            "type": "scatterpolargl"
           }
          ],
          "scatterternary": [
           {
            "marker": {
             "colorbar": {
              "outlinewidth": 0,
              "ticks": ""
             }
            },
            "type": "scatterternary"
           }
          ],
          "surface": [
           {
            "colorbar": {
             "outlinewidth": 0,
             "ticks": ""
            },
            "colorscale": [
             [
              0,
              "#0d0887"
             ],
             [
              0.1111111111111111,
              "#46039f"
             ],
             [
              0.2222222222222222,
              "#7201a8"
             ],
             [
              0.3333333333333333,
              "#9c179e"
             ],
             [
              0.4444444444444444,
              "#bd3786"
             ],
             [
              0.5555555555555556,
              "#d8576b"
             ],
             [
              0.6666666666666666,
              "#ed7953"
             ],
             [
              0.7777777777777778,
              "#fb9f3a"
             ],
             [
              0.8888888888888888,
              "#fdca26"
             ],
             [
              1,
              "#f0f921"
             ]
            ],
            "type": "surface"
           }
          ],
          "table": [
           {
            "cells": {
             "fill": {
              "color": "#EBF0F8"
             },
             "line": {
              "color": "white"
             }
            },
            "header": {
             "fill": {
              "color": "#C8D4E3"
             },
             "line": {
              "color": "white"
             }
            },
            "type": "table"
           }
          ]
         },
         "layout": {
          "annotationdefaults": {
           "arrowcolor": "#2a3f5f",
           "arrowhead": 0,
           "arrowwidth": 1
          },
          "autotypenumbers": "strict",
          "coloraxis": {
           "colorbar": {
            "outlinewidth": 0,
            "ticks": ""
           }
          },
          "colorscale": {
           "diverging": [
            [
             0,
             "#8e0152"
            ],
            [
             0.1,
             "#c51b7d"
            ],
            [
             0.2,
             "#de77ae"
            ],
            [
             0.3,
             "#f1b6da"
            ],
            [
             0.4,
             "#fde0ef"
            ],
            [
             0.5,
             "#f7f7f7"
            ],
            [
             0.6,
             "#e6f5d0"
            ],
            [
             0.7,
             "#b8e186"
            ],
            [
             0.8,
             "#7fbc41"
            ],
            [
             0.9,
             "#4d9221"
            ],
            [
             1,
             "#276419"
            ]
           ],
           "sequential": [
            [
             0,
             "#0d0887"
            ],
            [
             0.1111111111111111,
             "#46039f"
            ],
            [
             0.2222222222222222,
             "#7201a8"
            ],
            [
             0.3333333333333333,
             "#9c179e"
            ],
            [
             0.4444444444444444,
             "#bd3786"
            ],
            [
             0.5555555555555556,
             "#d8576b"
            ],
            [
             0.6666666666666666,
             "#ed7953"
            ],
            [
             0.7777777777777778,
             "#fb9f3a"
            ],
            [
             0.8888888888888888,
             "#fdca26"
            ],
            [
             1,
             "#f0f921"
            ]
           ],
           "sequentialminus": [
            [
             0,
             "#0d0887"
            ],
            [
             0.1111111111111111,
             "#46039f"
            ],
            [
             0.2222222222222222,
             "#7201a8"
            ],
            [
             0.3333333333333333,
             "#9c179e"
            ],
            [
             0.4444444444444444,
             "#bd3786"
            ],
            [
             0.5555555555555556,
             "#d8576b"
            ],
            [
             0.6666666666666666,
             "#ed7953"
            ],
            [
             0.7777777777777778,
             "#fb9f3a"
            ],
            [
             0.8888888888888888,
             "#fdca26"
            ],
            [
             1,
             "#f0f921"
            ]
           ]
          },
          "colorway": [
           "#636efa",
           "#EF553B",
           "#00cc96",
           "#ab63fa",
           "#FFA15A",
           "#19d3f3",
           "#FF6692",
           "#B6E880",
           "#FF97FF",
           "#FECB52"
          ],
          "font": {
           "color": "#2a3f5f"
          },
          "geo": {
           "bgcolor": "white",
           "lakecolor": "white",
           "landcolor": "#E5ECF6",
           "showlakes": true,
           "showland": true,
           "subunitcolor": "white"
          },
          "hoverlabel": {
           "align": "left"
          },
          "hovermode": "closest",
          "mapbox": {
           "style": "light"
          },
          "paper_bgcolor": "white",
          "plot_bgcolor": "#E5ECF6",
          "polar": {
           "angularaxis": {
            "gridcolor": "white",
            "linecolor": "white",
            "ticks": ""
           },
           "bgcolor": "#E5ECF6",
           "radialaxis": {
            "gridcolor": "white",
            "linecolor": "white",
            "ticks": ""
           }
          },
          "scene": {
           "xaxis": {
            "backgroundcolor": "#E5ECF6",
            "gridcolor": "white",
            "gridwidth": 2,
            "linecolor": "white",
            "showbackground": true,
            "ticks": "",
            "zerolinecolor": "white"
           },
           "yaxis": {
            "backgroundcolor": "#E5ECF6",
            "gridcolor": "white",
            "gridwidth": 2,
            "linecolor": "white",
            "showbackground": true,
            "ticks": "",
            "zerolinecolor": "white"
           },
           "zaxis": {
            "backgroundcolor": "#E5ECF6",
            "gridcolor": "white",
            "gridwidth": 2,
            "linecolor": "white",
            "showbackground": true,
            "ticks": "",
            "zerolinecolor": "white"
           }
          },
          "shapedefaults": {
           "line": {
            "color": "#2a3f5f"
           }
          },
          "ternary": {
           "aaxis": {
            "gridcolor": "white",
            "linecolor": "white",
            "ticks": ""
           },
           "baxis": {
            "gridcolor": "white",
            "linecolor": "white",
            "ticks": ""
           },
           "bgcolor": "#E5ECF6",
           "caxis": {
            "gridcolor": "white",
            "linecolor": "white",
            "ticks": ""
           }
          },
          "title": {
           "x": 0.05
          },
          "xaxis": {
           "automargin": true,
           "gridcolor": "white",
           "linecolor": "white",
           "ticks": "",
           "title": {
            "standoff": 15
           },
           "zerolinecolor": "white",
           "zerolinewidth": 2
          },
          "yaxis": {
           "automargin": true,
           "gridcolor": "white",
           "linecolor": "white",
           "ticks": "",
           "title": {
            "standoff": 15
           },
           "zerolinecolor": "white",
           "zerolinewidth": 2
          }
         }
        },
        "title": {
         "text": "Undergraduate & Postgraduate Enrollment Percentage Compared to Percentage of Language Speakers in Each County",
         "x": 0.45
        },
        "width": 2500,
        "xaxis": {
         "anchor": "y",
         "domain": [
          0,
          0.45
         ],
         "title": {
          "text": "Counties"
         }
        },
        "xaxis2": {
         "anchor": "y2",
         "domain": [
          0.55,
          1
         ],
         "title": {
          "text": "Counties"
         }
        },
        "xaxis3": {
         "anchor": "y3",
         "domain": [
          0,
          0.45
         ],
         "title": {
          "text": "Counties"
         }
        },
        "xaxis4": {
         "anchor": "y4",
         "domain": [
          0.55,
          1
         ],
         "title": {
          "text": "Counties"
         }
        },
        "yaxis": {
         "anchor": "x",
         "domain": [
          0.625,
          1
         ],
         "title": {
          "text": "Percentage"
         }
        },
        "yaxis2": {
         "anchor": "x2",
         "domain": [
          0.625,
          1
         ],
         "title": {
          "text": "Percentage"
         }
        },
        "yaxis3": {
         "anchor": "x3",
         "domain": [
          0,
          0.375
         ],
         "title": {
          "text": "Percentage"
         }
        },
        "yaxis4": {
         "anchor": "x4",
         "domain": [
          0,
          0.375
         ],
         "title": {
          "text": "Percentage"
         }
        }
       }
      },
      "text/html": [
       "<div>                            <div id=\"fa48e1cc-e0db-4265-9aae-924b9e9f6c98\" class=\"plotly-graph-div\" style=\"height:1250px; width:2500px;\"></div>            <script type=\"text/javascript\">                require([\"plotly\"], function(Plotly) {                    window.PLOTLYENV=window.PLOTLYENV || {};                                    if (document.getElementById(\"fa48e1cc-e0db-4265-9aae-924b9e9f6c98\")) {                    Plotly.newPlot(                        \"fa48e1cc-e0db-4265-9aae-924b9e9f6c98\",                        [{\"marker\":{\"color\":\"green\",\"line\":{\"color\":\"rgb(8,48,107)\",\"width\":2}},\"name\":\"Undergraduate\",\"opacity\":0.4,\"showlegend\":true,\"x\":[\"Washington\",\"Adams County\",\"Asotin County\",\"Benton County\",\"Chelan County\",\"Clallam County\",\"Clark County\",\"Columbia County\",\"Cowlitz County\",\"Douglas County\",\"Ferry County\",\"Franklin County\",\"Garfield County\",\"Grant County\",\"Grays Harbor County\",\"Island County\",\"Jefferson County\",\"King County\",\"Kitsap County\",\"Kittitas County\",\"Klickitat County\",\"Lewis County\",\"Lincoln County\",\"Mason County\",\"Okanogan County\",\"Pacific County\",\"Pend Oreille County\",\"Pierce County\",\"San Juan County\",\"Skagit County\",\"Skamania County\",\"Snohomish County\",\"Spokane County\",\"Stevens County\",\"Thurston County\",\"Wahkiakum County\",\"Walla Walla County\",\"Whatcom County\",\"Whitman County\",\"Yakima County\"],\"y\":[0.20600000000000002,0.087,0.13699999999999998,0.151,0.17300000000000001,0.16699999999999998,0.16699999999999998,0.231,0.18100000000000002,0.124,0.076,0.134,0.11900000000000001,0.122,0.125,0.19899999999999998,0.16699999999999998,0.221,0.191,0.479,0.111,0.155,0.059000000000000004,0.145,0.127,0.161,0.091,0.196,0.099,0.16,0.17300000000000001,0.182,0.244,0.091,0.212,0.11900000000000001,0.313,0.349,0.626,0.13],\"type\":\"bar\",\"xaxis\":\"x\",\"yaxis\":\"y\"},{\"marker\":{\"color\":\"blue\",\"line\":{\"color\":\"rgb(8,48,107)\",\"width\":2}},\"name\":\"Postgraduate Enrollment\",\"opacity\":0.4,\"showlegend\":true,\"x\":[\"Washington\",\"Adams County\",\"Asotin County\",\"Benton County\",\"Chelan County\",\"Clallam County\",\"Clark County\",\"Columbia County\",\"Cowlitz County\",\"Douglas County\",\"Ferry County\",\"Franklin County\",\"Garfield County\",\"Grant County\",\"Grays Harbor County\",\"Island County\",\"Jefferson County\",\"King County\",\"Kitsap County\",\"Kittitas County\",\"Klickitat County\",\"Lewis County\",\"Lincoln County\",\"Mason County\",\"Okanogan County\",\"Pacific County\",\"Pend Oreille County\",\"Pierce County\",\"San Juan County\",\"Skagit County\",\"Skamania County\",\"Snohomish County\",\"Spokane County\",\"Stevens County\",\"Thurston County\",\"Wahkiakum County\",\"Walla Walla County\",\"Whatcom County\",\"Whitman County\",\"Yakima County\"],\"y\":[0.053,0.008,0.01,0.036000000000000004,0.033,0.038,0.036000000000000004,0.051,0.027999999999999997,0.02,0.01,0.031,0.0,0.024,0.021,0.043,0.040999999999999995,0.081,0.042,0.057,0.036000000000000004,0.031,0.013999999999999999,0.043,0.037000000000000005,0.016,0.025,0.048,0.057,0.037000000000000005,0.024,0.043,0.045,0.017,0.046,0.015,0.035,0.036000000000000004,0.129,0.03],\"type\":\"bar\",\"xaxis\":\"x\",\"yaxis\":\"y\"},{\"line\":{\"color\":\"#AB63FA\"},\"name\":\"spanish\",\"x\":[\"Washington\",\"Adams County\",\"Asotin County\",\"Benton County\",\"Chelan County\",\"Clallam County\",\"Clark County\",\"Columbia County\",\"Cowlitz County\",\"Douglas County\",\"Ferry County\",\"Franklin County\",\"Garfield County\",\"Grant County\",\"Grays Harbor County\",\"Island County\",\"Jefferson County\",\"King County\",\"Kitsap County\",\"Kittitas County\",\"Klickitat County\",\"Lewis County\",\"Lincoln County\",\"Mason County\",\"Okanogan County\",\"Pacific County\",\"Pend Oreille County\",\"Pierce County\",\"San Juan County\",\"Skagit County\",\"Skamania County\",\"Snohomish County\",\"Spokane County\",\"Stevens County\",\"Thurston County\",\"Wahkiakum County\",\"Walla Walla County\",\"Whatcom County\",\"Whitman County\",\"Yakima County\"],\"y\":[0.087,0.489,0.025,0.163,0.24100000000000002,0.031,0.063,0.055999999999999994,0.053,0.272,0.01,0.45,0.028999999999999998,0.332,0.066,0.037000000000000005,0.024,0.066,0.031,0.046,0.107,0.064,0.013000000000000001,0.066,0.174,0.071,0.008,0.063,0.034,0.134,0.035,0.07,0.023,0.016,0.047,0.040999999999999995,0.16,0.062,0.034,0.40700000000000003],\"type\":\"scatter\",\"xaxis\":\"x\",\"yaxis\":\"y\"},{\"marker\":{\"color\":\"green\",\"line\":{\"color\":\"rgb(8,48,107)\",\"width\":2}},\"name\":\"Undergraduate\",\"opacity\":0.4,\"showlegend\":false,\"x\":[\"Washington\",\"Adams County\",\"Asotin County\",\"Benton County\",\"Chelan County\",\"Clallam County\",\"Clark County\",\"Columbia County\",\"Cowlitz County\",\"Douglas County\",\"Ferry County\",\"Franklin County\",\"Garfield County\",\"Grant County\",\"Grays Harbor County\",\"Island County\",\"Jefferson County\",\"King County\",\"Kitsap County\",\"Kittitas County\",\"Klickitat County\",\"Lewis County\",\"Lincoln County\",\"Mason County\",\"Okanogan County\",\"Pacific County\",\"Pend Oreille County\",\"Pierce County\",\"San Juan County\",\"Skagit County\",\"Skamania County\",\"Snohomish County\",\"Spokane County\",\"Stevens County\",\"Thurston County\",\"Wahkiakum County\",\"Walla Walla County\",\"Whatcom County\",\"Whitman County\",\"Yakima County\"],\"y\":[0.20600000000000002,0.087,0.13699999999999998,0.151,0.17300000000000001,0.16699999999999998,0.16699999999999998,0.231,0.18100000000000002,0.124,0.076,0.134,0.11900000000000001,0.122,0.125,0.19899999999999998,0.16699999999999998,0.221,0.191,0.479,0.111,0.155,0.059000000000000004,0.145,0.127,0.161,0.091,0.196,0.099,0.16,0.17300000000000001,0.182,0.244,0.091,0.212,0.11900000000000001,0.313,0.349,0.626,0.13],\"type\":\"bar\",\"xaxis\":\"x2\",\"yaxis\":\"y2\"},{\"marker\":{\"color\":\"blue\",\"line\":{\"color\":\"rgb(8,48,107)\",\"width\":2}},\"name\":\"Postgraduate Enrollment\",\"opacity\":0.4,\"showlegend\":false,\"x\":[\"Washington\",\"Adams County\",\"Asotin County\",\"Benton County\",\"Chelan County\",\"Clallam County\",\"Clark County\",\"Columbia County\",\"Cowlitz County\",\"Douglas County\",\"Ferry County\",\"Franklin County\",\"Garfield County\",\"Grant County\",\"Grays Harbor County\",\"Island County\",\"Jefferson County\",\"King County\",\"Kitsap County\",\"Kittitas County\",\"Klickitat County\",\"Lewis County\",\"Lincoln County\",\"Mason County\",\"Okanogan County\",\"Pacific County\",\"Pend Oreille County\",\"Pierce County\",\"San Juan County\",\"Skagit County\",\"Skamania County\",\"Snohomish County\",\"Spokane County\",\"Stevens County\",\"Thurston County\",\"Wahkiakum County\",\"Walla Walla County\",\"Whatcom County\",\"Whitman County\",\"Yakima County\"],\"y\":[0.053,0.008,0.01,0.036000000000000004,0.033,0.038,0.036000000000000004,0.051,0.027999999999999997,0.02,0.01,0.031,0.0,0.024,0.021,0.043,0.040999999999999995,0.081,0.042,0.057,0.036000000000000004,0.031,0.013999999999999999,0.043,0.037000000000000005,0.016,0.025,0.048,0.057,0.037000000000000005,0.024,0.043,0.045,0.017,0.046,0.015,0.035,0.036000000000000004,0.129,0.03],\"type\":\"bar\",\"xaxis\":\"x2\",\"yaxis\":\"y2\"},{\"line\":{\"color\":\"#FFA15A\"},\"name\":\"other_indo-european_languages\",\"x\":[\"Washington\",\"Adams County\",\"Asotin County\",\"Benton County\",\"Chelan County\",\"Clallam County\",\"Clark County\",\"Columbia County\",\"Cowlitz County\",\"Douglas County\",\"Ferry County\",\"Franklin County\",\"Garfield County\",\"Grant County\",\"Grays Harbor County\",\"Island County\",\"Jefferson County\",\"King County\",\"Kitsap County\",\"Kittitas County\",\"Klickitat County\",\"Lewis County\",\"Lincoln County\",\"Mason County\",\"Okanogan County\",\"Pacific County\",\"Pend Oreille County\",\"Pierce County\",\"San Juan County\",\"Skagit County\",\"Skamania County\",\"Snohomish County\",\"Spokane County\",\"Stevens County\",\"Thurston County\",\"Wahkiakum County\",\"Walla Walla County\",\"Whatcom County\",\"Whitman County\",\"Yakima County\"],\"y\":[0.042,0.008,0.005,0.023,0.013000000000000001,0.013999999999999999,0.055,0.002,0.012,0.006999999999999999,0.01,0.026000000000000002,0.008,0.018000000000000002,0.01,0.018000000000000002,0.02,0.073,0.013000000000000001,0.008,0.012,0.01,0.009000000000000001,0.006999999999999999,0.006,0.016,0.003,0.028999999999999998,0.02,0.015,0.006999999999999999,0.055,0.025,0.015,0.023,0.006999999999999999,0.02,0.03,0.034,0.005],\"type\":\"scatter\",\"xaxis\":\"x2\",\"yaxis\":\"y2\"},{\"marker\":{\"color\":\"green\",\"line\":{\"color\":\"rgb(8,48,107)\",\"width\":2}},\"name\":\"Undergraduate\",\"opacity\":0.4,\"showlegend\":false,\"x\":[\"Washington\",\"Adams County\",\"Asotin County\",\"Benton County\",\"Chelan County\",\"Clallam County\",\"Clark County\",\"Columbia County\",\"Cowlitz County\",\"Douglas County\",\"Ferry County\",\"Franklin County\",\"Garfield County\",\"Grant County\",\"Grays Harbor County\",\"Island County\",\"Jefferson County\",\"King County\",\"Kitsap County\",\"Kittitas County\",\"Klickitat County\",\"Lewis County\",\"Lincoln County\",\"Mason County\",\"Okanogan County\",\"Pacific County\",\"Pend Oreille County\",\"Pierce County\",\"San Juan County\",\"Skagit County\",\"Skamania County\",\"Snohomish County\",\"Spokane County\",\"Stevens County\",\"Thurston County\",\"Wahkiakum County\",\"Walla Walla County\",\"Whatcom County\",\"Whitman County\",\"Yakima County\"],\"y\":[0.20600000000000002,0.087,0.13699999999999998,0.151,0.17300000000000001,0.16699999999999998,0.16699999999999998,0.231,0.18100000000000002,0.124,0.076,0.134,0.11900000000000001,0.122,0.125,0.19899999999999998,0.16699999999999998,0.221,0.191,0.479,0.111,0.155,0.059000000000000004,0.145,0.127,0.161,0.091,0.196,0.099,0.16,0.17300000000000001,0.182,0.244,0.091,0.212,0.11900000000000001,0.313,0.349,0.626,0.13],\"type\":\"bar\",\"xaxis\":\"x3\",\"yaxis\":\"y3\"},{\"marker\":{\"color\":\"blue\",\"line\":{\"color\":\"rgb(8,48,107)\",\"width\":2}},\"name\":\"Postgraduate Enrollment\",\"opacity\":0.4,\"showlegend\":false,\"x\":[\"Washington\",\"Adams County\",\"Asotin County\",\"Benton County\",\"Chelan County\",\"Clallam County\",\"Clark County\",\"Columbia County\",\"Cowlitz County\",\"Douglas County\",\"Ferry County\",\"Franklin County\",\"Garfield County\",\"Grant County\",\"Grays Harbor County\",\"Island County\",\"Jefferson County\",\"King County\",\"Kitsap County\",\"Kittitas County\",\"Klickitat County\",\"Lewis County\",\"Lincoln County\",\"Mason County\",\"Okanogan County\",\"Pacific County\",\"Pend Oreille County\",\"Pierce County\",\"San Juan County\",\"Skagit County\",\"Skamania County\",\"Snohomish County\",\"Spokane County\",\"Stevens County\",\"Thurston County\",\"Wahkiakum County\",\"Walla Walla County\",\"Whatcom County\",\"Whitman County\",\"Yakima County\"],\"y\":[0.053,0.008,0.01,0.036000000000000004,0.033,0.038,0.036000000000000004,0.051,0.027999999999999997,0.02,0.01,0.031,0.0,0.024,0.021,0.043,0.040999999999999995,0.081,0.042,0.057,0.036000000000000004,0.031,0.013999999999999999,0.043,0.037000000000000005,0.016,0.025,0.048,0.057,0.037000000000000005,0.024,0.043,0.045,0.017,0.046,0.015,0.035,0.036000000000000004,0.129,0.03],\"type\":\"bar\",\"xaxis\":\"x3\",\"yaxis\":\"y3\"},{\"line\":{\"color\":\"#FF97FF\"},\"name\":\"asian_and_pacific_island_languages\",\"x\":[\"Washington\",\"Adams County\",\"Asotin County\",\"Benton County\",\"Chelan County\",\"Clallam County\",\"Clark County\",\"Columbia County\",\"Cowlitz County\",\"Douglas County\",\"Ferry County\",\"Franklin County\",\"Garfield County\",\"Grant County\",\"Grays Harbor County\",\"Island County\",\"Jefferson County\",\"King County\",\"Kitsap County\",\"Kittitas County\",\"Klickitat County\",\"Lewis County\",\"Lincoln County\",\"Mason County\",\"Okanogan County\",\"Pacific County\",\"Pend Oreille County\",\"Pierce County\",\"San Juan County\",\"Skagit County\",\"Skamania County\",\"Snohomish County\",\"Spokane County\",\"Stevens County\",\"Thurston County\",\"Wahkiakum County\",\"Walla Walla County\",\"Whatcom County\",\"Whitman County\",\"Yakima County\"],\"y\":[0.063,0.005,0.013000000000000001,0.019,0.006999999999999999,0.008,0.034,0.008,0.01,0.006,0.008,0.011000000000000001,0.0,0.005,0.01,0.036000000000000004,0.011000000000000001,0.126,0.035,0.009000000000000001,0.003,0.008,0.01,0.01,0.004,0.013000000000000001,0.003,0.055999999999999994,0.009000000000000001,0.013999999999999999,0.005,0.08199999999999999,0.017,0.004,0.046,0.005,0.012,0.024,0.049,0.009000000000000001],\"type\":\"scatter\",\"xaxis\":\"x3\",\"yaxis\":\"y3\"},{\"marker\":{\"color\":\"green\",\"line\":{\"color\":\"rgb(8,48,107)\",\"width\":2}},\"name\":\"Undergraduate\",\"opacity\":0.4,\"showlegend\":false,\"x\":[\"Washington\",\"Adams County\",\"Asotin County\",\"Benton County\",\"Chelan County\",\"Clallam County\",\"Clark County\",\"Columbia County\",\"Cowlitz County\",\"Douglas County\",\"Ferry County\",\"Franklin County\",\"Garfield County\",\"Grant County\",\"Grays Harbor County\",\"Island County\",\"Jefferson County\",\"King County\",\"Kitsap County\",\"Kittitas County\",\"Klickitat County\",\"Lewis County\",\"Lincoln County\",\"Mason County\",\"Okanogan County\",\"Pacific County\",\"Pend Oreille County\",\"Pierce County\",\"San Juan County\",\"Skagit County\",\"Skamania County\",\"Snohomish County\",\"Spokane County\",\"Stevens County\",\"Thurston County\",\"Wahkiakum County\",\"Walla Walla County\",\"Whatcom County\",\"Whitman County\",\"Yakima County\"],\"y\":[0.20600000000000002,0.087,0.13699999999999998,0.151,0.17300000000000001,0.16699999999999998,0.16699999999999998,0.231,0.18100000000000002,0.124,0.076,0.134,0.11900000000000001,0.122,0.125,0.19899999999999998,0.16699999999999998,0.221,0.191,0.479,0.111,0.155,0.059000000000000004,0.145,0.127,0.161,0.091,0.196,0.099,0.16,0.17300000000000001,0.182,0.244,0.091,0.212,0.11900000000000001,0.313,0.349,0.626,0.13],\"type\":\"bar\",\"xaxis\":\"x4\",\"yaxis\":\"y4\"},{\"marker\":{\"color\":\"blue\",\"line\":{\"color\":\"rgb(8,48,107)\",\"width\":2}},\"name\":\"Postgraduate Enrollment\",\"opacity\":0.4,\"showlegend\":false,\"x\":[\"Washington\",\"Adams County\",\"Asotin County\",\"Benton County\",\"Chelan County\",\"Clallam County\",\"Clark County\",\"Columbia County\",\"Cowlitz County\",\"Douglas County\",\"Ferry County\",\"Franklin County\",\"Garfield County\",\"Grant County\",\"Grays Harbor County\",\"Island County\",\"Jefferson County\",\"King County\",\"Kitsap County\",\"Kittitas County\",\"Klickitat County\",\"Lewis County\",\"Lincoln County\",\"Mason County\",\"Okanogan County\",\"Pacific County\",\"Pend Oreille County\",\"Pierce County\",\"San Juan County\",\"Skagit County\",\"Skamania County\",\"Snohomish County\",\"Spokane County\",\"Stevens County\",\"Thurston County\",\"Wahkiakum County\",\"Walla Walla County\",\"Whatcom County\",\"Whitman County\",\"Yakima County\"],\"y\":[0.053,0.008,0.01,0.036000000000000004,0.033,0.038,0.036000000000000004,0.051,0.027999999999999997,0.02,0.01,0.031,0.0,0.024,0.021,0.043,0.040999999999999995,0.081,0.042,0.057,0.036000000000000004,0.031,0.013999999999999999,0.043,0.037000000000000005,0.016,0.025,0.048,0.057,0.037000000000000005,0.024,0.043,0.045,0.017,0.046,0.015,0.035,0.036000000000000004,0.129,0.03],\"type\":\"bar\",\"xaxis\":\"x4\",\"yaxis\":\"y4\"},{\"line\":{\"color\":\"#EF553B\"},\"name\":\"other_languages\",\"x\":[\"Washington\",\"Adams County\",\"Asotin County\",\"Benton County\",\"Chelan County\",\"Clallam County\",\"Clark County\",\"Columbia County\",\"Cowlitz County\",\"Douglas County\",\"Ferry County\",\"Franklin County\",\"Garfield County\",\"Grant County\",\"Grays Harbor County\",\"Island County\",\"Jefferson County\",\"King County\",\"Kitsap County\",\"Kittitas County\",\"Klickitat County\",\"Lewis County\",\"Lincoln County\",\"Mason County\",\"Okanogan County\",\"Pacific County\",\"Pend Oreille County\",\"Pierce County\",\"San Juan County\",\"Skagit County\",\"Skamania County\",\"Snohomish County\",\"Spokane County\",\"Stevens County\",\"Thurston County\",\"Wahkiakum County\",\"Walla Walla County\",\"Whatcom County\",\"Whitman County\",\"Yakima County\"],\"y\":[0.013999999999999999,0.009000000000000001,0.001,0.009000000000000001,0.0,0.004,0.006,0.0,0.001,0.0,0.009000000000000001,0.004,0.0,0.001,0.004,0.003,0.003,0.028999999999999998,0.004,0.002,0.004,0.0,0.0,0.004,0.006,0.0,0.004,0.009000000000000001,0.002,0.003,0.0,0.022000000000000002,0.008,0.003,0.004,0.001,0.003,0.006,0.01,0.004],\"type\":\"scatter\",\"xaxis\":\"x4\",\"yaxis\":\"y4\"}],                        {\"template\":{\"data\":{\"histogram2dcontour\":[{\"type\":\"histogram2dcontour\",\"colorbar\":{\"outlinewidth\":0,\"ticks\":\"\"},\"colorscale\":[[0.0,\"#0d0887\"],[0.1111111111111111,\"#46039f\"],[0.2222222222222222,\"#7201a8\"],[0.3333333333333333,\"#9c179e\"],[0.4444444444444444,\"#bd3786\"],[0.5555555555555556,\"#d8576b\"],[0.6666666666666666,\"#ed7953\"],[0.7777777777777778,\"#fb9f3a\"],[0.8888888888888888,\"#fdca26\"],[1.0,\"#f0f921\"]]}],\"choropleth\":[{\"type\":\"choropleth\",\"colorbar\":{\"outlinewidth\":0,\"ticks\":\"\"}}],\"histogram2d\":[{\"type\":\"histogram2d\",\"colorbar\":{\"outlinewidth\":0,\"ticks\":\"\"},\"colorscale\":[[0.0,\"#0d0887\"],[0.1111111111111111,\"#46039f\"],[0.2222222222222222,\"#7201a8\"],[0.3333333333333333,\"#9c179e\"],[0.4444444444444444,\"#bd3786\"],[0.5555555555555556,\"#d8576b\"],[0.6666666666666666,\"#ed7953\"],[0.7777777777777778,\"#fb9f3a\"],[0.8888888888888888,\"#fdca26\"],[1.0,\"#f0f921\"]]}],\"heatmap\":[{\"type\":\"heatmap\",\"colorbar\":{\"outlinewidth\":0,\"ticks\":\"\"},\"colorscale\":[[0.0,\"#0d0887\"],[0.1111111111111111,\"#46039f\"],[0.2222222222222222,\"#7201a8\"],[0.3333333333333333,\"#9c179e\"],[0.4444444444444444,\"#bd3786\"],[0.5555555555555556,\"#d8576b\"],[0.6666666666666666,\"#ed7953\"],[0.7777777777777778,\"#fb9f3a\"],[0.8888888888888888,\"#fdca26\"],[1.0,\"#f0f921\"]]}],\"heatmapgl\":[{\"type\":\"heatmapgl\",\"colorbar\":{\"outlinewidth\":0,\"ticks\":\"\"},\"colorscale\":[[0.0,\"#0d0887\"],[0.1111111111111111,\"#46039f\"],[0.2222222222222222,\"#7201a8\"],[0.3333333333333333,\"#9c179e\"],[0.4444444444444444,\"#bd3786\"],[0.5555555555555556,\"#d8576b\"],[0.6666666666666666,\"#ed7953\"],[0.7777777777777778,\"#fb9f3a\"],[0.8888888888888888,\"#fdca26\"],[1.0,\"#f0f921\"]]}],\"contourcarpet\":[{\"type\":\"contourcarpet\",\"colorbar\":{\"outlinewidth\":0,\"ticks\":\"\"}}],\"contour\":[{\"type\":\"contour\",\"colorbar\":{\"outlinewidth\":0,\"ticks\":\"\"},\"colorscale\":[[0.0,\"#0d0887\"],[0.1111111111111111,\"#46039f\"],[0.2222222222222222,\"#7201a8\"],[0.3333333333333333,\"#9c179e\"],[0.4444444444444444,\"#bd3786\"],[0.5555555555555556,\"#d8576b\"],[0.6666666666666666,\"#ed7953\"],[0.7777777777777778,\"#fb9f3a\"],[0.8888888888888888,\"#fdca26\"],[1.0,\"#f0f921\"]]}],\"surface\":[{\"type\":\"surface\",\"colorbar\":{\"outlinewidth\":0,\"ticks\":\"\"},\"colorscale\":[[0.0,\"#0d0887\"],[0.1111111111111111,\"#46039f\"],[0.2222222222222222,\"#7201a8\"],[0.3333333333333333,\"#9c179e\"],[0.4444444444444444,\"#bd3786\"],[0.5555555555555556,\"#d8576b\"],[0.6666666666666666,\"#ed7953\"],[0.7777777777777778,\"#fb9f3a\"],[0.8888888888888888,\"#fdca26\"],[1.0,\"#f0f921\"]]}],\"mesh3d\":[{\"type\":\"mesh3d\",\"colorbar\":{\"outlinewidth\":0,\"ticks\":\"\"}}],\"scatter\":[{\"fillpattern\":{\"fillmode\":\"overlay\",\"size\":10,\"solidity\":0.2},\"type\":\"scatter\"}],\"parcoords\":[{\"type\":\"parcoords\",\"line\":{\"colorbar\":{\"outlinewidth\":0,\"ticks\":\"\"}}}],\"scatterpolargl\":[{\"type\":\"scatterpolargl\",\"marker\":{\"colorbar\":{\"outlinewidth\":0,\"ticks\":\"\"}}}],\"bar\":[{\"error_x\":{\"color\":\"#2a3f5f\"},\"error_y\":{\"color\":\"#2a3f5f\"},\"marker\":{\"line\":{\"color\":\"#E5ECF6\",\"width\":0.5},\"pattern\":{\"fillmode\":\"overlay\",\"size\":10,\"solidity\":0.2}},\"type\":\"bar\"}],\"scattergeo\":[{\"type\":\"scattergeo\",\"marker\":{\"colorbar\":{\"outlinewidth\":0,\"ticks\":\"\"}}}],\"scatterpolar\":[{\"type\":\"scatterpolar\",\"marker\":{\"colorbar\":{\"outlinewidth\":0,\"ticks\":\"\"}}}],\"histogram\":[{\"marker\":{\"pattern\":{\"fillmode\":\"overlay\",\"size\":10,\"solidity\":0.2}},\"type\":\"histogram\"}],\"scattergl\":[{\"type\":\"scattergl\",\"marker\":{\"colorbar\":{\"outlinewidth\":0,\"ticks\":\"\"}}}],\"scatter3d\":[{\"type\":\"scatter3d\",\"line\":{\"colorbar\":{\"outlinewidth\":0,\"ticks\":\"\"}},\"marker\":{\"colorbar\":{\"outlinewidth\":0,\"ticks\":\"\"}}}],\"scattermapbox\":[{\"type\":\"scattermapbox\",\"marker\":{\"colorbar\":{\"outlinewidth\":0,\"ticks\":\"\"}}}],\"scatterternary\":[{\"type\":\"scatterternary\",\"marker\":{\"colorbar\":{\"outlinewidth\":0,\"ticks\":\"\"}}}],\"scattercarpet\":[{\"type\":\"scattercarpet\",\"marker\":{\"colorbar\":{\"outlinewidth\":0,\"ticks\":\"\"}}}],\"carpet\":[{\"aaxis\":{\"endlinecolor\":\"#2a3f5f\",\"gridcolor\":\"white\",\"linecolor\":\"white\",\"minorgridcolor\":\"white\",\"startlinecolor\":\"#2a3f5f\"},\"baxis\":{\"endlinecolor\":\"#2a3f5f\",\"gridcolor\":\"white\",\"linecolor\":\"white\",\"minorgridcolor\":\"white\",\"startlinecolor\":\"#2a3f5f\"},\"type\":\"carpet\"}],\"table\":[{\"cells\":{\"fill\":{\"color\":\"#EBF0F8\"},\"line\":{\"color\":\"white\"}},\"header\":{\"fill\":{\"color\":\"#C8D4E3\"},\"line\":{\"color\":\"white\"}},\"type\":\"table\"}],\"barpolar\":[{\"marker\":{\"line\":{\"color\":\"#E5ECF6\",\"width\":0.5},\"pattern\":{\"fillmode\":\"overlay\",\"size\":10,\"solidity\":0.2}},\"type\":\"barpolar\"}],\"pie\":[{\"automargin\":true,\"type\":\"pie\"}]},\"layout\":{\"autotypenumbers\":\"strict\",\"colorway\":[\"#636efa\",\"#EF553B\",\"#00cc96\",\"#ab63fa\",\"#FFA15A\",\"#19d3f3\",\"#FF6692\",\"#B6E880\",\"#FF97FF\",\"#FECB52\"],\"font\":{\"color\":\"#2a3f5f\"},\"hovermode\":\"closest\",\"hoverlabel\":{\"align\":\"left\"},\"paper_bgcolor\":\"white\",\"plot_bgcolor\":\"#E5ECF6\",\"polar\":{\"bgcolor\":\"#E5ECF6\",\"angularaxis\":{\"gridcolor\":\"white\",\"linecolor\":\"white\",\"ticks\":\"\"},\"radialaxis\":{\"gridcolor\":\"white\",\"linecolor\":\"white\",\"ticks\":\"\"}},\"ternary\":{\"bgcolor\":\"#E5ECF6\",\"aaxis\":{\"gridcolor\":\"white\",\"linecolor\":\"white\",\"ticks\":\"\"},\"baxis\":{\"gridcolor\":\"white\",\"linecolor\":\"white\",\"ticks\":\"\"},\"caxis\":{\"gridcolor\":\"white\",\"linecolor\":\"white\",\"ticks\":\"\"}},\"coloraxis\":{\"colorbar\":{\"outlinewidth\":0,\"ticks\":\"\"}},\"colorscale\":{\"sequential\":[[0.0,\"#0d0887\"],[0.1111111111111111,\"#46039f\"],[0.2222222222222222,\"#7201a8\"],[0.3333333333333333,\"#9c179e\"],[0.4444444444444444,\"#bd3786\"],[0.5555555555555556,\"#d8576b\"],[0.6666666666666666,\"#ed7953\"],[0.7777777777777778,\"#fb9f3a\"],[0.8888888888888888,\"#fdca26\"],[1.0,\"#f0f921\"]],\"sequentialminus\":[[0.0,\"#0d0887\"],[0.1111111111111111,\"#46039f\"],[0.2222222222222222,\"#7201a8\"],[0.3333333333333333,\"#9c179e\"],[0.4444444444444444,\"#bd3786\"],[0.5555555555555556,\"#d8576b\"],[0.6666666666666666,\"#ed7953\"],[0.7777777777777778,\"#fb9f3a\"],[0.8888888888888888,\"#fdca26\"],[1.0,\"#f0f921\"]],\"diverging\":[[0,\"#8e0152\"],[0.1,\"#c51b7d\"],[0.2,\"#de77ae\"],[0.3,\"#f1b6da\"],[0.4,\"#fde0ef\"],[0.5,\"#f7f7f7\"],[0.6,\"#e6f5d0\"],[0.7,\"#b8e186\"],[0.8,\"#7fbc41\"],[0.9,\"#4d9221\"],[1,\"#276419\"]]},\"xaxis\":{\"gridcolor\":\"white\",\"linecolor\":\"white\",\"ticks\":\"\",\"title\":{\"standoff\":15},\"zerolinecolor\":\"white\",\"automargin\":true,\"zerolinewidth\":2},\"yaxis\":{\"gridcolor\":\"white\",\"linecolor\":\"white\",\"ticks\":\"\",\"title\":{\"standoff\":15},\"zerolinecolor\":\"white\",\"automargin\":true,\"zerolinewidth\":2},\"scene\":{\"xaxis\":{\"backgroundcolor\":\"#E5ECF6\",\"gridcolor\":\"white\",\"linecolor\":\"white\",\"showbackground\":true,\"ticks\":\"\",\"zerolinecolor\":\"white\",\"gridwidth\":2},\"yaxis\":{\"backgroundcolor\":\"#E5ECF6\",\"gridcolor\":\"white\",\"linecolor\":\"white\",\"showbackground\":true,\"ticks\":\"\",\"zerolinecolor\":\"white\",\"gridwidth\":2},\"zaxis\":{\"backgroundcolor\":\"#E5ECF6\",\"gridcolor\":\"white\",\"linecolor\":\"white\",\"showbackground\":true,\"ticks\":\"\",\"zerolinecolor\":\"white\",\"gridwidth\":2}},\"shapedefaults\":{\"line\":{\"color\":\"#2a3f5f\"}},\"annotationdefaults\":{\"arrowcolor\":\"#2a3f5f\",\"arrowhead\":0,\"arrowwidth\":1},\"geo\":{\"bgcolor\":\"white\",\"landcolor\":\"#E5ECF6\",\"subunitcolor\":\"white\",\"showland\":true,\"showlakes\":true,\"lakecolor\":\"white\"},\"title\":{\"x\":0.05},\"mapbox\":{\"style\":\"light\"}}},\"xaxis\":{\"anchor\":\"y\",\"domain\":[0.0,0.45],\"title\":{\"text\":\"Counties\"}},\"yaxis\":{\"anchor\":\"x\",\"domain\":[0.625,1.0],\"title\":{\"text\":\"Percentage\"}},\"xaxis2\":{\"anchor\":\"y2\",\"domain\":[0.55,1.0],\"title\":{\"text\":\"Counties\"}},\"yaxis2\":{\"anchor\":\"x2\",\"domain\":[0.625,1.0],\"title\":{\"text\":\"Percentage\"}},\"xaxis3\":{\"anchor\":\"y3\",\"domain\":[0.0,0.45],\"title\":{\"text\":\"Counties\"}},\"yaxis3\":{\"anchor\":\"x3\",\"domain\":[0.0,0.375],\"title\":{\"text\":\"Percentage\"}},\"xaxis4\":{\"anchor\":\"y4\",\"domain\":[0.55,1.0],\"title\":{\"text\":\"Counties\"}},\"yaxis4\":{\"anchor\":\"x4\",\"domain\":[0.0,0.375],\"title\":{\"text\":\"Percentage\"}},\"annotations\":[{\"font\":{\"size\":16},\"showarrow\":false,\"text\":\"Spanish Speakers\",\"x\":0.225,\"xanchor\":\"center\",\"xref\":\"paper\",\"y\":1.0,\"yanchor\":\"bottom\",\"yref\":\"paper\"},{\"font\":{\"size\":16},\"showarrow\":false,\"text\":\"Other Indo-European Language Speakers\",\"x\":0.775,\"xanchor\":\"center\",\"xref\":\"paper\",\"y\":1.0,\"yanchor\":\"bottom\",\"yref\":\"paper\"},{\"font\":{\"size\":16},\"showarrow\":false,\"text\":\"Asian & Pacific Island Language Speakers\",\"x\":0.225,\"xanchor\":\"center\",\"xref\":\"paper\",\"y\":0.375,\"yanchor\":\"bottom\",\"yref\":\"paper\"},{\"font\":{\"size\":16},\"showarrow\":false,\"text\":\"Other Language Speakers\",\"x\":0.775,\"xanchor\":\"center\",\"xref\":\"paper\",\"y\":0.375,\"yanchor\":\"bottom\",\"yref\":\"paper\"}],\"title\":{\"text\":\"Undergraduate & Postgraduate Enrollment Percentage Compared to Percentage of Language Speakers in Each County\",\"x\":0.45},\"autosize\":false,\"width\":2500,\"height\":1250},                        {\"responsive\": true}                    ).then(function(){\n",
       "                            \n",
       "var gd = document.getElementById('fa48e1cc-e0db-4265-9aae-924b9e9f6c98');\n",
       "var x = new MutationObserver(function (mutations, observer) {{\n",
       "        var display = window.getComputedStyle(gd).display;\n",
       "        if (!display || display === 'none') {{\n",
       "            console.log([gd, 'removed!']);\n",
       "            Plotly.purge(gd);\n",
       "            observer.disconnect();\n",
       "        }}\n",
       "}});\n",
       "\n",
       "// Listen for the removal of the full notebook cells\n",
       "var notebookContainer = gd.closest('#notebook-container');\n",
       "if (notebookContainer) {{\n",
       "    x.observe(notebookContainer, {childList: true});\n",
       "}}\n",
       "\n",
       "// Listen for the clearing of the current output cell\n",
       "var outputEl = gd.closest('.output');\n",
       "if (outputEl) {{\n",
       "    x.observe(outputEl, {childList: true});\n",
       "}}\n",
       "\n",
       "                        })                };                });            </script>        </div>"
      ]
     },
     "metadata": {},
     "output_type": "display_data"
    }
   ],
   "source": [
    "language_demographic = pd.read_csv(\"data/S1601LanguagesSpokenAtHome.csv\")\n",
    "language_demographic = reformat_census_df(language_demographic, 3)\n",
    "language_demographic = clean_df(language_demographic)\n",
    "\n",
    "enrollment = pd.read_csv(\"data/S1401SchoolEnrollment.csv\")\n",
    "enrollment = reformat_census_df(enrollment, 3)\n",
    "enrollment = clean_df(enrollment)\n",
    "\n",
    "language_demographic = language_demographic.loc[(language_demographic.index.get_level_values(\"County\"), \"Percent\"), :]\n",
    "enrollment = enrollment.loc[(enrollment.index.get_level_values(\"County\"), \"Percent\"), :]\n",
    "\n",
    "sub_language = language_demographic.iloc[:, [1, 2, 4, 8, 12, 16]].apply(lambda x: x.str.replace('%','').astype(float) / 100)\n",
    "sub_enrollment = enrollment.iloc[:, [7, 8]].apply(lambda x: x.str.replace('%','').astype(float) / 100)\n",
    "\n",
    "new = pd.merge(sub_enrollment, sub_language, on=['County'])\n",
    "\n",
    "all_lang_colors = ['#AB63FA', '#FFA15A', \"#FF97FF\", \"#EF553B\"]\n",
    "\n",
    "fig = make_subplots(2,2, subplot_titles=('Spanish Speakers',  'Other Indo-European Language Speakers', \n",
    "                                         'Asian & Pacific Island Language Speakers', 'Other Language Speakers'))\n",
    "\n",
    "for (i, j), type, color, bool in zip([(1, 1), (1, 2), (2, 1), (2, 2)], \n",
    "                                     [\"spanish\", \"other_indo-european_languages\", \"asian_and_pacific_island_languages\", \"other_languages\"], \n",
    "                                     all_lang_colors,\n",
    "                                     [True, False, False, False]):\n",
    "       fig.add_trace(go.Bar(x=new.index, y=new['college,_undergraduate'],\n",
    "                            name='Undergraduate',\n",
    "                            showlegend=bool,\n",
    "                            marker_color = 'green',\n",
    "                            opacity=0.4,\n",
    "                            marker_line_color='rgb(8,48,107)',\n",
    "                            marker_line_width=2),\n",
    "                     row = i, col = j)\n",
    "       fig.add_trace(go.Bar(x=new.index, y=new['graduate,_professional_school'],\n",
    "                            name='Postgraduate Enrollment', \n",
    "                            showlegend=bool,                  \n",
    "                            marker_color = 'blue',                     \n",
    "                            opacity=0.4,\n",
    "                            marker_line_color='rgb(8,48,107)',\n",
    "                            marker_line_width=2),\n",
    "                     row = i, col = j)\n",
    "       fig.add_trace(go.Scatter(x=new.index, y=new[type], line=dict(color=color), name=type), row = i, col = j)\n",
    "       \n",
    "fig.update_layout(autosize=False, width=2500, height=1250, \n",
    "                  title_text=\"Undergraduate & Postgraduate Enrollment Percentage Compared to Percentage of Language Speakers in Each County\",\n",
    "                  title_x=0.45, xaxis_title=\"Counties\", yaxis_title=\"Percentage\")\n",
    "\n",
    "for i in range(1, 5):\n",
    "       fig['layout'][f\"xaxis{i}\"]['title']='Counties'\n",
    "       fig['layout'][f\"yaxis{i}\"]['title']='Percentage'\n",
    "\n",
    "fig"
   ]
  },
  {
   "cell_type": "markdown",
   "metadata": {},
   "source": [
    "2. how do school district budgets and spending affect spoken langugae diversity in WA counties?"
   ]
  },
  {
   "cell_type": "code",
   "execution_count": 425,
   "metadata": {},
   "outputs": [],
   "source": [
    "ppe = pd.read_csv('data/SchoolDistrictPPEAverages.csv')\n",
    "ppe = clean_df(ppe)\n",
    "ppe['districtname'] = clean(ppe['districtname'])\n",
    "counties = pd.read_csv(\"data/Counties.csv\", header=2)\n",
    "counties = counties.loc[counties[\"State Postal Code\"] == \"WA\"]\n",
    "counties = clean_df(counties)\n",
    "counties['school_district_name'] = clean(counties['school_district_name'])\n",
    "\n",
    "counties_ppe = ppe.merge(counties, right_on=\"school_district_name\", left_on=\"districtname\")\n",
    "counties_ppe.set_index('school_district_name', inplace=True)\n",
    "counties_ppe.drop(columns=['districtname'], inplace=True)\n",
    "\n",
    "ppe_languages = counties_ppe[[\"ppe\", \"county_names\"]].groupby(\"county_names\").mean()\n",
    "ppe_languages['County'] = ppe_languages.index\n",
    "ppe_languages = ppe_languages.merge(sub_language, left_on=\"county_names\", right_on=\"County\")\n",
    "ppe_languages.set_index('County', inplace=True)"
   ]
  },
  {
   "cell_type": "code",
   "execution_count": 426,
   "metadata": {},
   "outputs": [
    {
     "data": {
      "application/vnd.plotly.v1+json": {
       "config": {
        "plotlyServerURL": "https://plot.ly"
       },
       "data": [
        {
         "marker": {
          "color": "#636EFA"
         },
         "name": "Spanish",
         "type": "bar",
         "x": [
          "1. Cowlitz County",
          "2. Thurston County",
          "3. Wahkiakum County",
          "4. Island County",
          "5. Mason County",
          "6. Pacific County",
          "7. Columbia County",
          "8. King County",
          "9. Clark County",
          "10. Pierce County",
          "11. Yakima County",
          "12. Snohomish County",
          "13. Benton County",
          "14. Grays Harbor County",
          "15. Klickitat County",
          "16. Franklin County",
          "17. Clallam County",
          "18. Kitsap County",
          "19. Skagit County",
          "20. Lewis County",
          "21. Okanogan County",
          "22. Spokane County",
          "23. Whatcom County",
          "24. Garfield County",
          "25. Asotin County",
          "26. Pend Oreille County",
          "27. Grant County",
          "28. Jefferson County",
          "29. Kittitas County",
          "30. Walla Walla County",
          "31. Whitman County",
          "32. Lincoln County",
          "33. Skamania County",
          "34. Douglas County",
          "35. Stevens County",
          "36. Adams County",
          "37. Chelan County",
          "38. San Juan County",
          "39. Ferry County"
         ],
         "xaxis": "x",
         "y": [
          0.077,
          0.12,
          0.054000000000000006,
          0.09300000000000001,
          0.087,
          0.099,
          0.066,
          0.294,
          0.157,
          0.157,
          0.426,
          0.228,
          0.214,
          0.08900000000000001,
          0.126,
          0.491,
          0.057,
          0.084,
          0.16699999999999998,
          0.08199999999999999,
          0.19,
          0.07200000000000001,
          0.122,
          0.037000000000000005,
          0.044000000000000004,
          0.018000000000000002,
          0.355,
          0.057999999999999996,
          0.065,
          0.195,
          0.127,
          0.033,
          0.046,
          0.285,
          0.038,
          0.511,
          0.261,
          0.066,
          0.037000000000000005
         ],
         "yaxis": "y"
        },
        {
         "marker": {
          "color": "#EF553B"
         },
         "name": "Other Indo-European Languages",
         "type": "bar",
         "x": [
          "1. Cowlitz County",
          "2. Thurston County",
          "3. Wahkiakum County",
          "4. Island County",
          "5. Mason County",
          "6. Pacific County",
          "7. Columbia County",
          "8. King County",
          "9. Clark County",
          "10. Pierce County",
          "11. Yakima County",
          "12. Snohomish County",
          "13. Benton County",
          "14. Grays Harbor County",
          "15. Klickitat County",
          "16. Franklin County",
          "17. Clallam County",
          "18. Kitsap County",
          "19. Skagit County",
          "20. Lewis County",
          "21. Okanogan County",
          "22. Spokane County",
          "23. Whatcom County",
          "24. Garfield County",
          "25. Asotin County",
          "26. Pend Oreille County",
          "27. Grant County",
          "28. Jefferson County",
          "29. Kittitas County",
          "30. Walla Walla County",
          "31. Whitman County",
          "32. Lincoln County",
          "33. Skamania County",
          "34. Douglas County",
          "35. Stevens County",
          "36. Adams County",
          "37. Chelan County",
          "38. San Juan County",
          "39. Ferry County"
         ],
         "xaxis": "x",
         "y": [
          0.053,
          0.047,
          0.040999999999999995,
          0.037000000000000005,
          0.066,
          0.071,
          0.055999999999999994,
          0.066,
          0.063,
          0.063,
          0.40700000000000003,
          0.07,
          0.163,
          0.066,
          0.107,
          0.45,
          0.031,
          0.031,
          0.134,
          0.064,
          0.174,
          0.023,
          0.062,
          0.028999999999999998,
          0.025,
          0.008,
          0.332,
          0.024,
          0.046,
          0.16,
          0.034,
          0.013000000000000001,
          0.035,
          0.272,
          0.016,
          0.489,
          0.24100000000000002,
          0.034,
          0.01
         ],
         "yaxis": "y"
        },
        {
         "marker": {
          "color": "#00CC96"
         },
         "name": "Asian and Pacific Island Languages",
         "type": "bar",
         "x": [
          "1. Cowlitz County",
          "2. Thurston County",
          "3. Wahkiakum County",
          "4. Island County",
          "5. Mason County",
          "6. Pacific County",
          "7. Columbia County",
          "8. King County",
          "9. Clark County",
          "10. Pierce County",
          "11. Yakima County",
          "12. Snohomish County",
          "13. Benton County",
          "14. Grays Harbor County",
          "15. Klickitat County",
          "16. Franklin County",
          "17. Clallam County",
          "18. Kitsap County",
          "19. Skagit County",
          "20. Lewis County",
          "21. Okanogan County",
          "22. Spokane County",
          "23. Whatcom County",
          "24. Garfield County",
          "25. Asotin County",
          "26. Pend Oreille County",
          "27. Grant County",
          "28. Jefferson County",
          "29. Kittitas County",
          "30. Walla Walla County",
          "31. Whitman County",
          "32. Lincoln County",
          "33. Skamania County",
          "34. Douglas County",
          "35. Stevens County",
          "36. Adams County",
          "37. Chelan County",
          "38. San Juan County",
          "39. Ferry County"
         ],
         "xaxis": "x",
         "y": [
          0.012,
          0.023,
          0.006999999999999999,
          0.018000000000000002,
          0.006999999999999999,
          0.016,
          0.002,
          0.073,
          0.055,
          0.028999999999999998,
          0.005,
          0.055,
          0.023,
          0.01,
          0.012,
          0.026000000000000002,
          0.013999999999999999,
          0.013000000000000001,
          0.015,
          0.01,
          0.006,
          0.025,
          0.03,
          0.008,
          0.005,
          0.003,
          0.018000000000000002,
          0.02,
          0.008,
          0.02,
          0.034,
          0.009000000000000001,
          0.006999999999999999,
          0.006999999999999999,
          0.015,
          0.008,
          0.013000000000000001,
          0.02,
          0.01
         ],
         "yaxis": "y"
        },
        {
         "marker": {
          "color": "#AB63FA"
         },
         "name": "Other Languages",
         "type": "bar",
         "x": [
          "1. Cowlitz County",
          "2. Thurston County",
          "3. Wahkiakum County",
          "4. Island County",
          "5. Mason County",
          "6. Pacific County",
          "7. Columbia County",
          "8. King County",
          "9. Clark County",
          "10. Pierce County",
          "11. Yakima County",
          "12. Snohomish County",
          "13. Benton County",
          "14. Grays Harbor County",
          "15. Klickitat County",
          "16. Franklin County",
          "17. Clallam County",
          "18. Kitsap County",
          "19. Skagit County",
          "20. Lewis County",
          "21. Okanogan County",
          "22. Spokane County",
          "23. Whatcom County",
          "24. Garfield County",
          "25. Asotin County",
          "26. Pend Oreille County",
          "27. Grant County",
          "28. Jefferson County",
          "29. Kittitas County",
          "30. Walla Walla County",
          "31. Whitman County",
          "32. Lincoln County",
          "33. Skamania County",
          "34. Douglas County",
          "35. Stevens County",
          "36. Adams County",
          "37. Chelan County",
          "38. San Juan County",
          "39. Ferry County"
         ],
         "xaxis": "x",
         "y": [
          0.01,
          0.046,
          0.005,
          0.036000000000000004,
          0.01,
          0.013000000000000001,
          0.008,
          0.126,
          0.034,
          0.055999999999999994,
          0.009000000000000001,
          0.08199999999999999,
          0.019,
          0.01,
          0.003,
          0.011000000000000001,
          0.008,
          0.035,
          0.013999999999999999,
          0.008,
          0.004,
          0.017,
          0.024,
          0,
          0.013000000000000001,
          0.003,
          0.005,
          0.011000000000000001,
          0.009000000000000001,
          0.012,
          0.049,
          0.01,
          0.005,
          0.006,
          0.004,
          0.005,
          0.006999999999999999,
          0.009000000000000001,
          0.008
         ],
         "yaxis": "y"
        },
        {
         "marker": {
          "color": "#FFA15A"
         },
         "name": "PPE",
         "type": "bar",
         "x": [
          "1. Cowlitz County",
          "2. Thurston County",
          "3. Wahkiakum County",
          "4. Island County",
          "5. Mason County",
          "6. Pacific County",
          "7. Columbia County",
          "8. King County",
          "9. Clark County",
          "10. Pierce County",
          "11. Yakima County",
          "12. Snohomish County",
          "13. Benton County",
          "14. Grays Harbor County",
          "15. Klickitat County",
          "16. Franklin County",
          "17. Clallam County",
          "18. Kitsap County",
          "19. Skagit County",
          "20. Lewis County",
          "21. Okanogan County",
          "22. Spokane County",
          "23. Whatcom County",
          "24. Garfield County",
          "25. Asotin County",
          "26. Pend Oreille County",
          "27. Grant County",
          "28. Jefferson County",
          "29. Kittitas County",
          "30. Walla Walla County",
          "31. Whitman County",
          "32. Lincoln County",
          "33. Skamania County",
          "34. Douglas County",
          "35. Stevens County",
          "36. Adams County",
          "37. Chelan County",
          "38. San Juan County",
          "39. Ferry County"
         ],
         "xaxis": "x2",
         "y": [
          13053.507035287936,
          11674.048443298174,
          11581.616415307833,
          11277.067249273581,
          11245.343919985511,
          11107.065593061188,
          11009.470112673025,
          10677.371501683361,
          10641.747867881122,
          10591.478252915082,
          10570.367171501504,
          10373.345473817451,
          10088.104720672904,
          9872.77787239011,
          9662.403771855572,
          9505.710174527465,
          9487.43521290879,
          9437.666699769516,
          9371.979468699186,
          9339.026243941504,
          9331.203911114933,
          9211.047446107776,
          9084.70847773334,
          8732.105669649663,
          8730.831670505482,
          8598.647589751758,
          8593.362682375942,
          8533.665876593892,
          8355.831628874945,
          8213.831049862332,
          7858.488079294224,
          7791.950302379288,
          7523.272170939838,
          7499.022127795878,
          6899.701294777893,
          6819.601980298986,
          6645.849535974484,
          6643.423331061867,
          6499.283221419898
         ],
         "yaxis": "y2"
        }
       ],
       "layout": {
        "annotations": [
         {
          "font": {
           "size": 16
          },
          "showarrow": false,
          "text": "Non-English Languages Spoken in WA Counties Ranked by School District Per Pupil Expenditure (PPE)",
          "x": 0.5,
          "xanchor": "center",
          "xref": "paper",
          "y": 1,
          "yanchor": "bottom",
          "yref": "paper"
         },
         {
          "font": {
           "size": 16
          },
          "showarrow": false,
          "text": " WA Counties Ranked by School District Per Pupil Expenditure (PPE)",
          "x": 0.5,
          "xanchor": "center",
          "xref": "paper",
          "y": 0.375,
          "yanchor": "bottom",
          "yref": "paper"
         }
        ],
        "autosize": false,
        "height": 1400,
        "template": {
         "data": {
          "bar": [
           {
            "error_x": {
             "color": "#2a3f5f"
            },
            "error_y": {
             "color": "#2a3f5f"
            },
            "marker": {
             "line": {
              "color": "#E5ECF6",
              "width": 0.5
             },
             "pattern": {
              "fillmode": "overlay",
              "size": 10,
              "solidity": 0.2
             }
            },
            "type": "bar"
           }
          ],
          "barpolar": [
           {
            "marker": {
             "line": {
              "color": "#E5ECF6",
              "width": 0.5
             },
             "pattern": {
              "fillmode": "overlay",
              "size": 10,
              "solidity": 0.2
             }
            },
            "type": "barpolar"
           }
          ],
          "carpet": [
           {
            "aaxis": {
             "endlinecolor": "#2a3f5f",
             "gridcolor": "white",
             "linecolor": "white",
             "minorgridcolor": "white",
             "startlinecolor": "#2a3f5f"
            },
            "baxis": {
             "endlinecolor": "#2a3f5f",
             "gridcolor": "white",
             "linecolor": "white",
             "minorgridcolor": "white",
             "startlinecolor": "#2a3f5f"
            },
            "type": "carpet"
           }
          ],
          "choropleth": [
           {
            "colorbar": {
             "outlinewidth": 0,
             "ticks": ""
            },
            "type": "choropleth"
           }
          ],
          "contour": [
           {
            "colorbar": {
             "outlinewidth": 0,
             "ticks": ""
            },
            "colorscale": [
             [
              0,
              "#0d0887"
             ],
             [
              0.1111111111111111,
              "#46039f"
             ],
             [
              0.2222222222222222,
              "#7201a8"
             ],
             [
              0.3333333333333333,
              "#9c179e"
             ],
             [
              0.4444444444444444,
              "#bd3786"
             ],
             [
              0.5555555555555556,
              "#d8576b"
             ],
             [
              0.6666666666666666,
              "#ed7953"
             ],
             [
              0.7777777777777778,
              "#fb9f3a"
             ],
             [
              0.8888888888888888,
              "#fdca26"
             ],
             [
              1,
              "#f0f921"
             ]
            ],
            "type": "contour"
           }
          ],
          "contourcarpet": [
           {
            "colorbar": {
             "outlinewidth": 0,
             "ticks": ""
            },
            "type": "contourcarpet"
           }
          ],
          "heatmap": [
           {
            "colorbar": {
             "outlinewidth": 0,
             "ticks": ""
            },
            "colorscale": [
             [
              0,
              "#0d0887"
             ],
             [
              0.1111111111111111,
              "#46039f"
             ],
             [
              0.2222222222222222,
              "#7201a8"
             ],
             [
              0.3333333333333333,
              "#9c179e"
             ],
             [
              0.4444444444444444,
              "#bd3786"
             ],
             [
              0.5555555555555556,
              "#d8576b"
             ],
             [
              0.6666666666666666,
              "#ed7953"
             ],
             [
              0.7777777777777778,
              "#fb9f3a"
             ],
             [
              0.8888888888888888,
              "#fdca26"
             ],
             [
              1,
              "#f0f921"
             ]
            ],
            "type": "heatmap"
           }
          ],
          "heatmapgl": [
           {
            "colorbar": {
             "outlinewidth": 0,
             "ticks": ""
            },
            "colorscale": [
             [
              0,
              "#0d0887"
             ],
             [
              0.1111111111111111,
              "#46039f"
             ],
             [
              0.2222222222222222,
              "#7201a8"
             ],
             [
              0.3333333333333333,
              "#9c179e"
             ],
             [
              0.4444444444444444,
              "#bd3786"
             ],
             [
              0.5555555555555556,
              "#d8576b"
             ],
             [
              0.6666666666666666,
              "#ed7953"
             ],
             [
              0.7777777777777778,
              "#fb9f3a"
             ],
             [
              0.8888888888888888,
              "#fdca26"
             ],
             [
              1,
              "#f0f921"
             ]
            ],
            "type": "heatmapgl"
           }
          ],
          "histogram": [
           {
            "marker": {
             "pattern": {
              "fillmode": "overlay",
              "size": 10,
              "solidity": 0.2
             }
            },
            "type": "histogram"
           }
          ],
          "histogram2d": [
           {
            "colorbar": {
             "outlinewidth": 0,
             "ticks": ""
            },
            "colorscale": [
             [
              0,
              "#0d0887"
             ],
             [
              0.1111111111111111,
              "#46039f"
             ],
             [
              0.2222222222222222,
              "#7201a8"
             ],
             [
              0.3333333333333333,
              "#9c179e"
             ],
             [
              0.4444444444444444,
              "#bd3786"
             ],
             [
              0.5555555555555556,
              "#d8576b"
             ],
             [
              0.6666666666666666,
              "#ed7953"
             ],
             [
              0.7777777777777778,
              "#fb9f3a"
             ],
             [
              0.8888888888888888,
              "#fdca26"
             ],
             [
              1,
              "#f0f921"
             ]
            ],
            "type": "histogram2d"
           }
          ],
          "histogram2dcontour": [
           {
            "colorbar": {
             "outlinewidth": 0,
             "ticks": ""
            },
            "colorscale": [
             [
              0,
              "#0d0887"
             ],
             [
              0.1111111111111111,
              "#46039f"
             ],
             [
              0.2222222222222222,
              "#7201a8"
             ],
             [
              0.3333333333333333,
              "#9c179e"
             ],
             [
              0.4444444444444444,
              "#bd3786"
             ],
             [
              0.5555555555555556,
              "#d8576b"
             ],
             [
              0.6666666666666666,
              "#ed7953"
             ],
             [
              0.7777777777777778,
              "#fb9f3a"
             ],
             [
              0.8888888888888888,
              "#fdca26"
             ],
             [
              1,
              "#f0f921"
             ]
            ],
            "type": "histogram2dcontour"
           }
          ],
          "mesh3d": [
           {
            "colorbar": {
             "outlinewidth": 0,
             "ticks": ""
            },
            "type": "mesh3d"
           }
          ],
          "parcoords": [
           {
            "line": {
             "colorbar": {
              "outlinewidth": 0,
              "ticks": ""
             }
            },
            "type": "parcoords"
           }
          ],
          "pie": [
           {
            "automargin": true,
            "type": "pie"
           }
          ],
          "scatter": [
           {
            "fillpattern": {
             "fillmode": "overlay",
             "size": 10,
             "solidity": 0.2
            },
            "type": "scatter"
           }
          ],
          "scatter3d": [
           {
            "line": {
             "colorbar": {
              "outlinewidth": 0,
              "ticks": ""
             }
            },
            "marker": {
             "colorbar": {
              "outlinewidth": 0,
              "ticks": ""
             }
            },
            "type": "scatter3d"
           }
          ],
          "scattercarpet": [
           {
            "marker": {
             "colorbar": {
              "outlinewidth": 0,
              "ticks": ""
             }
            },
            "type": "scattercarpet"
           }
          ],
          "scattergeo": [
           {
            "marker": {
             "colorbar": {
              "outlinewidth": 0,
              "ticks": ""
             }
            },
            "type": "scattergeo"
           }
          ],
          "scattergl": [
           {
            "marker": {
             "colorbar": {
              "outlinewidth": 0,
              "ticks": ""
             }
            },
            "type": "scattergl"
           }
          ],
          "scattermapbox": [
           {
            "marker": {
             "colorbar": {
              "outlinewidth": 0,
              "ticks": ""
             }
            },
            "type": "scattermapbox"
           }
          ],
          "scatterpolar": [
           {
            "marker": {
             "colorbar": {
              "outlinewidth": 0,
              "ticks": ""
             }
            },
            "type": "scatterpolar"
           }
          ],
          "scatterpolargl": [
           {
            "marker": {
             "colorbar": {
              "outlinewidth": 0,
              "ticks": ""
             }
            },
            "type": "scatterpolargl"
           }
          ],
          "scatterternary": [
           {
            "marker": {
             "colorbar": {
              "outlinewidth": 0,
              "ticks": ""
             }
            },
            "type": "scatterternary"
           }
          ],
          "surface": [
           {
            "colorbar": {
             "outlinewidth": 0,
             "ticks": ""
            },
            "colorscale": [
             [
              0,
              "#0d0887"
             ],
             [
              0.1111111111111111,
              "#46039f"
             ],
             [
              0.2222222222222222,
              "#7201a8"
             ],
             [
              0.3333333333333333,
              "#9c179e"
             ],
             [
              0.4444444444444444,
              "#bd3786"
             ],
             [
              0.5555555555555556,
              "#d8576b"
             ],
             [
              0.6666666666666666,
              "#ed7953"
             ],
             [
              0.7777777777777778,
              "#fb9f3a"
             ],
             [
              0.8888888888888888,
              "#fdca26"
             ],
             [
              1,
              "#f0f921"
             ]
            ],
            "type": "surface"
           }
          ],
          "table": [
           {
            "cells": {
             "fill": {
              "color": "#EBF0F8"
             },
             "line": {
              "color": "white"
             }
            },
            "header": {
             "fill": {
              "color": "#C8D4E3"
             },
             "line": {
              "color": "white"
             }
            },
            "type": "table"
           }
          ]
         },
         "layout": {
          "annotationdefaults": {
           "arrowcolor": "#2a3f5f",
           "arrowhead": 0,
           "arrowwidth": 1
          },
          "autotypenumbers": "strict",
          "coloraxis": {
           "colorbar": {
            "outlinewidth": 0,
            "ticks": ""
           }
          },
          "colorscale": {
           "diverging": [
            [
             0,
             "#8e0152"
            ],
            [
             0.1,
             "#c51b7d"
            ],
            [
             0.2,
             "#de77ae"
            ],
            [
             0.3,
             "#f1b6da"
            ],
            [
             0.4,
             "#fde0ef"
            ],
            [
             0.5,
             "#f7f7f7"
            ],
            [
             0.6,
             "#e6f5d0"
            ],
            [
             0.7,
             "#b8e186"
            ],
            [
             0.8,
             "#7fbc41"
            ],
            [
             0.9,
             "#4d9221"
            ],
            [
             1,
             "#276419"
            ]
           ],
           "sequential": [
            [
             0,
             "#0d0887"
            ],
            [
             0.1111111111111111,
             "#46039f"
            ],
            [
             0.2222222222222222,
             "#7201a8"
            ],
            [
             0.3333333333333333,
             "#9c179e"
            ],
            [
             0.4444444444444444,
             "#bd3786"
            ],
            [
             0.5555555555555556,
             "#d8576b"
            ],
            [
             0.6666666666666666,
             "#ed7953"
            ],
            [
             0.7777777777777778,
             "#fb9f3a"
            ],
            [
             0.8888888888888888,
             "#fdca26"
            ],
            [
             1,
             "#f0f921"
            ]
           ],
           "sequentialminus": [
            [
             0,
             "#0d0887"
            ],
            [
             0.1111111111111111,
             "#46039f"
            ],
            [
             0.2222222222222222,
             "#7201a8"
            ],
            [
             0.3333333333333333,
             "#9c179e"
            ],
            [
             0.4444444444444444,
             "#bd3786"
            ],
            [
             0.5555555555555556,
             "#d8576b"
            ],
            [
             0.6666666666666666,
             "#ed7953"
            ],
            [
             0.7777777777777778,
             "#fb9f3a"
            ],
            [
             0.8888888888888888,
             "#fdca26"
            ],
            [
             1,
             "#f0f921"
            ]
           ]
          },
          "colorway": [
           "#636efa",
           "#EF553B",
           "#00cc96",
           "#ab63fa",
           "#FFA15A",
           "#19d3f3",
           "#FF6692",
           "#B6E880",
           "#FF97FF",
           "#FECB52"
          ],
          "font": {
           "color": "#2a3f5f"
          },
          "geo": {
           "bgcolor": "white",
           "lakecolor": "white",
           "landcolor": "#E5ECF6",
           "showlakes": true,
           "showland": true,
           "subunitcolor": "white"
          },
          "hoverlabel": {
           "align": "left"
          },
          "hovermode": "closest",
          "mapbox": {
           "style": "light"
          },
          "paper_bgcolor": "white",
          "plot_bgcolor": "#E5ECF6",
          "polar": {
           "angularaxis": {
            "gridcolor": "white",
            "linecolor": "white",
            "ticks": ""
           },
           "bgcolor": "#E5ECF6",
           "radialaxis": {
            "gridcolor": "white",
            "linecolor": "white",
            "ticks": ""
           }
          },
          "scene": {
           "xaxis": {
            "backgroundcolor": "#E5ECF6",
            "gridcolor": "white",
            "gridwidth": 2,
            "linecolor": "white",
            "showbackground": true,
            "ticks": "",
            "zerolinecolor": "white"
           },
           "yaxis": {
            "backgroundcolor": "#E5ECF6",
            "gridcolor": "white",
            "gridwidth": 2,
            "linecolor": "white",
            "showbackground": true,
            "ticks": "",
            "zerolinecolor": "white"
           },
           "zaxis": {
            "backgroundcolor": "#E5ECF6",
            "gridcolor": "white",
            "gridwidth": 2,
            "linecolor": "white",
            "showbackground": true,
            "ticks": "",
            "zerolinecolor": "white"
           }
          },
          "shapedefaults": {
           "line": {
            "color": "#2a3f5f"
           }
          },
          "ternary": {
           "aaxis": {
            "gridcolor": "white",
            "linecolor": "white",
            "ticks": ""
           },
           "baxis": {
            "gridcolor": "white",
            "linecolor": "white",
            "ticks": ""
           },
           "bgcolor": "#E5ECF6",
           "caxis": {
            "gridcolor": "white",
            "linecolor": "white",
            "ticks": ""
           }
          },
          "title": {
           "x": 0.05
          },
          "xaxis": {
           "automargin": true,
           "gridcolor": "white",
           "linecolor": "white",
           "ticks": "",
           "title": {
            "standoff": 15
           },
           "zerolinecolor": "white",
           "zerolinewidth": 2
          },
          "yaxis": {
           "automargin": true,
           "gridcolor": "white",
           "linecolor": "white",
           "ticks": "",
           "title": {
            "standoff": 15
           },
           "zerolinecolor": "white",
           "zerolinewidth": 2
          }
         }
        },
        "width": 1300,
        "xaxis": {
         "anchor": "y",
         "domain": [
          0,
          1
         ],
         "title": {
          "text": "WA Counties"
         }
        },
        "xaxis2": {
         "anchor": "y2",
         "domain": [
          0,
          1
         ],
         "title": {
          "text": "WA Counties"
         }
        },
        "yaxis": {
         "anchor": "x",
         "domain": [
          0.625,
          1
         ],
         "title": {
          "text": "Percentage of Language Type Spoken"
         }
        },
        "yaxis2": {
         "anchor": "x2",
         "domain": [
          0,
          0.375
         ],
         "title": {
          "text": "Per Pupil Expenditure"
         }
        }
       }
      },
      "text/html": [
       "<div>                            <div id=\"c6bc3ab8-3630-422a-9de0-05aef2ab4f15\" class=\"plotly-graph-div\" style=\"height:1400px; width:1300px;\"></div>            <script type=\"text/javascript\">                require([\"plotly\"], function(Plotly) {                    window.PLOTLYENV=window.PLOTLYENV || {};                                    if (document.getElementById(\"c6bc3ab8-3630-422a-9de0-05aef2ab4f15\")) {                    Plotly.newPlot(                        \"c6bc3ab8-3630-422a-9de0-05aef2ab4f15\",                        [{\"marker\":{\"color\":\"#636EFA\"},\"name\":\"Spanish\",\"x\":[\"1. Cowlitz County\",\"2. Thurston County\",\"3. Wahkiakum County\",\"4. Island County\",\"5. Mason County\",\"6. Pacific County\",\"7. Columbia County\",\"8. King County\",\"9. Clark County\",\"10. Pierce County\",\"11. Yakima County\",\"12. Snohomish County\",\"13. Benton County\",\"14. Grays Harbor County\",\"15. Klickitat County\",\"16. Franklin County\",\"17. Clallam County\",\"18. Kitsap County\",\"19. Skagit County\",\"20. Lewis County\",\"21. Okanogan County\",\"22. Spokane County\",\"23. Whatcom County\",\"24. Garfield County\",\"25. Asotin County\",\"26. Pend Oreille County\",\"27. Grant County\",\"28. Jefferson County\",\"29. Kittitas County\",\"30. Walla Walla County\",\"31. Whitman County\",\"32. Lincoln County\",\"33. Skamania County\",\"34. Douglas County\",\"35. Stevens County\",\"36. Adams County\",\"37. Chelan County\",\"38. San Juan County\",\"39. Ferry County\"],\"y\":[0.077,0.12,0.054000000000000006,0.09300000000000001,0.087,0.099,0.066,0.294,0.157,0.157,0.426,0.228,0.214,0.08900000000000001,0.126,0.491,0.057,0.084,0.16699999999999998,0.08199999999999999,0.19,0.07200000000000001,0.122,0.037000000000000005,0.044000000000000004,0.018000000000000002,0.355,0.057999999999999996,0.065,0.195,0.127,0.033,0.046,0.285,0.038,0.511,0.261,0.066,0.037000000000000005],\"type\":\"bar\",\"xaxis\":\"x\",\"yaxis\":\"y\"},{\"marker\":{\"color\":\"#EF553B\"},\"name\":\"Other Indo-European Languages\",\"x\":[\"1. Cowlitz County\",\"2. Thurston County\",\"3. Wahkiakum County\",\"4. Island County\",\"5. Mason County\",\"6. Pacific County\",\"7. Columbia County\",\"8. King County\",\"9. Clark County\",\"10. Pierce County\",\"11. Yakima County\",\"12. Snohomish County\",\"13. Benton County\",\"14. Grays Harbor County\",\"15. Klickitat County\",\"16. Franklin County\",\"17. Clallam County\",\"18. Kitsap County\",\"19. Skagit County\",\"20. Lewis County\",\"21. Okanogan County\",\"22. Spokane County\",\"23. Whatcom County\",\"24. Garfield County\",\"25. Asotin County\",\"26. Pend Oreille County\",\"27. Grant County\",\"28. Jefferson County\",\"29. Kittitas County\",\"30. Walla Walla County\",\"31. Whitman County\",\"32. Lincoln County\",\"33. Skamania County\",\"34. Douglas County\",\"35. Stevens County\",\"36. Adams County\",\"37. Chelan County\",\"38. San Juan County\",\"39. Ferry County\"],\"y\":[0.053,0.047,0.040999999999999995,0.037000000000000005,0.066,0.071,0.055999999999999994,0.066,0.063,0.063,0.40700000000000003,0.07,0.163,0.066,0.107,0.45,0.031,0.031,0.134,0.064,0.174,0.023,0.062,0.028999999999999998,0.025,0.008,0.332,0.024,0.046,0.16,0.034,0.013000000000000001,0.035,0.272,0.016,0.489,0.24100000000000002,0.034,0.01],\"type\":\"bar\",\"xaxis\":\"x\",\"yaxis\":\"y\"},{\"marker\":{\"color\":\"#00CC96\"},\"name\":\"Asian and Pacific Island Languages\",\"x\":[\"1. Cowlitz County\",\"2. Thurston County\",\"3. Wahkiakum County\",\"4. Island County\",\"5. Mason County\",\"6. Pacific County\",\"7. Columbia County\",\"8. King County\",\"9. Clark County\",\"10. Pierce County\",\"11. Yakima County\",\"12. Snohomish County\",\"13. Benton County\",\"14. Grays Harbor County\",\"15. Klickitat County\",\"16. Franklin County\",\"17. Clallam County\",\"18. Kitsap County\",\"19. Skagit County\",\"20. Lewis County\",\"21. Okanogan County\",\"22. Spokane County\",\"23. Whatcom County\",\"24. Garfield County\",\"25. Asotin County\",\"26. Pend Oreille County\",\"27. Grant County\",\"28. Jefferson County\",\"29. Kittitas County\",\"30. Walla Walla County\",\"31. Whitman County\",\"32. Lincoln County\",\"33. Skamania County\",\"34. Douglas County\",\"35. Stevens County\",\"36. Adams County\",\"37. Chelan County\",\"38. San Juan County\",\"39. Ferry County\"],\"y\":[0.012,0.023,0.006999999999999999,0.018000000000000002,0.006999999999999999,0.016,0.002,0.073,0.055,0.028999999999999998,0.005,0.055,0.023,0.01,0.012,0.026000000000000002,0.013999999999999999,0.013000000000000001,0.015,0.01,0.006,0.025,0.03,0.008,0.005,0.003,0.018000000000000002,0.02,0.008,0.02,0.034,0.009000000000000001,0.006999999999999999,0.006999999999999999,0.015,0.008,0.013000000000000001,0.02,0.01],\"type\":\"bar\",\"xaxis\":\"x\",\"yaxis\":\"y\"},{\"marker\":{\"color\":\"#AB63FA\"},\"name\":\"Other Languages\",\"x\":[\"1. Cowlitz County\",\"2. Thurston County\",\"3. Wahkiakum County\",\"4. Island County\",\"5. Mason County\",\"6. Pacific County\",\"7. Columbia County\",\"8. King County\",\"9. Clark County\",\"10. Pierce County\",\"11. Yakima County\",\"12. Snohomish County\",\"13. Benton County\",\"14. Grays Harbor County\",\"15. Klickitat County\",\"16. Franklin County\",\"17. Clallam County\",\"18. Kitsap County\",\"19. Skagit County\",\"20. Lewis County\",\"21. Okanogan County\",\"22. Spokane County\",\"23. Whatcom County\",\"24. Garfield County\",\"25. Asotin County\",\"26. Pend Oreille County\",\"27. Grant County\",\"28. Jefferson County\",\"29. Kittitas County\",\"30. Walla Walla County\",\"31. Whitman County\",\"32. Lincoln County\",\"33. Skamania County\",\"34. Douglas County\",\"35. Stevens County\",\"36. Adams County\",\"37. Chelan County\",\"38. San Juan County\",\"39. Ferry County\"],\"y\":[0.01,0.046,0.005,0.036000000000000004,0.01,0.013000000000000001,0.008,0.126,0.034,0.055999999999999994,0.009000000000000001,0.08199999999999999,0.019,0.01,0.003,0.011000000000000001,0.008,0.035,0.013999999999999999,0.008,0.004,0.017,0.024,0.0,0.013000000000000001,0.003,0.005,0.011000000000000001,0.009000000000000001,0.012,0.049,0.01,0.005,0.006,0.004,0.005,0.006999999999999999,0.009000000000000001,0.008],\"type\":\"bar\",\"xaxis\":\"x\",\"yaxis\":\"y\"},{\"marker\":{\"color\":\"#FFA15A\"},\"name\":\"PPE\",\"x\":[\"1. Cowlitz County\",\"2. Thurston County\",\"3. Wahkiakum County\",\"4. Island County\",\"5. Mason County\",\"6. Pacific County\",\"7. Columbia County\",\"8. King County\",\"9. Clark County\",\"10. Pierce County\",\"11. Yakima County\",\"12. Snohomish County\",\"13. Benton County\",\"14. Grays Harbor County\",\"15. Klickitat County\",\"16. Franklin County\",\"17. Clallam County\",\"18. Kitsap County\",\"19. Skagit County\",\"20. Lewis County\",\"21. Okanogan County\",\"22. Spokane County\",\"23. Whatcom County\",\"24. Garfield County\",\"25. Asotin County\",\"26. Pend Oreille County\",\"27. Grant County\",\"28. Jefferson County\",\"29. Kittitas County\",\"30. Walla Walla County\",\"31. Whitman County\",\"32. Lincoln County\",\"33. Skamania County\",\"34. Douglas County\",\"35. Stevens County\",\"36. Adams County\",\"37. Chelan County\",\"38. San Juan County\",\"39. Ferry County\"],\"y\":[13053.507035287936,11674.048443298174,11581.616415307833,11277.067249273581,11245.343919985511,11107.065593061188,11009.470112673025,10677.371501683361,10641.747867881122,10591.478252915082,10570.367171501504,10373.345473817451,10088.104720672904,9872.77787239011,9662.403771855572,9505.710174527465,9487.43521290879,9437.666699769516,9371.979468699186,9339.026243941504,9331.203911114933,9211.047446107776,9084.70847773334,8732.105669649663,8730.831670505482,8598.647589751758,8593.362682375942,8533.665876593892,8355.831628874945,8213.831049862332,7858.488079294224,7791.950302379288,7523.272170939838,7499.022127795878,6899.701294777893,6819.601980298986,6645.849535974484,6643.423331061867,6499.283221419898],\"type\":\"bar\",\"xaxis\":\"x2\",\"yaxis\":\"y2\"}],                        {\"template\":{\"data\":{\"histogram2dcontour\":[{\"type\":\"histogram2dcontour\",\"colorbar\":{\"outlinewidth\":0,\"ticks\":\"\"},\"colorscale\":[[0.0,\"#0d0887\"],[0.1111111111111111,\"#46039f\"],[0.2222222222222222,\"#7201a8\"],[0.3333333333333333,\"#9c179e\"],[0.4444444444444444,\"#bd3786\"],[0.5555555555555556,\"#d8576b\"],[0.6666666666666666,\"#ed7953\"],[0.7777777777777778,\"#fb9f3a\"],[0.8888888888888888,\"#fdca26\"],[1.0,\"#f0f921\"]]}],\"choropleth\":[{\"type\":\"choropleth\",\"colorbar\":{\"outlinewidth\":0,\"ticks\":\"\"}}],\"histogram2d\":[{\"type\":\"histogram2d\",\"colorbar\":{\"outlinewidth\":0,\"ticks\":\"\"},\"colorscale\":[[0.0,\"#0d0887\"],[0.1111111111111111,\"#46039f\"],[0.2222222222222222,\"#7201a8\"],[0.3333333333333333,\"#9c179e\"],[0.4444444444444444,\"#bd3786\"],[0.5555555555555556,\"#d8576b\"],[0.6666666666666666,\"#ed7953\"],[0.7777777777777778,\"#fb9f3a\"],[0.8888888888888888,\"#fdca26\"],[1.0,\"#f0f921\"]]}],\"heatmap\":[{\"type\":\"heatmap\",\"colorbar\":{\"outlinewidth\":0,\"ticks\":\"\"},\"colorscale\":[[0.0,\"#0d0887\"],[0.1111111111111111,\"#46039f\"],[0.2222222222222222,\"#7201a8\"],[0.3333333333333333,\"#9c179e\"],[0.4444444444444444,\"#bd3786\"],[0.5555555555555556,\"#d8576b\"],[0.6666666666666666,\"#ed7953\"],[0.7777777777777778,\"#fb9f3a\"],[0.8888888888888888,\"#fdca26\"],[1.0,\"#f0f921\"]]}],\"heatmapgl\":[{\"type\":\"heatmapgl\",\"colorbar\":{\"outlinewidth\":0,\"ticks\":\"\"},\"colorscale\":[[0.0,\"#0d0887\"],[0.1111111111111111,\"#46039f\"],[0.2222222222222222,\"#7201a8\"],[0.3333333333333333,\"#9c179e\"],[0.4444444444444444,\"#bd3786\"],[0.5555555555555556,\"#d8576b\"],[0.6666666666666666,\"#ed7953\"],[0.7777777777777778,\"#fb9f3a\"],[0.8888888888888888,\"#fdca26\"],[1.0,\"#f0f921\"]]}],\"contourcarpet\":[{\"type\":\"contourcarpet\",\"colorbar\":{\"outlinewidth\":0,\"ticks\":\"\"}}],\"contour\":[{\"type\":\"contour\",\"colorbar\":{\"outlinewidth\":0,\"ticks\":\"\"},\"colorscale\":[[0.0,\"#0d0887\"],[0.1111111111111111,\"#46039f\"],[0.2222222222222222,\"#7201a8\"],[0.3333333333333333,\"#9c179e\"],[0.4444444444444444,\"#bd3786\"],[0.5555555555555556,\"#d8576b\"],[0.6666666666666666,\"#ed7953\"],[0.7777777777777778,\"#fb9f3a\"],[0.8888888888888888,\"#fdca26\"],[1.0,\"#f0f921\"]]}],\"surface\":[{\"type\":\"surface\",\"colorbar\":{\"outlinewidth\":0,\"ticks\":\"\"},\"colorscale\":[[0.0,\"#0d0887\"],[0.1111111111111111,\"#46039f\"],[0.2222222222222222,\"#7201a8\"],[0.3333333333333333,\"#9c179e\"],[0.4444444444444444,\"#bd3786\"],[0.5555555555555556,\"#d8576b\"],[0.6666666666666666,\"#ed7953\"],[0.7777777777777778,\"#fb9f3a\"],[0.8888888888888888,\"#fdca26\"],[1.0,\"#f0f921\"]]}],\"mesh3d\":[{\"type\":\"mesh3d\",\"colorbar\":{\"outlinewidth\":0,\"ticks\":\"\"}}],\"scatter\":[{\"fillpattern\":{\"fillmode\":\"overlay\",\"size\":10,\"solidity\":0.2},\"type\":\"scatter\"}],\"parcoords\":[{\"type\":\"parcoords\",\"line\":{\"colorbar\":{\"outlinewidth\":0,\"ticks\":\"\"}}}],\"scatterpolargl\":[{\"type\":\"scatterpolargl\",\"marker\":{\"colorbar\":{\"outlinewidth\":0,\"ticks\":\"\"}}}],\"bar\":[{\"error_x\":{\"color\":\"#2a3f5f\"},\"error_y\":{\"color\":\"#2a3f5f\"},\"marker\":{\"line\":{\"color\":\"#E5ECF6\",\"width\":0.5},\"pattern\":{\"fillmode\":\"overlay\",\"size\":10,\"solidity\":0.2}},\"type\":\"bar\"}],\"scattergeo\":[{\"type\":\"scattergeo\",\"marker\":{\"colorbar\":{\"outlinewidth\":0,\"ticks\":\"\"}}}],\"scatterpolar\":[{\"type\":\"scatterpolar\",\"marker\":{\"colorbar\":{\"outlinewidth\":0,\"ticks\":\"\"}}}],\"histogram\":[{\"marker\":{\"pattern\":{\"fillmode\":\"overlay\",\"size\":10,\"solidity\":0.2}},\"type\":\"histogram\"}],\"scattergl\":[{\"type\":\"scattergl\",\"marker\":{\"colorbar\":{\"outlinewidth\":0,\"ticks\":\"\"}}}],\"scatter3d\":[{\"type\":\"scatter3d\",\"line\":{\"colorbar\":{\"outlinewidth\":0,\"ticks\":\"\"}},\"marker\":{\"colorbar\":{\"outlinewidth\":0,\"ticks\":\"\"}}}],\"scattermapbox\":[{\"type\":\"scattermapbox\",\"marker\":{\"colorbar\":{\"outlinewidth\":0,\"ticks\":\"\"}}}],\"scatterternary\":[{\"type\":\"scatterternary\",\"marker\":{\"colorbar\":{\"outlinewidth\":0,\"ticks\":\"\"}}}],\"scattercarpet\":[{\"type\":\"scattercarpet\",\"marker\":{\"colorbar\":{\"outlinewidth\":0,\"ticks\":\"\"}}}],\"carpet\":[{\"aaxis\":{\"endlinecolor\":\"#2a3f5f\",\"gridcolor\":\"white\",\"linecolor\":\"white\",\"minorgridcolor\":\"white\",\"startlinecolor\":\"#2a3f5f\"},\"baxis\":{\"endlinecolor\":\"#2a3f5f\",\"gridcolor\":\"white\",\"linecolor\":\"white\",\"minorgridcolor\":\"white\",\"startlinecolor\":\"#2a3f5f\"},\"type\":\"carpet\"}],\"table\":[{\"cells\":{\"fill\":{\"color\":\"#EBF0F8\"},\"line\":{\"color\":\"white\"}},\"header\":{\"fill\":{\"color\":\"#C8D4E3\"},\"line\":{\"color\":\"white\"}},\"type\":\"table\"}],\"barpolar\":[{\"marker\":{\"line\":{\"color\":\"#E5ECF6\",\"width\":0.5},\"pattern\":{\"fillmode\":\"overlay\",\"size\":10,\"solidity\":0.2}},\"type\":\"barpolar\"}],\"pie\":[{\"automargin\":true,\"type\":\"pie\"}]},\"layout\":{\"autotypenumbers\":\"strict\",\"colorway\":[\"#636efa\",\"#EF553B\",\"#00cc96\",\"#ab63fa\",\"#FFA15A\",\"#19d3f3\",\"#FF6692\",\"#B6E880\",\"#FF97FF\",\"#FECB52\"],\"font\":{\"color\":\"#2a3f5f\"},\"hovermode\":\"closest\",\"hoverlabel\":{\"align\":\"left\"},\"paper_bgcolor\":\"white\",\"plot_bgcolor\":\"#E5ECF6\",\"polar\":{\"bgcolor\":\"#E5ECF6\",\"angularaxis\":{\"gridcolor\":\"white\",\"linecolor\":\"white\",\"ticks\":\"\"},\"radialaxis\":{\"gridcolor\":\"white\",\"linecolor\":\"white\",\"ticks\":\"\"}},\"ternary\":{\"bgcolor\":\"#E5ECF6\",\"aaxis\":{\"gridcolor\":\"white\",\"linecolor\":\"white\",\"ticks\":\"\"},\"baxis\":{\"gridcolor\":\"white\",\"linecolor\":\"white\",\"ticks\":\"\"},\"caxis\":{\"gridcolor\":\"white\",\"linecolor\":\"white\",\"ticks\":\"\"}},\"coloraxis\":{\"colorbar\":{\"outlinewidth\":0,\"ticks\":\"\"}},\"colorscale\":{\"sequential\":[[0.0,\"#0d0887\"],[0.1111111111111111,\"#46039f\"],[0.2222222222222222,\"#7201a8\"],[0.3333333333333333,\"#9c179e\"],[0.4444444444444444,\"#bd3786\"],[0.5555555555555556,\"#d8576b\"],[0.6666666666666666,\"#ed7953\"],[0.7777777777777778,\"#fb9f3a\"],[0.8888888888888888,\"#fdca26\"],[1.0,\"#f0f921\"]],\"sequentialminus\":[[0.0,\"#0d0887\"],[0.1111111111111111,\"#46039f\"],[0.2222222222222222,\"#7201a8\"],[0.3333333333333333,\"#9c179e\"],[0.4444444444444444,\"#bd3786\"],[0.5555555555555556,\"#d8576b\"],[0.6666666666666666,\"#ed7953\"],[0.7777777777777778,\"#fb9f3a\"],[0.8888888888888888,\"#fdca26\"],[1.0,\"#f0f921\"]],\"diverging\":[[0,\"#8e0152\"],[0.1,\"#c51b7d\"],[0.2,\"#de77ae\"],[0.3,\"#f1b6da\"],[0.4,\"#fde0ef\"],[0.5,\"#f7f7f7\"],[0.6,\"#e6f5d0\"],[0.7,\"#b8e186\"],[0.8,\"#7fbc41\"],[0.9,\"#4d9221\"],[1,\"#276419\"]]},\"xaxis\":{\"gridcolor\":\"white\",\"linecolor\":\"white\",\"ticks\":\"\",\"title\":{\"standoff\":15},\"zerolinecolor\":\"white\",\"automargin\":true,\"zerolinewidth\":2},\"yaxis\":{\"gridcolor\":\"white\",\"linecolor\":\"white\",\"ticks\":\"\",\"title\":{\"standoff\":15},\"zerolinecolor\":\"white\",\"automargin\":true,\"zerolinewidth\":2},\"scene\":{\"xaxis\":{\"backgroundcolor\":\"#E5ECF6\",\"gridcolor\":\"white\",\"linecolor\":\"white\",\"showbackground\":true,\"ticks\":\"\",\"zerolinecolor\":\"white\",\"gridwidth\":2},\"yaxis\":{\"backgroundcolor\":\"#E5ECF6\",\"gridcolor\":\"white\",\"linecolor\":\"white\",\"showbackground\":true,\"ticks\":\"\",\"zerolinecolor\":\"white\",\"gridwidth\":2},\"zaxis\":{\"backgroundcolor\":\"#E5ECF6\",\"gridcolor\":\"white\",\"linecolor\":\"white\",\"showbackground\":true,\"ticks\":\"\",\"zerolinecolor\":\"white\",\"gridwidth\":2}},\"shapedefaults\":{\"line\":{\"color\":\"#2a3f5f\"}},\"annotationdefaults\":{\"arrowcolor\":\"#2a3f5f\",\"arrowhead\":0,\"arrowwidth\":1},\"geo\":{\"bgcolor\":\"white\",\"landcolor\":\"#E5ECF6\",\"subunitcolor\":\"white\",\"showland\":true,\"showlakes\":true,\"lakecolor\":\"white\"},\"title\":{\"x\":0.05},\"mapbox\":{\"style\":\"light\"}}},\"xaxis\":{\"anchor\":\"y\",\"domain\":[0.0,1.0],\"title\":{\"text\":\"WA Counties\"}},\"yaxis\":{\"anchor\":\"x\",\"domain\":[0.625,1.0],\"title\":{\"text\":\"Percentage of Language Type Spoken\"}},\"xaxis2\":{\"anchor\":\"y2\",\"domain\":[0.0,1.0],\"title\":{\"text\":\"WA Counties\"}},\"yaxis2\":{\"anchor\":\"x2\",\"domain\":[0.0,0.375],\"title\":{\"text\":\"Per Pupil Expenditure\"}},\"annotations\":[{\"font\":{\"size\":16},\"showarrow\":false,\"text\":\"Non-English Languages Spoken in WA Counties Ranked by School District Per Pupil Expenditure (PPE)\",\"x\":0.5,\"xanchor\":\"center\",\"xref\":\"paper\",\"y\":1.0,\"yanchor\":\"bottom\",\"yref\":\"paper\"},{\"font\":{\"size\":16},\"showarrow\":false,\"text\":\" WA Counties Ranked by School District Per Pupil Expenditure (PPE)\",\"x\":0.5,\"xanchor\":\"center\",\"xref\":\"paper\",\"y\":0.375,\"yanchor\":\"bottom\",\"yref\":\"paper\"}],\"autosize\":false,\"width\":1300,\"height\":1400},                        {\"responsive\": true}                    ).then(function(){\n",
       "                            \n",
       "var gd = document.getElementById('c6bc3ab8-3630-422a-9de0-05aef2ab4f15');\n",
       "var x = new MutationObserver(function (mutations, observer) {{\n",
       "        var display = window.getComputedStyle(gd).display;\n",
       "        if (!display || display === 'none') {{\n",
       "            console.log([gd, 'removed!']);\n",
       "            Plotly.purge(gd);\n",
       "            observer.disconnect();\n",
       "        }}\n",
       "}});\n",
       "\n",
       "// Listen for the removal of the full notebook cells\n",
       "var notebookContainer = gd.closest('#notebook-container');\n",
       "if (notebookContainer) {{\n",
       "    x.observe(notebookContainer, {childList: true});\n",
       "}}\n",
       "\n",
       "// Listen for the clearing of the current output cell\n",
       "var outputEl = gd.closest('.output');\n",
       "if (outputEl) {{\n",
       "    x.observe(outputEl, {childList: true});\n",
       "}}\n",
       "\n",
       "                        })                };                });            </script>        </div>"
      ]
     },
     "metadata": {},
     "output_type": "display_data"
    }
   ],
   "source": [
    "ppe_languages = ppe_languages.sort_values(by='ppe', ascending=False)\n",
    "all_lang_colors = ['#636EFA', '#EF553B', \"#00CC96\", \"#AB63FA\", \"#FFA15A\"]\n",
    "all_counties = []\n",
    "for i in range(len(ppe_languages.index)):\n",
    "    all_counties.append(str(i + 1) + \". \" + ppe_languages.index[i])\n",
    "all_lang_types = ppe_languages.iloc[:, 2:].columns\n",
    "all_lang_labels = ['Spanish', 'Other Indo-European Languages', 'Asian and Pacific Island Languages', 'Other Languages']\n",
    "fig = make_subplots(2, 1, subplot_titles=('Non-English Languages Spoken in WA Counties Ranked by School District Per Pupil Expenditure (PPE)',  \n",
    "                                          ' WA Counties Ranked by School District Per Pupil Expenditure (PPE)'))\n",
    "\n",
    "for i in range(len(all_lang_labels)):\n",
    "    fig.add_trace(go.Bar(x=all_counties,\n",
    "                    y=ppe_languages[all_lang_types[i]],\n",
    "                    name=all_lang_labels[i],\n",
    "                    marker_color=all_lang_colors[i]\n",
    "                    ), row = 1, col = 1)\n",
    "fig.add_trace(go.Bar(x=all_counties,\n",
    "                y=ppe_languages['ppe'],\n",
    "                name='PPE',\n",
    "                marker_color=all_lang_colors[4]\n",
    "                ), row = 2, col = 1)\n",
    "fig.update_layout(autosize=False, width=1300, height=1400)\n",
    "fig['layout']['xaxis']['title']='WA Counties'\n",
    "fig['layout']['xaxis2']['title']='WA Counties'\n",
    "fig['layout']['yaxis']['title']='Percentage of Language Type Spoken'\n",
    "fig['layout']['yaxis2']['title']='Per Pupil Expenditure'\n",
    "\n",
    "fig.show()"
   ]
  },
  {
   "cell_type": "markdown",
   "metadata": {},
   "source": [
    "3. To what extent do Washington residents continue to practice their ancestral culture through language?\n",
    "- We chose to first look at the demographic distribution as a percentage of people who identified as non-American. \n",
    "Then we ran a linear regression to measure how strong this relationship was, between the the diversity rate (non-American)of a county and the rate at which English is only used in households."
   ]
  },
  {
   "cell_type": "code",
   "execution_count": 427,
   "metadata": {},
   "outputs": [],
   "source": [
    "households = pd.read_csv(\"data/DP02AncestryLanguagesSpokenAtHome.csv\")\n",
    "households = reformat_census_df(households, 2)\n",
    "households = clean_df(households)"
   ]
  },
  {
   "cell_type": "code",
   "execution_count": 428,
   "metadata": {},
   "outputs": [],
   "source": [
    "# getting the total diversity for non-American ancestry\n",
    "\n",
    "ancestry_backgrounds = households.iloc[:, -32:-4].copy().loc[(households.index.get_level_values(\"County\"), \"Estimate\"), :]\n",
    "ancestry_backgrounds = ancestry_backgrounds.apply(lambda x: x.str.replace(',','').astype(float))\n",
    "ancestry_backgrounds.columns = [name.strip() for name in ancestry_backgrounds.columns]\n",
    "\n",
    "\n",
    "diverse_count = []\n",
    "full_count = [x.sum() for _, x in ancestry_backgrounds.iterrows()]\n",
    "for _, row in ancestry_backgrounds.iloc[:, 1:].iterrows():\n",
    "    diverse_count.append(row.sum())\n",
    "\n",
    "ancestry_backgrounds['diversity_ratio'] = [x / y for x, y in zip(diverse_count, full_count)]"
   ]
  },
  {
   "cell_type": "code",
   "execution_count": 429,
   "metadata": {},
   "outputs": [],
   "source": [
    "# getting the languages being used in each household\n",
    "lang_usages = households.iloc[:, -45:-33].copy().loc[(households.index.get_level_values(\"County\"), \"Percent\"), :]\n",
    "ancestry_backgrounds.index = ancestry_backgrounds.index.droplevel(1)\n",
    "lang_usages.index = lang_usages.index.droplevel(1)\n",
    "diverse_lang = pd.DataFrame(ancestry_backgrounds['diversity_ratio']).merge(lang_usages, right_index=True, left_index=True)\n",
    "diverse_lang.iloc[:, 2:] = diverse_lang.iloc[:, 2:].apply(lambda x: x.str.replace('%','').astype(float) / 100)"
   ]
  },
  {
   "cell_type": "code",
   "execution_count": 430,
   "metadata": {},
   "outputs": [
    {
     "name": "stderr",
     "output_type": "stream",
     "text": [
      "/home/codespace/.local/lib/python3.10/site-packages/plotly/express/_core.py:2065: FutureWarning:\n",
      "\n",
      "When grouping with a length-1 list-like, you will need to pass a length-1 tuple to get_group in a future version of pandas. Pass `(name,)` instead of `name` to silence this warning.\n",
      "\n"
     ]
    },
    {
     "data": {
      "application/vnd.plotly.v1+json": {
       "config": {
        "plotlyServerURL": "https://plot.ly"
       },
       "data": [
        {
         "alignmentgroup": "True",
         "hovertemplate": "Language=Language other than English<br>Percent=%{x}<br>County=%{y}<extra></extra>",
         "legendgroup": "Language other than English",
         "marker": {
          "color": "#636efa",
          "pattern": {
           "shape": ""
          }
         },
         "name": "Language other than English",
         "offsetgroup": "Language other than English",
         "orientation": "h",
         "showlegend": true,
         "textposition": "auto",
         "type": "bar",
         "x": [
          0.018000000000000002,
          0.033,
          0.037000000000000005,
          0.037000000000000005,
          0.038,
          0.044000000000000004,
          0.046,
          0.054000000000000006,
          0.057,
          0.057999999999999996,
          0.065,
          0.066,
          0.066,
          0.07200000000000001,
          0.077,
          0.08199999999999999,
          0.084,
          0.087,
          0.08900000000000001,
          0.09300000000000001,
          0.099,
          0.12,
          0.122,
          0.126,
          0.127,
          0.157,
          0.157,
          0.16699999999999998,
          0.19,
          0.195,
          0.205,
          0.214,
          0.228,
          0.261,
          0.285,
          0.294,
          0.355,
          0.426,
          0.491,
          0.511
         ],
         "xaxis": "x",
         "y": [
          "Pend Oreille County",
          "Lincoln County",
          "Garfield County",
          "Ferry County",
          "Stevens County",
          "Asotin County",
          "Skamania County",
          "Wahkiakum County",
          "Clallam County",
          "Jefferson County",
          "Kittitas County",
          "San Juan County",
          "Columbia County",
          "Spokane County",
          "Cowlitz County",
          "Lewis County",
          "Kitsap County",
          "Mason County",
          "Grays Harbor County",
          "Island County",
          "Pacific County",
          "Thurston County",
          "Whatcom County",
          "Klickitat County",
          "Whitman County",
          "Clark County",
          "Pierce County",
          "Skagit County",
          "Okanogan County",
          "Walla Walla County",
          "Washington",
          "Benton County",
          "Snohomish County",
          "Chelan County",
          "Douglas County",
          "King County",
          "Grant County",
          "Yakima County",
          "Franklin County",
          "Adams County"
         ],
         "yaxis": "y"
        },
        {
         "alignmentgroup": "True",
         "hovertemplate": "Language=English Only<br>Percent=%{x}<br>County=%{y}<extra></extra>",
         "legendgroup": "English Only",
         "marker": {
          "color": "#EF553B",
          "pattern": {
           "shape": ""
          }
         },
         "name": "English Only",
         "offsetgroup": "English Only",
         "orientation": "h",
         "showlegend": true,
         "textposition": "auto",
         "type": "bar",
         "x": [
          0.489,
          0.509,
          0.574,
          0.645,
          0.706,
          0.715,
          0.7390000000000001,
          0.772,
          0.7859999999999999,
          0.795,
          0.805,
          0.81,
          0.833,
          0.843,
          0.843,
          0.873,
          0.8740000000000001,
          0.878,
          0.88,
          0.9009999999999999,
          0.907,
          0.9109999999999999,
          0.9129999999999999,
          0.9159999999999999,
          0.9179999999999999,
          0.9229999999999999,
          0.9279999999999999,
          0.934,
          0.934,
          0.935,
          0.9420000000000001,
          0.943,
          0.946,
          0.9540000000000001,
          0.956,
          0.9620000000000001,
          0.963,
          0.963,
          0.9670000000000001,
          0.982
         ],
         "xaxis": "x",
         "y": [
          "Adams County",
          "Franklin County",
          "Yakima County",
          "Grant County",
          "King County",
          "Douglas County",
          "Chelan County",
          "Snohomish County",
          "Benton County",
          "Washington",
          "Walla Walla County",
          "Okanogan County",
          "Skagit County",
          "Pierce County",
          "Clark County",
          "Whitman County",
          "Klickitat County",
          "Whatcom County",
          "Thurston County",
          "Pacific County",
          "Island County",
          "Grays Harbor County",
          "Mason County",
          "Kitsap County",
          "Lewis County",
          "Cowlitz County",
          "Spokane County",
          "Columbia County",
          "San Juan County",
          "Kittitas County",
          "Jefferson County",
          "Clallam County",
          "Wahkiakum County",
          "Skamania County",
          "Asotin County",
          "Stevens County",
          "Ferry County",
          "Garfield County",
          "Lincoln County",
          "Pend Oreille County"
         ],
         "yaxis": "y"
        }
       ],
       "layout": {
        "barmode": "relative",
        "height": 900,
        "legend": {
         "title": {
          "text": "Language"
         },
         "tracegroupgap": 0
        },
        "template": {
         "data": {
          "bar": [
           {
            "error_x": {
             "color": "#2a3f5f"
            },
            "error_y": {
             "color": "#2a3f5f"
            },
            "marker": {
             "line": {
              "color": "#E5ECF6",
              "width": 0.5
             },
             "pattern": {
              "fillmode": "overlay",
              "size": 10,
              "solidity": 0.2
             }
            },
            "type": "bar"
           }
          ],
          "barpolar": [
           {
            "marker": {
             "line": {
              "color": "#E5ECF6",
              "width": 0.5
             },
             "pattern": {
              "fillmode": "overlay",
              "size": 10,
              "solidity": 0.2
             }
            },
            "type": "barpolar"
           }
          ],
          "carpet": [
           {
            "aaxis": {
             "endlinecolor": "#2a3f5f",
             "gridcolor": "white",
             "linecolor": "white",
             "minorgridcolor": "white",
             "startlinecolor": "#2a3f5f"
            },
            "baxis": {
             "endlinecolor": "#2a3f5f",
             "gridcolor": "white",
             "linecolor": "white",
             "minorgridcolor": "white",
             "startlinecolor": "#2a3f5f"
            },
            "type": "carpet"
           }
          ],
          "choropleth": [
           {
            "colorbar": {
             "outlinewidth": 0,
             "ticks": ""
            },
            "type": "choropleth"
           }
          ],
          "contour": [
           {
            "colorbar": {
             "outlinewidth": 0,
             "ticks": ""
            },
            "colorscale": [
             [
              0,
              "#0d0887"
             ],
             [
              0.1111111111111111,
              "#46039f"
             ],
             [
              0.2222222222222222,
              "#7201a8"
             ],
             [
              0.3333333333333333,
              "#9c179e"
             ],
             [
              0.4444444444444444,
              "#bd3786"
             ],
             [
              0.5555555555555556,
              "#d8576b"
             ],
             [
              0.6666666666666666,
              "#ed7953"
             ],
             [
              0.7777777777777778,
              "#fb9f3a"
             ],
             [
              0.8888888888888888,
              "#fdca26"
             ],
             [
              1,
              "#f0f921"
             ]
            ],
            "type": "contour"
           }
          ],
          "contourcarpet": [
           {
            "colorbar": {
             "outlinewidth": 0,
             "ticks": ""
            },
            "type": "contourcarpet"
           }
          ],
          "heatmap": [
           {
            "colorbar": {
             "outlinewidth": 0,
             "ticks": ""
            },
            "colorscale": [
             [
              0,
              "#0d0887"
             ],
             [
              0.1111111111111111,
              "#46039f"
             ],
             [
              0.2222222222222222,
              "#7201a8"
             ],
             [
              0.3333333333333333,
              "#9c179e"
             ],
             [
              0.4444444444444444,
              "#bd3786"
             ],
             [
              0.5555555555555556,
              "#d8576b"
             ],
             [
              0.6666666666666666,
              "#ed7953"
             ],
             [
              0.7777777777777778,
              "#fb9f3a"
             ],
             [
              0.8888888888888888,
              "#fdca26"
             ],
             [
              1,
              "#f0f921"
             ]
            ],
            "type": "heatmap"
           }
          ],
          "heatmapgl": [
           {
            "colorbar": {
             "outlinewidth": 0,
             "ticks": ""
            },
            "colorscale": [
             [
              0,
              "#0d0887"
             ],
             [
              0.1111111111111111,
              "#46039f"
             ],
             [
              0.2222222222222222,
              "#7201a8"
             ],
             [
              0.3333333333333333,
              "#9c179e"
             ],
             [
              0.4444444444444444,
              "#bd3786"
             ],
             [
              0.5555555555555556,
              "#d8576b"
             ],
             [
              0.6666666666666666,
              "#ed7953"
             ],
             [
              0.7777777777777778,
              "#fb9f3a"
             ],
             [
              0.8888888888888888,
              "#fdca26"
             ],
             [
              1,
              "#f0f921"
             ]
            ],
            "type": "heatmapgl"
           }
          ],
          "histogram": [
           {
            "marker": {
             "pattern": {
              "fillmode": "overlay",
              "size": 10,
              "solidity": 0.2
             }
            },
            "type": "histogram"
           }
          ],
          "histogram2d": [
           {
            "colorbar": {
             "outlinewidth": 0,
             "ticks": ""
            },
            "colorscale": [
             [
              0,
              "#0d0887"
             ],
             [
              0.1111111111111111,
              "#46039f"
             ],
             [
              0.2222222222222222,
              "#7201a8"
             ],
             [
              0.3333333333333333,
              "#9c179e"
             ],
             [
              0.4444444444444444,
              "#bd3786"
             ],
             [
              0.5555555555555556,
              "#d8576b"
             ],
             [
              0.6666666666666666,
              "#ed7953"
             ],
             [
              0.7777777777777778,
              "#fb9f3a"
             ],
             [
              0.8888888888888888,
              "#fdca26"
             ],
             [
              1,
              "#f0f921"
             ]
            ],
            "type": "histogram2d"
           }
          ],
          "histogram2dcontour": [
           {
            "colorbar": {
             "outlinewidth": 0,
             "ticks": ""
            },
            "colorscale": [
             [
              0,
              "#0d0887"
             ],
             [
              0.1111111111111111,
              "#46039f"
             ],
             [
              0.2222222222222222,
              "#7201a8"
             ],
             [
              0.3333333333333333,
              "#9c179e"
             ],
             [
              0.4444444444444444,
              "#bd3786"
             ],
             [
              0.5555555555555556,
              "#d8576b"
             ],
             [
              0.6666666666666666,
              "#ed7953"
             ],
             [
              0.7777777777777778,
              "#fb9f3a"
             ],
             [
              0.8888888888888888,
              "#fdca26"
             ],
             [
              1,
              "#f0f921"
             ]
            ],
            "type": "histogram2dcontour"
           }
          ],
          "mesh3d": [
           {
            "colorbar": {
             "outlinewidth": 0,
             "ticks": ""
            },
            "type": "mesh3d"
           }
          ],
          "parcoords": [
           {
            "line": {
             "colorbar": {
              "outlinewidth": 0,
              "ticks": ""
             }
            },
            "type": "parcoords"
           }
          ],
          "pie": [
           {
            "automargin": true,
            "type": "pie"
           }
          ],
          "scatter": [
           {
            "fillpattern": {
             "fillmode": "overlay",
             "size": 10,
             "solidity": 0.2
            },
            "type": "scatter"
           }
          ],
          "scatter3d": [
           {
            "line": {
             "colorbar": {
              "outlinewidth": 0,
              "ticks": ""
             }
            },
            "marker": {
             "colorbar": {
              "outlinewidth": 0,
              "ticks": ""
             }
            },
            "type": "scatter3d"
           }
          ],
          "scattercarpet": [
           {
            "marker": {
             "colorbar": {
              "outlinewidth": 0,
              "ticks": ""
             }
            },
            "type": "scattercarpet"
           }
          ],
          "scattergeo": [
           {
            "marker": {
             "colorbar": {
              "outlinewidth": 0,
              "ticks": ""
             }
            },
            "type": "scattergeo"
           }
          ],
          "scattergl": [
           {
            "marker": {
             "colorbar": {
              "outlinewidth": 0,
              "ticks": ""
             }
            },
            "type": "scattergl"
           }
          ],
          "scattermapbox": [
           {
            "marker": {
             "colorbar": {
              "outlinewidth": 0,
              "ticks": ""
             }
            },
            "type": "scattermapbox"
           }
          ],
          "scatterpolar": [
           {
            "marker": {
             "colorbar": {
              "outlinewidth": 0,
              "ticks": ""
             }
            },
            "type": "scatterpolar"
           }
          ],
          "scatterpolargl": [
           {
            "marker": {
             "colorbar": {
              "outlinewidth": 0,
              "ticks": ""
             }
            },
            "type": "scatterpolargl"
           }
          ],
          "scatterternary": [
           {
            "marker": {
             "colorbar": {
              "outlinewidth": 0,
              "ticks": ""
             }
            },
            "type": "scatterternary"
           }
          ],
          "surface": [
           {
            "colorbar": {
             "outlinewidth": 0,
             "ticks": ""
            },
            "colorscale": [
             [
              0,
              "#0d0887"
             ],
             [
              0.1111111111111111,
              "#46039f"
             ],
             [
              0.2222222222222222,
              "#7201a8"
             ],
             [
              0.3333333333333333,
              "#9c179e"
             ],
             [
              0.4444444444444444,
              "#bd3786"
             ],
             [
              0.5555555555555556,
              "#d8576b"
             ],
             [
              0.6666666666666666,
              "#ed7953"
             ],
             [
              0.7777777777777778,
              "#fb9f3a"
             ],
             [
              0.8888888888888888,
              "#fdca26"
             ],
             [
              1,
              "#f0f921"
             ]
            ],
            "type": "surface"
           }
          ],
          "table": [
           {
            "cells": {
             "fill": {
              "color": "#EBF0F8"
             },
             "line": {
              "color": "white"
             }
            },
            "header": {
             "fill": {
              "color": "#C8D4E3"
             },
             "line": {
              "color": "white"
             }
            },
            "type": "table"
           }
          ]
         },
         "layout": {
          "annotationdefaults": {
           "arrowcolor": "#2a3f5f",
           "arrowhead": 0,
           "arrowwidth": 1
          },
          "autotypenumbers": "strict",
          "coloraxis": {
           "colorbar": {
            "outlinewidth": 0,
            "ticks": ""
           }
          },
          "colorscale": {
           "diverging": [
            [
             0,
             "#8e0152"
            ],
            [
             0.1,
             "#c51b7d"
            ],
            [
             0.2,
             "#de77ae"
            ],
            [
             0.3,
             "#f1b6da"
            ],
            [
             0.4,
             "#fde0ef"
            ],
            [
             0.5,
             "#f7f7f7"
            ],
            [
             0.6,
             "#e6f5d0"
            ],
            [
             0.7,
             "#b8e186"
            ],
            [
             0.8,
             "#7fbc41"
            ],
            [
             0.9,
             "#4d9221"
            ],
            [
             1,
             "#276419"
            ]
           ],
           "sequential": [
            [
             0,
             "#0d0887"
            ],
            [
             0.1111111111111111,
             "#46039f"
            ],
            [
             0.2222222222222222,
             "#7201a8"
            ],
            [
             0.3333333333333333,
             "#9c179e"
            ],
            [
             0.4444444444444444,
             "#bd3786"
            ],
            [
             0.5555555555555556,
             "#d8576b"
            ],
            [
             0.6666666666666666,
             "#ed7953"
            ],
            [
             0.7777777777777778,
             "#fb9f3a"
            ],
            [
             0.8888888888888888,
             "#fdca26"
            ],
            [
             1,
             "#f0f921"
            ]
           ],
           "sequentialminus": [
            [
             0,
             "#0d0887"
            ],
            [
             0.1111111111111111,
             "#46039f"
            ],
            [
             0.2222222222222222,
             "#7201a8"
            ],
            [
             0.3333333333333333,
             "#9c179e"
            ],
            [
             0.4444444444444444,
             "#bd3786"
            ],
            [
             0.5555555555555556,
             "#d8576b"
            ],
            [
             0.6666666666666666,
             "#ed7953"
            ],
            [
             0.7777777777777778,
             "#fb9f3a"
            ],
            [
             0.8888888888888888,
             "#fdca26"
            ],
            [
             1,
             "#f0f921"
            ]
           ]
          },
          "colorway": [
           "#636efa",
           "#EF553B",
           "#00cc96",
           "#ab63fa",
           "#FFA15A",
           "#19d3f3",
           "#FF6692",
           "#B6E880",
           "#FF97FF",
           "#FECB52"
          ],
          "font": {
           "color": "#2a3f5f"
          },
          "geo": {
           "bgcolor": "white",
           "lakecolor": "white",
           "landcolor": "#E5ECF6",
           "showlakes": true,
           "showland": true,
           "subunitcolor": "white"
          },
          "hoverlabel": {
           "align": "left"
          },
          "hovermode": "closest",
          "mapbox": {
           "style": "light"
          },
          "paper_bgcolor": "white",
          "plot_bgcolor": "#E5ECF6",
          "polar": {
           "angularaxis": {
            "gridcolor": "white",
            "linecolor": "white",
            "ticks": ""
           },
           "bgcolor": "#E5ECF6",
           "radialaxis": {
            "gridcolor": "white",
            "linecolor": "white",
            "ticks": ""
           }
          },
          "scene": {
           "xaxis": {
            "backgroundcolor": "#E5ECF6",
            "gridcolor": "white",
            "gridwidth": 2,
            "linecolor": "white",
            "showbackground": true,
            "ticks": "",
            "zerolinecolor": "white"
           },
           "yaxis": {
            "backgroundcolor": "#E5ECF6",
            "gridcolor": "white",
            "gridwidth": 2,
            "linecolor": "white",
            "showbackground": true,
            "ticks": "",
            "zerolinecolor": "white"
           },
           "zaxis": {
            "backgroundcolor": "#E5ECF6",
            "gridcolor": "white",
            "gridwidth": 2,
            "linecolor": "white",
            "showbackground": true,
            "ticks": "",
            "zerolinecolor": "white"
           }
          },
          "shapedefaults": {
           "line": {
            "color": "#2a3f5f"
           }
          },
          "ternary": {
           "aaxis": {
            "gridcolor": "white",
            "linecolor": "white",
            "ticks": ""
           },
           "baxis": {
            "gridcolor": "white",
            "linecolor": "white",
            "ticks": ""
           },
           "bgcolor": "#E5ECF6",
           "caxis": {
            "gridcolor": "white",
            "linecolor": "white",
            "ticks": ""
           }
          },
          "title": {
           "x": 0.05
          },
          "xaxis": {
           "automargin": true,
           "gridcolor": "white",
           "linecolor": "white",
           "ticks": "",
           "title": {
            "standoff": 15
           },
           "zerolinecolor": "white",
           "zerolinewidth": 2
          },
          "yaxis": {
           "automargin": true,
           "gridcolor": "white",
           "linecolor": "white",
           "ticks": "",
           "title": {
            "standoff": 15
           },
           "zerolinecolor": "white",
           "zerolinewidth": 2
          }
         }
        },
        "title": {
         "text": "Diversity in Language in WA Counties"
        },
        "xaxis": {
         "anchor": "y",
         "domain": [
          0,
          1
         ],
         "title": {
          "text": "Percent"
         }
        },
        "yaxis": {
         "anchor": "x",
         "domain": [
          0,
          1
         ],
         "title": {
          "text": "County"
         }
        }
       }
      },
      "text/html": [
       "<div>                            <div id=\"65bb54bd-9978-4a48-9e01-3b6dd3a32b4f\" class=\"plotly-graph-div\" style=\"height:900px; width:100%;\"></div>            <script type=\"text/javascript\">                require([\"plotly\"], function(Plotly) {                    window.PLOTLYENV=window.PLOTLYENV || {};                                    if (document.getElementById(\"65bb54bd-9978-4a48-9e01-3b6dd3a32b4f\")) {                    Plotly.newPlot(                        \"65bb54bd-9978-4a48-9e01-3b6dd3a32b4f\",                        [{\"alignmentgroup\":\"True\",\"hovertemplate\":\"Language=Language other than English\\u003cbr\\u003ePercent=%{x}\\u003cbr\\u003eCounty=%{y}\\u003cextra\\u003e\\u003c\\u002fextra\\u003e\",\"legendgroup\":\"Language other than English\",\"marker\":{\"color\":\"#636efa\",\"pattern\":{\"shape\":\"\"}},\"name\":\"Language other than English\",\"offsetgroup\":\"Language other than English\",\"orientation\":\"h\",\"showlegend\":true,\"textposition\":\"auto\",\"x\":[0.018000000000000002,0.033,0.037000000000000005,0.037000000000000005,0.038,0.044000000000000004,0.046,0.054000000000000006,0.057,0.057999999999999996,0.065,0.066,0.066,0.07200000000000001,0.077,0.08199999999999999,0.084,0.087,0.08900000000000001,0.09300000000000001,0.099,0.12,0.122,0.126,0.127,0.157,0.157,0.16699999999999998,0.19,0.195,0.205,0.214,0.228,0.261,0.285,0.294,0.355,0.426,0.491,0.511],\"xaxis\":\"x\",\"y\":[\"Pend Oreille County\",\"Lincoln County\",\"Garfield County\",\"Ferry County\",\"Stevens County\",\"Asotin County\",\"Skamania County\",\"Wahkiakum County\",\"Clallam County\",\"Jefferson County\",\"Kittitas County\",\"San Juan County\",\"Columbia County\",\"Spokane County\",\"Cowlitz County\",\"Lewis County\",\"Kitsap County\",\"Mason County\",\"Grays Harbor County\",\"Island County\",\"Pacific County\",\"Thurston County\",\"Whatcom County\",\"Klickitat County\",\"Whitman County\",\"Clark County\",\"Pierce County\",\"Skagit County\",\"Okanogan County\",\"Walla Walla County\",\"Washington\",\"Benton County\",\"Snohomish County\",\"Chelan County\",\"Douglas County\",\"King County\",\"Grant County\",\"Yakima County\",\"Franklin County\",\"Adams County\"],\"yaxis\":\"y\",\"type\":\"bar\"},{\"alignmentgroup\":\"True\",\"hovertemplate\":\"Language=English Only\\u003cbr\\u003ePercent=%{x}\\u003cbr\\u003eCounty=%{y}\\u003cextra\\u003e\\u003c\\u002fextra\\u003e\",\"legendgroup\":\"English Only\",\"marker\":{\"color\":\"#EF553B\",\"pattern\":{\"shape\":\"\"}},\"name\":\"English Only\",\"offsetgroup\":\"English Only\",\"orientation\":\"h\",\"showlegend\":true,\"textposition\":\"auto\",\"x\":[0.489,0.509,0.574,0.645,0.706,0.715,0.7390000000000001,0.772,0.7859999999999999,0.795,0.805,0.81,0.833,0.843,0.843,0.873,0.8740000000000001,0.878,0.88,0.9009999999999999,0.907,0.9109999999999999,0.9129999999999999,0.9159999999999999,0.9179999999999999,0.9229999999999999,0.9279999999999999,0.934,0.934,0.935,0.9420000000000001,0.943,0.946,0.9540000000000001,0.956,0.9620000000000001,0.963,0.963,0.9670000000000001,0.982],\"xaxis\":\"x\",\"y\":[\"Adams County\",\"Franklin County\",\"Yakima County\",\"Grant County\",\"King County\",\"Douglas County\",\"Chelan County\",\"Snohomish County\",\"Benton County\",\"Washington\",\"Walla Walla County\",\"Okanogan County\",\"Skagit County\",\"Pierce County\",\"Clark County\",\"Whitman County\",\"Klickitat County\",\"Whatcom County\",\"Thurston County\",\"Pacific County\",\"Island County\",\"Grays Harbor County\",\"Mason County\",\"Kitsap County\",\"Lewis County\",\"Cowlitz County\",\"Spokane County\",\"Columbia County\",\"San Juan County\",\"Kittitas County\",\"Jefferson County\",\"Clallam County\",\"Wahkiakum County\",\"Skamania County\",\"Asotin County\",\"Stevens County\",\"Ferry County\",\"Garfield County\",\"Lincoln County\",\"Pend Oreille County\"],\"yaxis\":\"y\",\"type\":\"bar\"}],                        {\"template\":{\"data\":{\"histogram2dcontour\":[{\"type\":\"histogram2dcontour\",\"colorbar\":{\"outlinewidth\":0,\"ticks\":\"\"},\"colorscale\":[[0.0,\"#0d0887\"],[0.1111111111111111,\"#46039f\"],[0.2222222222222222,\"#7201a8\"],[0.3333333333333333,\"#9c179e\"],[0.4444444444444444,\"#bd3786\"],[0.5555555555555556,\"#d8576b\"],[0.6666666666666666,\"#ed7953\"],[0.7777777777777778,\"#fb9f3a\"],[0.8888888888888888,\"#fdca26\"],[1.0,\"#f0f921\"]]}],\"choropleth\":[{\"type\":\"choropleth\",\"colorbar\":{\"outlinewidth\":0,\"ticks\":\"\"}}],\"histogram2d\":[{\"type\":\"histogram2d\",\"colorbar\":{\"outlinewidth\":0,\"ticks\":\"\"},\"colorscale\":[[0.0,\"#0d0887\"],[0.1111111111111111,\"#46039f\"],[0.2222222222222222,\"#7201a8\"],[0.3333333333333333,\"#9c179e\"],[0.4444444444444444,\"#bd3786\"],[0.5555555555555556,\"#d8576b\"],[0.6666666666666666,\"#ed7953\"],[0.7777777777777778,\"#fb9f3a\"],[0.8888888888888888,\"#fdca26\"],[1.0,\"#f0f921\"]]}],\"heatmap\":[{\"type\":\"heatmap\",\"colorbar\":{\"outlinewidth\":0,\"ticks\":\"\"},\"colorscale\":[[0.0,\"#0d0887\"],[0.1111111111111111,\"#46039f\"],[0.2222222222222222,\"#7201a8\"],[0.3333333333333333,\"#9c179e\"],[0.4444444444444444,\"#bd3786\"],[0.5555555555555556,\"#d8576b\"],[0.6666666666666666,\"#ed7953\"],[0.7777777777777778,\"#fb9f3a\"],[0.8888888888888888,\"#fdca26\"],[1.0,\"#f0f921\"]]}],\"heatmapgl\":[{\"type\":\"heatmapgl\",\"colorbar\":{\"outlinewidth\":0,\"ticks\":\"\"},\"colorscale\":[[0.0,\"#0d0887\"],[0.1111111111111111,\"#46039f\"],[0.2222222222222222,\"#7201a8\"],[0.3333333333333333,\"#9c179e\"],[0.4444444444444444,\"#bd3786\"],[0.5555555555555556,\"#d8576b\"],[0.6666666666666666,\"#ed7953\"],[0.7777777777777778,\"#fb9f3a\"],[0.8888888888888888,\"#fdca26\"],[1.0,\"#f0f921\"]]}],\"contourcarpet\":[{\"type\":\"contourcarpet\",\"colorbar\":{\"outlinewidth\":0,\"ticks\":\"\"}}],\"contour\":[{\"type\":\"contour\",\"colorbar\":{\"outlinewidth\":0,\"ticks\":\"\"},\"colorscale\":[[0.0,\"#0d0887\"],[0.1111111111111111,\"#46039f\"],[0.2222222222222222,\"#7201a8\"],[0.3333333333333333,\"#9c179e\"],[0.4444444444444444,\"#bd3786\"],[0.5555555555555556,\"#d8576b\"],[0.6666666666666666,\"#ed7953\"],[0.7777777777777778,\"#fb9f3a\"],[0.8888888888888888,\"#fdca26\"],[1.0,\"#f0f921\"]]}],\"surface\":[{\"type\":\"surface\",\"colorbar\":{\"outlinewidth\":0,\"ticks\":\"\"},\"colorscale\":[[0.0,\"#0d0887\"],[0.1111111111111111,\"#46039f\"],[0.2222222222222222,\"#7201a8\"],[0.3333333333333333,\"#9c179e\"],[0.4444444444444444,\"#bd3786\"],[0.5555555555555556,\"#d8576b\"],[0.6666666666666666,\"#ed7953\"],[0.7777777777777778,\"#fb9f3a\"],[0.8888888888888888,\"#fdca26\"],[1.0,\"#f0f921\"]]}],\"mesh3d\":[{\"type\":\"mesh3d\",\"colorbar\":{\"outlinewidth\":0,\"ticks\":\"\"}}],\"scatter\":[{\"fillpattern\":{\"fillmode\":\"overlay\",\"size\":10,\"solidity\":0.2},\"type\":\"scatter\"}],\"parcoords\":[{\"type\":\"parcoords\",\"line\":{\"colorbar\":{\"outlinewidth\":0,\"ticks\":\"\"}}}],\"scatterpolargl\":[{\"type\":\"scatterpolargl\",\"marker\":{\"colorbar\":{\"outlinewidth\":0,\"ticks\":\"\"}}}],\"bar\":[{\"error_x\":{\"color\":\"#2a3f5f\"},\"error_y\":{\"color\":\"#2a3f5f\"},\"marker\":{\"line\":{\"color\":\"#E5ECF6\",\"width\":0.5},\"pattern\":{\"fillmode\":\"overlay\",\"size\":10,\"solidity\":0.2}},\"type\":\"bar\"}],\"scattergeo\":[{\"type\":\"scattergeo\",\"marker\":{\"colorbar\":{\"outlinewidth\":0,\"ticks\":\"\"}}}],\"scatterpolar\":[{\"type\":\"scatterpolar\",\"marker\":{\"colorbar\":{\"outlinewidth\":0,\"ticks\":\"\"}}}],\"histogram\":[{\"marker\":{\"pattern\":{\"fillmode\":\"overlay\",\"size\":10,\"solidity\":0.2}},\"type\":\"histogram\"}],\"scattergl\":[{\"type\":\"scattergl\",\"marker\":{\"colorbar\":{\"outlinewidth\":0,\"ticks\":\"\"}}}],\"scatter3d\":[{\"type\":\"scatter3d\",\"line\":{\"colorbar\":{\"outlinewidth\":0,\"ticks\":\"\"}},\"marker\":{\"colorbar\":{\"outlinewidth\":0,\"ticks\":\"\"}}}],\"scattermapbox\":[{\"type\":\"scattermapbox\",\"marker\":{\"colorbar\":{\"outlinewidth\":0,\"ticks\":\"\"}}}],\"scatterternary\":[{\"type\":\"scatterternary\",\"marker\":{\"colorbar\":{\"outlinewidth\":0,\"ticks\":\"\"}}}],\"scattercarpet\":[{\"type\":\"scattercarpet\",\"marker\":{\"colorbar\":{\"outlinewidth\":0,\"ticks\":\"\"}}}],\"carpet\":[{\"aaxis\":{\"endlinecolor\":\"#2a3f5f\",\"gridcolor\":\"white\",\"linecolor\":\"white\",\"minorgridcolor\":\"white\",\"startlinecolor\":\"#2a3f5f\"},\"baxis\":{\"endlinecolor\":\"#2a3f5f\",\"gridcolor\":\"white\",\"linecolor\":\"white\",\"minorgridcolor\":\"white\",\"startlinecolor\":\"#2a3f5f\"},\"type\":\"carpet\"}],\"table\":[{\"cells\":{\"fill\":{\"color\":\"#EBF0F8\"},\"line\":{\"color\":\"white\"}},\"header\":{\"fill\":{\"color\":\"#C8D4E3\"},\"line\":{\"color\":\"white\"}},\"type\":\"table\"}],\"barpolar\":[{\"marker\":{\"line\":{\"color\":\"#E5ECF6\",\"width\":0.5},\"pattern\":{\"fillmode\":\"overlay\",\"size\":10,\"solidity\":0.2}},\"type\":\"barpolar\"}],\"pie\":[{\"automargin\":true,\"type\":\"pie\"}]},\"layout\":{\"autotypenumbers\":\"strict\",\"colorway\":[\"#636efa\",\"#EF553B\",\"#00cc96\",\"#ab63fa\",\"#FFA15A\",\"#19d3f3\",\"#FF6692\",\"#B6E880\",\"#FF97FF\",\"#FECB52\"],\"font\":{\"color\":\"#2a3f5f\"},\"hovermode\":\"closest\",\"hoverlabel\":{\"align\":\"left\"},\"paper_bgcolor\":\"white\",\"plot_bgcolor\":\"#E5ECF6\",\"polar\":{\"bgcolor\":\"#E5ECF6\",\"angularaxis\":{\"gridcolor\":\"white\",\"linecolor\":\"white\",\"ticks\":\"\"},\"radialaxis\":{\"gridcolor\":\"white\",\"linecolor\":\"white\",\"ticks\":\"\"}},\"ternary\":{\"bgcolor\":\"#E5ECF6\",\"aaxis\":{\"gridcolor\":\"white\",\"linecolor\":\"white\",\"ticks\":\"\"},\"baxis\":{\"gridcolor\":\"white\",\"linecolor\":\"white\",\"ticks\":\"\"},\"caxis\":{\"gridcolor\":\"white\",\"linecolor\":\"white\",\"ticks\":\"\"}},\"coloraxis\":{\"colorbar\":{\"outlinewidth\":0,\"ticks\":\"\"}},\"colorscale\":{\"sequential\":[[0.0,\"#0d0887\"],[0.1111111111111111,\"#46039f\"],[0.2222222222222222,\"#7201a8\"],[0.3333333333333333,\"#9c179e\"],[0.4444444444444444,\"#bd3786\"],[0.5555555555555556,\"#d8576b\"],[0.6666666666666666,\"#ed7953\"],[0.7777777777777778,\"#fb9f3a\"],[0.8888888888888888,\"#fdca26\"],[1.0,\"#f0f921\"]],\"sequentialminus\":[[0.0,\"#0d0887\"],[0.1111111111111111,\"#46039f\"],[0.2222222222222222,\"#7201a8\"],[0.3333333333333333,\"#9c179e\"],[0.4444444444444444,\"#bd3786\"],[0.5555555555555556,\"#d8576b\"],[0.6666666666666666,\"#ed7953\"],[0.7777777777777778,\"#fb9f3a\"],[0.8888888888888888,\"#fdca26\"],[1.0,\"#f0f921\"]],\"diverging\":[[0,\"#8e0152\"],[0.1,\"#c51b7d\"],[0.2,\"#de77ae\"],[0.3,\"#f1b6da\"],[0.4,\"#fde0ef\"],[0.5,\"#f7f7f7\"],[0.6,\"#e6f5d0\"],[0.7,\"#b8e186\"],[0.8,\"#7fbc41\"],[0.9,\"#4d9221\"],[1,\"#276419\"]]},\"xaxis\":{\"gridcolor\":\"white\",\"linecolor\":\"white\",\"ticks\":\"\",\"title\":{\"standoff\":15},\"zerolinecolor\":\"white\",\"automargin\":true,\"zerolinewidth\":2},\"yaxis\":{\"gridcolor\":\"white\",\"linecolor\":\"white\",\"ticks\":\"\",\"title\":{\"standoff\":15},\"zerolinecolor\":\"white\",\"automargin\":true,\"zerolinewidth\":2},\"scene\":{\"xaxis\":{\"backgroundcolor\":\"#E5ECF6\",\"gridcolor\":\"white\",\"linecolor\":\"white\",\"showbackground\":true,\"ticks\":\"\",\"zerolinecolor\":\"white\",\"gridwidth\":2},\"yaxis\":{\"backgroundcolor\":\"#E5ECF6\",\"gridcolor\":\"white\",\"linecolor\":\"white\",\"showbackground\":true,\"ticks\":\"\",\"zerolinecolor\":\"white\",\"gridwidth\":2},\"zaxis\":{\"backgroundcolor\":\"#E5ECF6\",\"gridcolor\":\"white\",\"linecolor\":\"white\",\"showbackground\":true,\"ticks\":\"\",\"zerolinecolor\":\"white\",\"gridwidth\":2}},\"shapedefaults\":{\"line\":{\"color\":\"#2a3f5f\"}},\"annotationdefaults\":{\"arrowcolor\":\"#2a3f5f\",\"arrowhead\":0,\"arrowwidth\":1},\"geo\":{\"bgcolor\":\"white\",\"landcolor\":\"#E5ECF6\",\"subunitcolor\":\"white\",\"showland\":true,\"showlakes\":true,\"lakecolor\":\"white\"},\"title\":{\"x\":0.05},\"mapbox\":{\"style\":\"light\"}}},\"xaxis\":{\"anchor\":\"y\",\"domain\":[0.0,1.0],\"title\":{\"text\":\"Percent\"}},\"yaxis\":{\"anchor\":\"x\",\"domain\":[0.0,1.0],\"title\":{\"text\":\"County\"}},\"legend\":{\"title\":{\"text\":\"Language\"},\"tracegroupgap\":0},\"title\":{\"text\":\"Diversity in Language in WA Counties\"},\"barmode\":\"relative\",\"height\":900},                        {\"responsive\": true}                    ).then(function(){\n",
       "                            \n",
       "var gd = document.getElementById('65bb54bd-9978-4a48-9e01-3b6dd3a32b4f');\n",
       "var x = new MutationObserver(function (mutations, observer) {{\n",
       "        var display = window.getComputedStyle(gd).display;\n",
       "        if (!display || display === 'none') {{\n",
       "            console.log([gd, 'removed!']);\n",
       "            Plotly.purge(gd);\n",
       "            observer.disconnect();\n",
       "        }}\n",
       "}});\n",
       "\n",
       "// Listen for the removal of the full notebook cells\n",
       "var notebookContainer = gd.closest('#notebook-container');\n",
       "if (notebookContainer) {{\n",
       "    x.observe(notebookContainer, {childList: true});\n",
       "}}\n",
       "\n",
       "// Listen for the clearing of the current output cell\n",
       "var outputEl = gd.closest('.output');\n",
       "if (outputEl) {{\n",
       "    x.observe(outputEl, {childList: true});\n",
       "}}\n",
       "\n",
       "                        })                };                });            </script>        </div>"
      ]
     },
     "metadata": {},
     "output_type": "display_data"
    }
   ],
   "source": [
    "lang_counties = []\n",
    "lang_counts = []\n",
    "lang_kind = []\n",
    "\n",
    "for idx, row in diverse_lang.iterrows():\n",
    "    lang_counties.append(idx)\n",
    "    lang_counts.append(row['english_only'])\n",
    "    lang_kind.append('English Only')\n",
    "    lang_counties.append(idx)\n",
    "    lang_counts.append(row['language_other_than_english'])\n",
    "    lang_kind.append('Language other than English')\n",
    "\n",
    "lang_data = {}\n",
    "lang_data['County'] = lang_counties\n",
    "lang_data['Percent'] = lang_counts\n",
    "lang_data['Language'] = lang_kind\n",
    "lang_data = pd.DataFrame(lang_data).sort_values(by='Percent')\n",
    "fig = px.bar(lang_data, x=\"Percent\", y=\"County\", color=\"Language\", title=\"Diversity in Language in WA Counties\", height=900)\n",
    "fig.show()"
   ]
  },
  {
   "cell_type": "code",
   "execution_count": 434,
   "metadata": {},
   "outputs": [
    {
     "data": {
      "application/vnd.plotly.v1+json": {
       "config": {
        "plotlyServerURL": "https://plot.ly"
       },
       "data": [
        {
         "hovertemplate": "Ancestrial Diversity=%{x}<br>Households that Speak Only English=%{y}<extra></extra>",
         "legendgroup": "",
         "marker": {
          "color": "#636efa",
          "symbol": "circle"
         },
         "mode": "markers",
         "name": "",
         "orientation": "h",
         "showlegend": false,
         "type": "scatter",
         "x": [
          0.40344211357595244,
          0.2288329519450801,
          0.4133689979807516,
          0.41342045171938235,
          0.3901797626300406,
          0.44604661824329167,
          0.4207069087766596,
          0.42100669188245565,
          0.42261298926347546,
          0.3837537811768735,
          0.431924882629108,
          0.2769340063563283,
          0.4219219219219219,
          0.33001081227192863,
          0.399161532109509,
          0.4374211505195937,
          0.48373271601076145,
          0.387860784327036,
          0.43611504104075,
          0.4249767008387698,
          0.45455415460439746,
          0.43462054059969357,
          0.4615009271006148,
          0.427706250324906,
          0.3938317917585407,
          0.42365866876878355,
          0.43404095591608627,
          0.39642066188002933,
          0.4610963087147861,
          0.4241186987964668,
          0.4563969136910102,
          0.40671231022338794,
          0.4503106033705159,
          0.4503578185407584,
          0.41851867220736927,
          0.42504816955684005,
          0.42068026957243126,
          0.4234632975569034,
          0.42932716751809796,
          0.2714413709734765
         ],
         "xaxis": "x",
         "y": [
          0.795,
          0.489,
          0.956,
          0.7859999999999999,
          0.7390000000000001,
          0.943,
          0.843,
          0.934,
          0.9229999999999999,
          0.715,
          0.963,
          0.509,
          0.963,
          0.645,
          0.9109999999999999,
          0.907,
          0.9420000000000001,
          0.706,
          0.9159999999999999,
          0.935,
          0.8740000000000001,
          0.9179999999999999,
          0.9670000000000001,
          0.9129999999999999,
          0.81,
          0.9009999999999999,
          0.982,
          0.843,
          0.934,
          0.833,
          0.9540000000000001,
          0.772,
          0.9279999999999999,
          0.9620000000000001,
          0.88,
          0.946,
          0.805,
          0.878,
          0.873,
          0.574
         ],
         "yaxis": "y"
        },
        {
         "hovertemplate": "<b>OLS trendline</b><br>english_only = 2.20645 * diversity_ratio + -0.0550222<br>R<sup>2</sup>=0.825389<br><br>Ancestrial Diversity=%{x}<br>Households that Speak Only English=%{y} <b>(trend)</b><extra></extra>",
         "legendgroup": "",
         "marker": {
          "color": "#636efa",
          "symbol": "circle"
         },
         "mode": "lines",
         "name": "",
         "showlegend": false,
         "type": "scatter",
         "x": [
          0.2288329519450801,
          0.2714413709734765,
          0.2769340063563283,
          0.33001081227192863,
          0.3837537811768735,
          0.387860784327036,
          0.3901797626300406,
          0.3938317917585407,
          0.39642066188002933,
          0.399161532109509,
          0.40344211357595244,
          0.40671231022338794,
          0.4133689979807516,
          0.41342045171938235,
          0.41851867220736927,
          0.42068026957243126,
          0.4207069087766596,
          0.42100669188245565,
          0.4219219219219219,
          0.42261298926347546,
          0.4234632975569034,
          0.42365866876878355,
          0.4241186987964668,
          0.4249767008387698,
          0.42504816955684005,
          0.427706250324906,
          0.42932716751809796,
          0.431924882629108,
          0.43404095591608627,
          0.43462054059969357,
          0.43611504104075,
          0.4374211505195937,
          0.44604661824329167,
          0.4503106033705159,
          0.4503578185407584,
          0.45455415460439746,
          0.4563969136910102,
          0.4610963087147861,
          0.4615009271006148,
          0.48373271601076145
         ],
         "xaxis": "x",
         "y": [
          0.44988555710178507,
          0.5438987640858972,
          0.5560179714846079,
          0.6731291165208351,
          0.7917101147088694,
          0.800771998393953,
          0.8058887004956372,
          0.8139467082368037,
          0.8196589122597759,
          0.8257064964245142,
          0.8351513714185594,
          0.8423668861291431,
          0.8570545130871994,
          0.8571680430207267,
          0.8684169949630254,
          0.8731864444082735,
          0.8732452223934257,
          0.8739066778479629,
          0.8759260841789296,
          0.8774508874573177,
          0.8793270474138057,
          0.8797581235860756,
          0.8807731553379619,
          0.8826662911415237,
          0.882823983061056,
          0.8886888966890911,
          0.8922653641352571,
          0.8979970841564666,
          0.9026660871483321,
          0.9039449098802546,
          0.9072424454966135,
          0.9101243064897804,
          0.9291559415735033,
          0.9385641976290906,
          0.9386683753872429,
          0.9479273673874593,
          0.9519933171547135,
          0.9623622819542736,
          0.9632550508699929,
          1.0123083088902862
         ],
         "yaxis": "y"
        }
       ],
       "layout": {
        "legend": {
         "tracegroupgap": 0
        },
        "template": {
         "data": {
          "bar": [
           {
            "error_x": {
             "color": "#2a3f5f"
            },
            "error_y": {
             "color": "#2a3f5f"
            },
            "marker": {
             "line": {
              "color": "#E5ECF6",
              "width": 0.5
             },
             "pattern": {
              "fillmode": "overlay",
              "size": 10,
              "solidity": 0.2
             }
            },
            "type": "bar"
           }
          ],
          "barpolar": [
           {
            "marker": {
             "line": {
              "color": "#E5ECF6",
              "width": 0.5
             },
             "pattern": {
              "fillmode": "overlay",
              "size": 10,
              "solidity": 0.2
             }
            },
            "type": "barpolar"
           }
          ],
          "carpet": [
           {
            "aaxis": {
             "endlinecolor": "#2a3f5f",
             "gridcolor": "white",
             "linecolor": "white",
             "minorgridcolor": "white",
             "startlinecolor": "#2a3f5f"
            },
            "baxis": {
             "endlinecolor": "#2a3f5f",
             "gridcolor": "white",
             "linecolor": "white",
             "minorgridcolor": "white",
             "startlinecolor": "#2a3f5f"
            },
            "type": "carpet"
           }
          ],
          "choropleth": [
           {
            "colorbar": {
             "outlinewidth": 0,
             "ticks": ""
            },
            "type": "choropleth"
           }
          ],
          "contour": [
           {
            "colorbar": {
             "outlinewidth": 0,
             "ticks": ""
            },
            "colorscale": [
             [
              0,
              "#0d0887"
             ],
             [
              0.1111111111111111,
              "#46039f"
             ],
             [
              0.2222222222222222,
              "#7201a8"
             ],
             [
              0.3333333333333333,
              "#9c179e"
             ],
             [
              0.4444444444444444,
              "#bd3786"
             ],
             [
              0.5555555555555556,
              "#d8576b"
             ],
             [
              0.6666666666666666,
              "#ed7953"
             ],
             [
              0.7777777777777778,
              "#fb9f3a"
             ],
             [
              0.8888888888888888,
              "#fdca26"
             ],
             [
              1,
              "#f0f921"
             ]
            ],
            "type": "contour"
           }
          ],
          "contourcarpet": [
           {
            "colorbar": {
             "outlinewidth": 0,
             "ticks": ""
            },
            "type": "contourcarpet"
           }
          ],
          "heatmap": [
           {
            "colorbar": {
             "outlinewidth": 0,
             "ticks": ""
            },
            "colorscale": [
             [
              0,
              "#0d0887"
             ],
             [
              0.1111111111111111,
              "#46039f"
             ],
             [
              0.2222222222222222,
              "#7201a8"
             ],
             [
              0.3333333333333333,
              "#9c179e"
             ],
             [
              0.4444444444444444,
              "#bd3786"
             ],
             [
              0.5555555555555556,
              "#d8576b"
             ],
             [
              0.6666666666666666,
              "#ed7953"
             ],
             [
              0.7777777777777778,
              "#fb9f3a"
             ],
             [
              0.8888888888888888,
              "#fdca26"
             ],
             [
              1,
              "#f0f921"
             ]
            ],
            "type": "heatmap"
           }
          ],
          "heatmapgl": [
           {
            "colorbar": {
             "outlinewidth": 0,
             "ticks": ""
            },
            "colorscale": [
             [
              0,
              "#0d0887"
             ],
             [
              0.1111111111111111,
              "#46039f"
             ],
             [
              0.2222222222222222,
              "#7201a8"
             ],
             [
              0.3333333333333333,
              "#9c179e"
             ],
             [
              0.4444444444444444,
              "#bd3786"
             ],
             [
              0.5555555555555556,
              "#d8576b"
             ],
             [
              0.6666666666666666,
              "#ed7953"
             ],
             [
              0.7777777777777778,
              "#fb9f3a"
             ],
             [
              0.8888888888888888,
              "#fdca26"
             ],
             [
              1,
              "#f0f921"
             ]
            ],
            "type": "heatmapgl"
           }
          ],
          "histogram": [
           {
            "marker": {
             "pattern": {
              "fillmode": "overlay",
              "size": 10,
              "solidity": 0.2
             }
            },
            "type": "histogram"
           }
          ],
          "histogram2d": [
           {
            "colorbar": {
             "outlinewidth": 0,
             "ticks": ""
            },
            "colorscale": [
             [
              0,
              "#0d0887"
             ],
             [
              0.1111111111111111,
              "#46039f"
             ],
             [
              0.2222222222222222,
              "#7201a8"
             ],
             [
              0.3333333333333333,
              "#9c179e"
             ],
             [
              0.4444444444444444,
              "#bd3786"
             ],
             [
              0.5555555555555556,
              "#d8576b"
             ],
             [
              0.6666666666666666,
              "#ed7953"
             ],
             [
              0.7777777777777778,
              "#fb9f3a"
             ],
             [
              0.8888888888888888,
              "#fdca26"
             ],
             [
              1,
              "#f0f921"
             ]
            ],
            "type": "histogram2d"
           }
          ],
          "histogram2dcontour": [
           {
            "colorbar": {
             "outlinewidth": 0,
             "ticks": ""
            },
            "colorscale": [
             [
              0,
              "#0d0887"
             ],
             [
              0.1111111111111111,
              "#46039f"
             ],
             [
              0.2222222222222222,
              "#7201a8"
             ],
             [
              0.3333333333333333,
              "#9c179e"
             ],
             [
              0.4444444444444444,
              "#bd3786"
             ],
             [
              0.5555555555555556,
              "#d8576b"
             ],
             [
              0.6666666666666666,
              "#ed7953"
             ],
             [
              0.7777777777777778,
              "#fb9f3a"
             ],
             [
              0.8888888888888888,
              "#fdca26"
             ],
             [
              1,
              "#f0f921"
             ]
            ],
            "type": "histogram2dcontour"
           }
          ],
          "mesh3d": [
           {
            "colorbar": {
             "outlinewidth": 0,
             "ticks": ""
            },
            "type": "mesh3d"
           }
          ],
          "parcoords": [
           {
            "line": {
             "colorbar": {
              "outlinewidth": 0,
              "ticks": ""
             }
            },
            "type": "parcoords"
           }
          ],
          "pie": [
           {
            "automargin": true,
            "type": "pie"
           }
          ],
          "scatter": [
           {
            "fillpattern": {
             "fillmode": "overlay",
             "size": 10,
             "solidity": 0.2
            },
            "type": "scatter"
           }
          ],
          "scatter3d": [
           {
            "line": {
             "colorbar": {
              "outlinewidth": 0,
              "ticks": ""
             }
            },
            "marker": {
             "colorbar": {
              "outlinewidth": 0,
              "ticks": ""
             }
            },
            "type": "scatter3d"
           }
          ],
          "scattercarpet": [
           {
            "marker": {
             "colorbar": {
              "outlinewidth": 0,
              "ticks": ""
             }
            },
            "type": "scattercarpet"
           }
          ],
          "scattergeo": [
           {
            "marker": {
             "colorbar": {
              "outlinewidth": 0,
              "ticks": ""
             }
            },
            "type": "scattergeo"
           }
          ],
          "scattergl": [
           {
            "marker": {
             "colorbar": {
              "outlinewidth": 0,
              "ticks": ""
             }
            },
            "type": "scattergl"
           }
          ],
          "scattermapbox": [
           {
            "marker": {
             "colorbar": {
              "outlinewidth": 0,
              "ticks": ""
             }
            },
            "type": "scattermapbox"
           }
          ],
          "scatterpolar": [
           {
            "marker": {
             "colorbar": {
              "outlinewidth": 0,
              "ticks": ""
             }
            },
            "type": "scatterpolar"
           }
          ],
          "scatterpolargl": [
           {
            "marker": {
             "colorbar": {
              "outlinewidth": 0,
              "ticks": ""
             }
            },
            "type": "scatterpolargl"
           }
          ],
          "scatterternary": [
           {
            "marker": {
             "colorbar": {
              "outlinewidth": 0,
              "ticks": ""
             }
            },
            "type": "scatterternary"
           }
          ],
          "surface": [
           {
            "colorbar": {
             "outlinewidth": 0,
             "ticks": ""
            },
            "colorscale": [
             [
              0,
              "#0d0887"
             ],
             [
              0.1111111111111111,
              "#46039f"
             ],
             [
              0.2222222222222222,
              "#7201a8"
             ],
             [
              0.3333333333333333,
              "#9c179e"
             ],
             [
              0.4444444444444444,
              "#bd3786"
             ],
             [
              0.5555555555555556,
              "#d8576b"
             ],
             [
              0.6666666666666666,
              "#ed7953"
             ],
             [
              0.7777777777777778,
              "#fb9f3a"
             ],
             [
              0.8888888888888888,
              "#fdca26"
             ],
             [
              1,
              "#f0f921"
             ]
            ],
            "type": "surface"
           }
          ],
          "table": [
           {
            "cells": {
             "fill": {
              "color": "#EBF0F8"
             },
             "line": {
              "color": "white"
             }
            },
            "header": {
             "fill": {
              "color": "#C8D4E3"
             },
             "line": {
              "color": "white"
             }
            },
            "type": "table"
           }
          ]
         },
         "layout": {
          "annotationdefaults": {
           "arrowcolor": "#2a3f5f",
           "arrowhead": 0,
           "arrowwidth": 1
          },
          "autotypenumbers": "strict",
          "coloraxis": {
           "colorbar": {
            "outlinewidth": 0,
            "ticks": ""
           }
          },
          "colorscale": {
           "diverging": [
            [
             0,
             "#8e0152"
            ],
            [
             0.1,
             "#c51b7d"
            ],
            [
             0.2,
             "#de77ae"
            ],
            [
             0.3,
             "#f1b6da"
            ],
            [
             0.4,
             "#fde0ef"
            ],
            [
             0.5,
             "#f7f7f7"
            ],
            [
             0.6,
             "#e6f5d0"
            ],
            [
             0.7,
             "#b8e186"
            ],
            [
             0.8,
             "#7fbc41"
            ],
            [
             0.9,
             "#4d9221"
            ],
            [
             1,
             "#276419"
            ]
           ],
           "sequential": [
            [
             0,
             "#0d0887"
            ],
            [
             0.1111111111111111,
             "#46039f"
            ],
            [
             0.2222222222222222,
             "#7201a8"
            ],
            [
             0.3333333333333333,
             "#9c179e"
            ],
            [
             0.4444444444444444,
             "#bd3786"
            ],
            [
             0.5555555555555556,
             "#d8576b"
            ],
            [
             0.6666666666666666,
             "#ed7953"
            ],
            [
             0.7777777777777778,
             "#fb9f3a"
            ],
            [
             0.8888888888888888,
             "#fdca26"
            ],
            [
             1,
             "#f0f921"
            ]
           ],
           "sequentialminus": [
            [
             0,
             "#0d0887"
            ],
            [
             0.1111111111111111,
             "#46039f"
            ],
            [
             0.2222222222222222,
             "#7201a8"
            ],
            [
             0.3333333333333333,
             "#9c179e"
            ],
            [
             0.4444444444444444,
             "#bd3786"
            ],
            [
             0.5555555555555556,
             "#d8576b"
            ],
            [
             0.6666666666666666,
             "#ed7953"
            ],
            [
             0.7777777777777778,
             "#fb9f3a"
            ],
            [
             0.8888888888888888,
             "#fdca26"
            ],
            [
             1,
             "#f0f921"
            ]
           ]
          },
          "colorway": [
           "#636efa",
           "#EF553B",
           "#00cc96",
           "#ab63fa",
           "#FFA15A",
           "#19d3f3",
           "#FF6692",
           "#B6E880",
           "#FF97FF",
           "#FECB52"
          ],
          "font": {
           "color": "#2a3f5f"
          },
          "geo": {
           "bgcolor": "white",
           "lakecolor": "white",
           "landcolor": "#E5ECF6",
           "showlakes": true,
           "showland": true,
           "subunitcolor": "white"
          },
          "hoverlabel": {
           "align": "left"
          },
          "hovermode": "closest",
          "mapbox": {
           "style": "light"
          },
          "paper_bgcolor": "white",
          "plot_bgcolor": "#E5ECF6",
          "polar": {
           "angularaxis": {
            "gridcolor": "white",
            "linecolor": "white",
            "ticks": ""
           },
           "bgcolor": "#E5ECF6",
           "radialaxis": {
            "gridcolor": "white",
            "linecolor": "white",
            "ticks": ""
           }
          },
          "scene": {
           "xaxis": {
            "backgroundcolor": "#E5ECF6",
            "gridcolor": "white",
            "gridwidth": 2,
            "linecolor": "white",
            "showbackground": true,
            "ticks": "",
            "zerolinecolor": "white"
           },
           "yaxis": {
            "backgroundcolor": "#E5ECF6",
            "gridcolor": "white",
            "gridwidth": 2,
            "linecolor": "white",
            "showbackground": true,
            "ticks": "",
            "zerolinecolor": "white"
           },
           "zaxis": {
            "backgroundcolor": "#E5ECF6",
            "gridcolor": "white",
            "gridwidth": 2,
            "linecolor": "white",
            "showbackground": true,
            "ticks": "",
            "zerolinecolor": "white"
           }
          },
          "shapedefaults": {
           "line": {
            "color": "#2a3f5f"
           }
          },
          "ternary": {
           "aaxis": {
            "gridcolor": "white",
            "linecolor": "white",
            "ticks": ""
           },
           "baxis": {
            "gridcolor": "white",
            "linecolor": "white",
            "ticks": ""
           },
           "bgcolor": "#E5ECF6",
           "caxis": {
            "gridcolor": "white",
            "linecolor": "white",
            "ticks": ""
           }
          },
          "title": {
           "x": 0.05
          },
          "xaxis": {
           "automargin": true,
           "gridcolor": "white",
           "linecolor": "white",
           "ticks": "",
           "title": {
            "standoff": 15
           },
           "zerolinecolor": "white",
           "zerolinewidth": 2
          },
          "yaxis": {
           "automargin": true,
           "gridcolor": "white",
           "linecolor": "white",
           "ticks": "",
           "title": {
            "standoff": 15
           },
           "zerolinecolor": "white",
           "zerolinewidth": 2
          }
         }
        },
        "title": {
         "text": "English only being spoken in Various Ancestrially Diverse Household by WA Counties"
        },
        "xaxis": {
         "anchor": "y",
         "domain": [
          0,
          1
         ],
         "title": {
          "text": "Ancestrial Diversity"
         }
        },
        "yaxis": {
         "anchor": "x",
         "domain": [
          0,
          1
         ],
         "title": {
          "text": "Households that Speak Only English"
         }
        }
       }
      },
      "text/html": [
       "<div>                            <div id=\"987ee159-31cf-4347-9efb-2e0af8ecafe3\" class=\"plotly-graph-div\" style=\"height:525px; width:100%;\"></div>            <script type=\"text/javascript\">                require([\"plotly\"], function(Plotly) {                    window.PLOTLYENV=window.PLOTLYENV || {};                                    if (document.getElementById(\"987ee159-31cf-4347-9efb-2e0af8ecafe3\")) {                    Plotly.newPlot(                        \"987ee159-31cf-4347-9efb-2e0af8ecafe3\",                        [{\"hovertemplate\":\"Ancestrial Diversity=%{x}\\u003cbr\\u003eHouseholds that Speak Only English=%{y}\\u003cextra\\u003e\\u003c\\u002fextra\\u003e\",\"legendgroup\":\"\",\"marker\":{\"color\":\"#636efa\",\"symbol\":\"circle\"},\"mode\":\"markers\",\"name\":\"\",\"orientation\":\"h\",\"showlegend\":false,\"x\":[0.40344211357595244,0.2288329519450801,0.4133689979807516,0.41342045171938235,0.3901797626300406,0.44604661824329167,0.4207069087766596,0.42100669188245565,0.42261298926347546,0.3837537811768735,0.431924882629108,0.2769340063563283,0.4219219219219219,0.33001081227192863,0.399161532109509,0.4374211505195937,0.48373271601076145,0.387860784327036,0.43611504104075,0.4249767008387698,0.45455415460439746,0.43462054059969357,0.4615009271006148,0.427706250324906,0.3938317917585407,0.42365866876878355,0.43404095591608627,0.39642066188002933,0.4610963087147861,0.4241186987964668,0.4563969136910102,0.40671231022338794,0.4503106033705159,0.4503578185407584,0.41851867220736927,0.42504816955684005,0.42068026957243126,0.4234632975569034,0.42932716751809796,0.2714413709734765],\"xaxis\":\"x\",\"y\":[0.795,0.489,0.956,0.7859999999999999,0.7390000000000001,0.943,0.843,0.934,0.9229999999999999,0.715,0.963,0.509,0.963,0.645,0.9109999999999999,0.907,0.9420000000000001,0.706,0.9159999999999999,0.935,0.8740000000000001,0.9179999999999999,0.9670000000000001,0.9129999999999999,0.81,0.9009999999999999,0.982,0.843,0.934,0.833,0.9540000000000001,0.772,0.9279999999999999,0.9620000000000001,0.88,0.946,0.805,0.878,0.873,0.574],\"yaxis\":\"y\",\"type\":\"scatter\"},{\"hovertemplate\":\"\\u003cb\\u003eOLS trendline\\u003c\\u002fb\\u003e\\u003cbr\\u003eenglish_only = 2.20645 * diversity_ratio + -0.0550222\\u003cbr\\u003eR\\u003csup\\u003e2\\u003c\\u002fsup\\u003e=0.825389\\u003cbr\\u003e\\u003cbr\\u003eAncestrial Diversity=%{x}\\u003cbr\\u003eHouseholds that Speak Only English=%{y} \\u003cb\\u003e(trend)\\u003c\\u002fb\\u003e\\u003cextra\\u003e\\u003c\\u002fextra\\u003e\",\"legendgroup\":\"\",\"marker\":{\"color\":\"#636efa\",\"symbol\":\"circle\"},\"mode\":\"lines\",\"name\":\"\",\"showlegend\":false,\"x\":[0.2288329519450801,0.2714413709734765,0.2769340063563283,0.33001081227192863,0.3837537811768735,0.387860784327036,0.3901797626300406,0.3938317917585407,0.39642066188002933,0.399161532109509,0.40344211357595244,0.40671231022338794,0.4133689979807516,0.41342045171938235,0.41851867220736927,0.42068026957243126,0.4207069087766596,0.42100669188245565,0.4219219219219219,0.42261298926347546,0.4234632975569034,0.42365866876878355,0.4241186987964668,0.4249767008387698,0.42504816955684005,0.427706250324906,0.42932716751809796,0.431924882629108,0.43404095591608627,0.43462054059969357,0.43611504104075,0.4374211505195937,0.44604661824329167,0.4503106033705159,0.4503578185407584,0.45455415460439746,0.4563969136910102,0.4610963087147861,0.4615009271006148,0.48373271601076145],\"xaxis\":\"x\",\"y\":[0.44988555710178507,0.5438987640858972,0.5560179714846079,0.6731291165208351,0.7917101147088694,0.800771998393953,0.8058887004956372,0.8139467082368037,0.8196589122597759,0.8257064964245142,0.8351513714185594,0.8423668861291431,0.8570545130871994,0.8571680430207267,0.8684169949630254,0.8731864444082735,0.8732452223934257,0.8739066778479629,0.8759260841789296,0.8774508874573177,0.8793270474138057,0.8797581235860756,0.8807731553379619,0.8826662911415237,0.882823983061056,0.8886888966890911,0.8922653641352571,0.8979970841564666,0.9026660871483321,0.9039449098802546,0.9072424454966135,0.9101243064897804,0.9291559415735033,0.9385641976290906,0.9386683753872429,0.9479273673874593,0.9519933171547135,0.9623622819542736,0.9632550508699929,1.0123083088902862],\"yaxis\":\"y\",\"type\":\"scatter\"}],                        {\"template\":{\"data\":{\"histogram2dcontour\":[{\"type\":\"histogram2dcontour\",\"colorbar\":{\"outlinewidth\":0,\"ticks\":\"\"},\"colorscale\":[[0.0,\"#0d0887\"],[0.1111111111111111,\"#46039f\"],[0.2222222222222222,\"#7201a8\"],[0.3333333333333333,\"#9c179e\"],[0.4444444444444444,\"#bd3786\"],[0.5555555555555556,\"#d8576b\"],[0.6666666666666666,\"#ed7953\"],[0.7777777777777778,\"#fb9f3a\"],[0.8888888888888888,\"#fdca26\"],[1.0,\"#f0f921\"]]}],\"choropleth\":[{\"type\":\"choropleth\",\"colorbar\":{\"outlinewidth\":0,\"ticks\":\"\"}}],\"histogram2d\":[{\"type\":\"histogram2d\",\"colorbar\":{\"outlinewidth\":0,\"ticks\":\"\"},\"colorscale\":[[0.0,\"#0d0887\"],[0.1111111111111111,\"#46039f\"],[0.2222222222222222,\"#7201a8\"],[0.3333333333333333,\"#9c179e\"],[0.4444444444444444,\"#bd3786\"],[0.5555555555555556,\"#d8576b\"],[0.6666666666666666,\"#ed7953\"],[0.7777777777777778,\"#fb9f3a\"],[0.8888888888888888,\"#fdca26\"],[1.0,\"#f0f921\"]]}],\"heatmap\":[{\"type\":\"heatmap\",\"colorbar\":{\"outlinewidth\":0,\"ticks\":\"\"},\"colorscale\":[[0.0,\"#0d0887\"],[0.1111111111111111,\"#46039f\"],[0.2222222222222222,\"#7201a8\"],[0.3333333333333333,\"#9c179e\"],[0.4444444444444444,\"#bd3786\"],[0.5555555555555556,\"#d8576b\"],[0.6666666666666666,\"#ed7953\"],[0.7777777777777778,\"#fb9f3a\"],[0.8888888888888888,\"#fdca26\"],[1.0,\"#f0f921\"]]}],\"heatmapgl\":[{\"type\":\"heatmapgl\",\"colorbar\":{\"outlinewidth\":0,\"ticks\":\"\"},\"colorscale\":[[0.0,\"#0d0887\"],[0.1111111111111111,\"#46039f\"],[0.2222222222222222,\"#7201a8\"],[0.3333333333333333,\"#9c179e\"],[0.4444444444444444,\"#bd3786\"],[0.5555555555555556,\"#d8576b\"],[0.6666666666666666,\"#ed7953\"],[0.7777777777777778,\"#fb9f3a\"],[0.8888888888888888,\"#fdca26\"],[1.0,\"#f0f921\"]]}],\"contourcarpet\":[{\"type\":\"contourcarpet\",\"colorbar\":{\"outlinewidth\":0,\"ticks\":\"\"}}],\"contour\":[{\"type\":\"contour\",\"colorbar\":{\"outlinewidth\":0,\"ticks\":\"\"},\"colorscale\":[[0.0,\"#0d0887\"],[0.1111111111111111,\"#46039f\"],[0.2222222222222222,\"#7201a8\"],[0.3333333333333333,\"#9c179e\"],[0.4444444444444444,\"#bd3786\"],[0.5555555555555556,\"#d8576b\"],[0.6666666666666666,\"#ed7953\"],[0.7777777777777778,\"#fb9f3a\"],[0.8888888888888888,\"#fdca26\"],[1.0,\"#f0f921\"]]}],\"surface\":[{\"type\":\"surface\",\"colorbar\":{\"outlinewidth\":0,\"ticks\":\"\"},\"colorscale\":[[0.0,\"#0d0887\"],[0.1111111111111111,\"#46039f\"],[0.2222222222222222,\"#7201a8\"],[0.3333333333333333,\"#9c179e\"],[0.4444444444444444,\"#bd3786\"],[0.5555555555555556,\"#d8576b\"],[0.6666666666666666,\"#ed7953\"],[0.7777777777777778,\"#fb9f3a\"],[0.8888888888888888,\"#fdca26\"],[1.0,\"#f0f921\"]]}],\"mesh3d\":[{\"type\":\"mesh3d\",\"colorbar\":{\"outlinewidth\":0,\"ticks\":\"\"}}],\"scatter\":[{\"fillpattern\":{\"fillmode\":\"overlay\",\"size\":10,\"solidity\":0.2},\"type\":\"scatter\"}],\"parcoords\":[{\"type\":\"parcoords\",\"line\":{\"colorbar\":{\"outlinewidth\":0,\"ticks\":\"\"}}}],\"scatterpolargl\":[{\"type\":\"scatterpolargl\",\"marker\":{\"colorbar\":{\"outlinewidth\":0,\"ticks\":\"\"}}}],\"bar\":[{\"error_x\":{\"color\":\"#2a3f5f\"},\"error_y\":{\"color\":\"#2a3f5f\"},\"marker\":{\"line\":{\"color\":\"#E5ECF6\",\"width\":0.5},\"pattern\":{\"fillmode\":\"overlay\",\"size\":10,\"solidity\":0.2}},\"type\":\"bar\"}],\"scattergeo\":[{\"type\":\"scattergeo\",\"marker\":{\"colorbar\":{\"outlinewidth\":0,\"ticks\":\"\"}}}],\"scatterpolar\":[{\"type\":\"scatterpolar\",\"marker\":{\"colorbar\":{\"outlinewidth\":0,\"ticks\":\"\"}}}],\"histogram\":[{\"marker\":{\"pattern\":{\"fillmode\":\"overlay\",\"size\":10,\"solidity\":0.2}},\"type\":\"histogram\"}],\"scattergl\":[{\"type\":\"scattergl\",\"marker\":{\"colorbar\":{\"outlinewidth\":0,\"ticks\":\"\"}}}],\"scatter3d\":[{\"type\":\"scatter3d\",\"line\":{\"colorbar\":{\"outlinewidth\":0,\"ticks\":\"\"}},\"marker\":{\"colorbar\":{\"outlinewidth\":0,\"ticks\":\"\"}}}],\"scattermapbox\":[{\"type\":\"scattermapbox\",\"marker\":{\"colorbar\":{\"outlinewidth\":0,\"ticks\":\"\"}}}],\"scatterternary\":[{\"type\":\"scatterternary\",\"marker\":{\"colorbar\":{\"outlinewidth\":0,\"ticks\":\"\"}}}],\"scattercarpet\":[{\"type\":\"scattercarpet\",\"marker\":{\"colorbar\":{\"outlinewidth\":0,\"ticks\":\"\"}}}],\"carpet\":[{\"aaxis\":{\"endlinecolor\":\"#2a3f5f\",\"gridcolor\":\"white\",\"linecolor\":\"white\",\"minorgridcolor\":\"white\",\"startlinecolor\":\"#2a3f5f\"},\"baxis\":{\"endlinecolor\":\"#2a3f5f\",\"gridcolor\":\"white\",\"linecolor\":\"white\",\"minorgridcolor\":\"white\",\"startlinecolor\":\"#2a3f5f\"},\"type\":\"carpet\"}],\"table\":[{\"cells\":{\"fill\":{\"color\":\"#EBF0F8\"},\"line\":{\"color\":\"white\"}},\"header\":{\"fill\":{\"color\":\"#C8D4E3\"},\"line\":{\"color\":\"white\"}},\"type\":\"table\"}],\"barpolar\":[{\"marker\":{\"line\":{\"color\":\"#E5ECF6\",\"width\":0.5},\"pattern\":{\"fillmode\":\"overlay\",\"size\":10,\"solidity\":0.2}},\"type\":\"barpolar\"}],\"pie\":[{\"automargin\":true,\"type\":\"pie\"}]},\"layout\":{\"autotypenumbers\":\"strict\",\"colorway\":[\"#636efa\",\"#EF553B\",\"#00cc96\",\"#ab63fa\",\"#FFA15A\",\"#19d3f3\",\"#FF6692\",\"#B6E880\",\"#FF97FF\",\"#FECB52\"],\"font\":{\"color\":\"#2a3f5f\"},\"hovermode\":\"closest\",\"hoverlabel\":{\"align\":\"left\"},\"paper_bgcolor\":\"white\",\"plot_bgcolor\":\"#E5ECF6\",\"polar\":{\"bgcolor\":\"#E5ECF6\",\"angularaxis\":{\"gridcolor\":\"white\",\"linecolor\":\"white\",\"ticks\":\"\"},\"radialaxis\":{\"gridcolor\":\"white\",\"linecolor\":\"white\",\"ticks\":\"\"}},\"ternary\":{\"bgcolor\":\"#E5ECF6\",\"aaxis\":{\"gridcolor\":\"white\",\"linecolor\":\"white\",\"ticks\":\"\"},\"baxis\":{\"gridcolor\":\"white\",\"linecolor\":\"white\",\"ticks\":\"\"},\"caxis\":{\"gridcolor\":\"white\",\"linecolor\":\"white\",\"ticks\":\"\"}},\"coloraxis\":{\"colorbar\":{\"outlinewidth\":0,\"ticks\":\"\"}},\"colorscale\":{\"sequential\":[[0.0,\"#0d0887\"],[0.1111111111111111,\"#46039f\"],[0.2222222222222222,\"#7201a8\"],[0.3333333333333333,\"#9c179e\"],[0.4444444444444444,\"#bd3786\"],[0.5555555555555556,\"#d8576b\"],[0.6666666666666666,\"#ed7953\"],[0.7777777777777778,\"#fb9f3a\"],[0.8888888888888888,\"#fdca26\"],[1.0,\"#f0f921\"]],\"sequentialminus\":[[0.0,\"#0d0887\"],[0.1111111111111111,\"#46039f\"],[0.2222222222222222,\"#7201a8\"],[0.3333333333333333,\"#9c179e\"],[0.4444444444444444,\"#bd3786\"],[0.5555555555555556,\"#d8576b\"],[0.6666666666666666,\"#ed7953\"],[0.7777777777777778,\"#fb9f3a\"],[0.8888888888888888,\"#fdca26\"],[1.0,\"#f0f921\"]],\"diverging\":[[0,\"#8e0152\"],[0.1,\"#c51b7d\"],[0.2,\"#de77ae\"],[0.3,\"#f1b6da\"],[0.4,\"#fde0ef\"],[0.5,\"#f7f7f7\"],[0.6,\"#e6f5d0\"],[0.7,\"#b8e186\"],[0.8,\"#7fbc41\"],[0.9,\"#4d9221\"],[1,\"#276419\"]]},\"xaxis\":{\"gridcolor\":\"white\",\"linecolor\":\"white\",\"ticks\":\"\",\"title\":{\"standoff\":15},\"zerolinecolor\":\"white\",\"automargin\":true,\"zerolinewidth\":2},\"yaxis\":{\"gridcolor\":\"white\",\"linecolor\":\"white\",\"ticks\":\"\",\"title\":{\"standoff\":15},\"zerolinecolor\":\"white\",\"automargin\":true,\"zerolinewidth\":2},\"scene\":{\"xaxis\":{\"backgroundcolor\":\"#E5ECF6\",\"gridcolor\":\"white\",\"linecolor\":\"white\",\"showbackground\":true,\"ticks\":\"\",\"zerolinecolor\":\"white\",\"gridwidth\":2},\"yaxis\":{\"backgroundcolor\":\"#E5ECF6\",\"gridcolor\":\"white\",\"linecolor\":\"white\",\"showbackground\":true,\"ticks\":\"\",\"zerolinecolor\":\"white\",\"gridwidth\":2},\"zaxis\":{\"backgroundcolor\":\"#E5ECF6\",\"gridcolor\":\"white\",\"linecolor\":\"white\",\"showbackground\":true,\"ticks\":\"\",\"zerolinecolor\":\"white\",\"gridwidth\":2}},\"shapedefaults\":{\"line\":{\"color\":\"#2a3f5f\"}},\"annotationdefaults\":{\"arrowcolor\":\"#2a3f5f\",\"arrowhead\":0,\"arrowwidth\":1},\"geo\":{\"bgcolor\":\"white\",\"landcolor\":\"#E5ECF6\",\"subunitcolor\":\"white\",\"showland\":true,\"showlakes\":true,\"lakecolor\":\"white\"},\"title\":{\"x\":0.05},\"mapbox\":{\"style\":\"light\"}}},\"xaxis\":{\"anchor\":\"y\",\"domain\":[0.0,1.0],\"title\":{\"text\":\"Ancestrial Diversity\"}},\"yaxis\":{\"anchor\":\"x\",\"domain\":[0.0,1.0],\"title\":{\"text\":\"Households that Speak Only English\"}},\"legend\":{\"tracegroupgap\":0},\"title\":{\"text\":\"English only being spoken in Various Ancestrially Diverse Household by WA Counties\"}},                        {\"responsive\": true}                    ).then(function(){\n",
       "                            \n",
       "var gd = document.getElementById('987ee159-31cf-4347-9efb-2e0af8ecafe3');\n",
       "var x = new MutationObserver(function (mutations, observer) {{\n",
       "        var display = window.getComputedStyle(gd).display;\n",
       "        if (!display || display === 'none') {{\n",
       "            console.log([gd, 'removed!']);\n",
       "            Plotly.purge(gd);\n",
       "            observer.disconnect();\n",
       "        }}\n",
       "}});\n",
       "\n",
       "// Listen for the removal of the full notebook cells\n",
       "var notebookContainer = gd.closest('#notebook-container');\n",
       "if (notebookContainer) {{\n",
       "    x.observe(notebookContainer, {childList: true});\n",
       "}}\n",
       "\n",
       "// Listen for the clearing of the current output cell\n",
       "var outputEl = gd.closest('.output');\n",
       "if (outputEl) {{\n",
       "    x.observe(outputEl, {childList: true});\n",
       "}}\n",
       "\n",
       "                        })                };                });            </script>        </div>"
      ]
     },
     "metadata": {},
     "output_type": "display_data"
    }
   ],
   "source": [
    "# let's test the strength of the relationships of the two variables: \n",
    "# diversity in each county and english only being spoken in households\n",
    "fig = px.scatter(diverse_lang, x='diversity_ratio', y='english_only', trendline='ols', \n",
    "                    title='English only being spoken in Various Ancestrially Diverse Household by WA Counties',\n",
    "                    labels=dict(diversity_ratio=\"Ancestrial Diversity\", english_only=\"Households that Speak Only English\"))\n",
    "fig.show()"
   ]
  },
  {
   "cell_type": "code",
   "execution_count": 432,
   "metadata": {},
   "outputs": [
    {
     "data": {
      "text/html": [
       "<table class=\"simpletable\">\n",
       "<caption>OLS Regression Results</caption>\n",
       "<tr>\n",
       "  <th>Dep. Variable:</th>     <td>diversity_ratio</td> <th>  R-squared:         </th> <td>   0.825</td>\n",
       "</tr>\n",
       "<tr>\n",
       "  <th>Model:</th>                   <td>OLS</td>       <th>  Adj. R-squared:    </th> <td>   0.821</td>\n",
       "</tr>\n",
       "<tr>\n",
       "  <th>Method:</th>             <td>Least Squares</td>  <th>  F-statistic:       </th> <td>   179.6</td>\n",
       "</tr>\n",
       "<tr>\n",
       "  <th>Date:</th>             <td>Fri, 08 Mar 2024</td> <th>  Prob (F-statistic):</th> <td>5.60e-16</td>\n",
       "</tr>\n",
       "<tr>\n",
       "  <th>Time:</th>                 <td>08:14:58</td>     <th>  Log-Likelihood:    </th> <td>  97.342</td>\n",
       "</tr>\n",
       "<tr>\n",
       "  <th>No. Observations:</th>      <td>    40</td>      <th>  AIC:               </th> <td>  -190.7</td>\n",
       "</tr>\n",
       "<tr>\n",
       "  <th>Df Residuals:</th>          <td>    38</td>      <th>  BIC:               </th> <td>  -187.3</td>\n",
       "</tr>\n",
       "<tr>\n",
       "  <th>Df Model:</th>              <td>     1</td>      <th>                     </th>     <td> </td>   \n",
       "</tr>\n",
       "<tr>\n",
       "  <th>Covariance Type:</th>      <td>nonrobust</td>    <th>                     </th>     <td> </td>   \n",
       "</tr>\n",
       "</table>\n",
       "<table class=\"simpletable\">\n",
       "<tr>\n",
       "        <td></td>          <th>coef</th>     <th>std err</th>      <th>t</th>      <th>P>|t|</th>  <th>[0.025</th>    <th>0.975]</th>  \n",
       "</tr>\n",
       "<tr>\n",
       "  <th>const</th>        <td>    0.0923</td> <td>    0.024</td> <td>    3.844</td> <td> 0.000</td> <td>    0.044</td> <td>    0.141</td>\n",
       "</tr>\n",
       "<tr>\n",
       "  <th>english_only</th> <td>    0.3741</td> <td>    0.028</td> <td>   13.402</td> <td> 0.000</td> <td>    0.318</td> <td>    0.431</td>\n",
       "</tr>\n",
       "</table>\n",
       "<table class=\"simpletable\">\n",
       "<tr>\n",
       "  <th>Omnibus:</th>       <td> 1.260</td> <th>  Durbin-Watson:     </th> <td>   1.763</td>\n",
       "</tr>\n",
       "<tr>\n",
       "  <th>Prob(Omnibus):</th> <td> 0.533</td> <th>  Jarque-Bera (JB):  </th> <td>   1.089</td>\n",
       "</tr>\n",
       "<tr>\n",
       "  <th>Skew:</th>          <td>-0.205</td> <th>  Prob(JB):          </th> <td>   0.580</td>\n",
       "</tr>\n",
       "<tr>\n",
       "  <th>Kurtosis:</th>      <td> 2.304</td> <th>  Cond. No.          </th> <td>    14.0</td>\n",
       "</tr>\n",
       "</table><br/><br/>Notes:<br/>[1] Standard Errors assume that the covariance matrix of the errors is correctly specified."
      ],
      "text/latex": [
       "\\begin{center}\n",
       "\\begin{tabular}{lclc}\n",
       "\\toprule\n",
       "\\textbf{Dep. Variable:}    & diversity\\_ratio & \\textbf{  R-squared:         } &     0.825   \\\\\n",
       "\\textbf{Model:}            &       OLS        & \\textbf{  Adj. R-squared:    } &     0.821   \\\\\n",
       "\\textbf{Method:}           &  Least Squares   & \\textbf{  F-statistic:       } &     179.6   \\\\\n",
       "\\textbf{Date:}             & Fri, 08 Mar 2024 & \\textbf{  Prob (F-statistic):} &  5.60e-16   \\\\\n",
       "\\textbf{Time:}             &     08:14:58     & \\textbf{  Log-Likelihood:    } &    97.342   \\\\\n",
       "\\textbf{No. Observations:} &          40      & \\textbf{  AIC:               } &    -190.7   \\\\\n",
       "\\textbf{Df Residuals:}     &          38      & \\textbf{  BIC:               } &    -187.3   \\\\\n",
       "\\textbf{Df Model:}         &           1      & \\textbf{                     } &             \\\\\n",
       "\\textbf{Covariance Type:}  &    nonrobust     & \\textbf{                     } &             \\\\\n",
       "\\bottomrule\n",
       "\\end{tabular}\n",
       "\\begin{tabular}{lcccccc}\n",
       "                       & \\textbf{coef} & \\textbf{std err} & \\textbf{t} & \\textbf{P$> |$t$|$} & \\textbf{[0.025} & \\textbf{0.975]}  \\\\\n",
       "\\midrule\n",
       "\\textbf{const}         &       0.0923  &        0.024     &     3.844  &         0.000        &        0.044    &        0.141     \\\\\n",
       "\\textbf{english\\_only} &       0.3741  &        0.028     &    13.402  &         0.000        &        0.318    &        0.431     \\\\\n",
       "\\bottomrule\n",
       "\\end{tabular}\n",
       "\\begin{tabular}{lclc}\n",
       "\\textbf{Omnibus:}       &  1.260 & \\textbf{  Durbin-Watson:     } &    1.763  \\\\\n",
       "\\textbf{Prob(Omnibus):} &  0.533 & \\textbf{  Jarque-Bera (JB):  } &    1.089  \\\\\n",
       "\\textbf{Skew:}          & -0.205 & \\textbf{  Prob(JB):          } &    0.580  \\\\\n",
       "\\textbf{Kurtosis:}      &  2.304 & \\textbf{  Cond. No.          } &     14.0  \\\\\n",
       "\\bottomrule\n",
       "\\end{tabular}\n",
       "%\\caption{OLS Regression Results}\n",
       "\\end{center}\n",
       "\n",
       "Notes: \\newline\n",
       " [1] Standard Errors assume that the covariance matrix of the errors is correctly specified."
      ],
      "text/plain": [
       "<class 'statsmodels.iolib.summary.Summary'>\n",
       "\"\"\"\n",
       "                            OLS Regression Results                            \n",
       "==============================================================================\n",
       "Dep. Variable:        diversity_ratio   R-squared:                       0.825\n",
       "Model:                            OLS   Adj. R-squared:                  0.821\n",
       "Method:                 Least Squares   F-statistic:                     179.6\n",
       "Date:                Fri, 08 Mar 2024   Prob (F-statistic):           5.60e-16\n",
       "Time:                        08:14:58   Log-Likelihood:                 97.342\n",
       "No. Observations:                  40   AIC:                            -190.7\n",
       "Df Residuals:                      38   BIC:                            -187.3\n",
       "Df Model:                           1                                         \n",
       "Covariance Type:            nonrobust                                         \n",
       "================================================================================\n",
       "                   coef    std err          t      P>|t|      [0.025      0.975]\n",
       "--------------------------------------------------------------------------------\n",
       "const            0.0923      0.024      3.844      0.000       0.044       0.141\n",
       "english_only     0.3741      0.028     13.402      0.000       0.318       0.431\n",
       "==============================================================================\n",
       "Omnibus:                        1.260   Durbin-Watson:                   1.763\n",
       "Prob(Omnibus):                  0.533   Jarque-Bera (JB):                1.089\n",
       "Skew:                          -0.205   Prob(JB):                        0.580\n",
       "Kurtosis:                       2.304   Cond. No.                         14.0\n",
       "==============================================================================\n",
       "\n",
       "Notes:\n",
       "[1] Standard Errors assume that the covariance matrix of the errors is correctly specified.\n",
       "\"\"\""
      ]
     },
     "execution_count": 432,
     "metadata": {},
     "output_type": "execute_result"
    }
   ],
   "source": [
    "X = diverse_lang['english_only']\n",
    "Y = diverse_lang['diversity_ratio']\n",
    "X = sm.add_constant(X)\n",
    "m = sm.OLS(Y.astype(float), X.astype(float))\n",
    "\n",
    "r = m.fit()\n",
    "r.summary()"
   ]
  }
 ],
 "metadata": {
  "kernelspec": {
   "display_name": "Python 3",
   "language": "python",
   "name": "python3"
  },
  "language_info": {
   "codemirror_mode": {
    "name": "ipython",
    "version": 3
   },
   "file_extension": ".py",
   "mimetype": "text/x-python",
   "name": "python",
   "nbconvert_exporter": "python",
   "pygments_lexer": "ipython3",
   "version": "3.10.13"
  }
 },
 "nbformat": 4,
 "nbformat_minor": 2
}
